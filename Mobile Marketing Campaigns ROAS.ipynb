{
 "cells": [
  {
   "cell_type": "markdown",
   "metadata": {},
   "source": [
    "# **Mobile Marketing Campaigns: Return On Ad Spend (ROAS)**\n",
    "### An exploratory marketing data analysis to monitor and evaluate the performance of the mobile marketing campaigns (EDA)"
   ]
  },
  {
   "cell_type": "markdown",
   "metadata": {},
   "source": [
    "The dataset contains information collected during the 1 month since each activation, of some marketing campaigns (Vungle and Facebook partners), implemented to get users to install and try out a mobile application, specifically an online game for Android and iOS smartphones.\n",
    "\n",
    "**The goal is to determine the overall performance and monitor the return on ads spend (ROAS) along the period of analysis delivering updates insights to the marketing department.**"
   ]
  },
  {
   "cell_type": "markdown",
   "metadata": {
    "id": "hdUknRh6F5rc"
   },
   "source": [
    "### **The dataset**\n",
    "- Media Source (the name of the advertising partner) \n",
    "- Campaign Name (the name of the advertising campaign, given by us)\n",
    "- Cost (the spend on marketing)\n",
    "- Installs (the number of installs generated)\n",
    "- D01 Total Revenue \n",
    "- D03 Total Revenue\n",
    "- D07 Total Revenue\n",
    "- D30 Total Revenue\n",
    "\n",
    "The Dx Total Revenue is the total revenue generated within the first x days after the install from users who installed as a direct response to a specific marketing campaign.   "
   ]
  },
  {
   "cell_type": "markdown",
   "metadata": {
    "id": "pU2NmHLRF5rd"
   },
   "source": [
    "---"
   ]
  },
  {
   "cell_type": "markdown",
   "metadata": {
    "id": "tBhPFNenF5re"
   },
   "source": [
    "### **KPIs to calculate**\n",
    "- CPI (Cost Per Install)\n",
    "- Dx ROAS (Return On Advertising Spend) with x = [1, 3, 7, 30]"
   ]
  },
  {
   "cell_type": "markdown",
   "metadata": {
    "id": "JhVQgqCLF5re"
   },
   "source": [
    "---"
   ]
  },
  {
   "cell_type": "markdown",
   "metadata": {
    "id": "a7TmBBQEF5rf"
   },
   "source": [
    "### **Business Questions**\n",
    "##### Q1. Are there more Vungle or Facebook campaigns?\n",
    "##### Q2. Which partner's campaign has generated more user installs?\n",
    "##### Q3. Of how much is the overall CPI of Facebook?\n",
    "##### Q4. How many Facebook campaigns have provided installs above the average?\n",
    "##### Q5. Of how much is the overall CPI of Vungle?\n",
    "##### Q6. How many Vungle campaigns have provided installs above the average?\n",
    "##### Q7. Do both platforms have similar performance (cost vs. install)?\n",
    "##### Q8. Of how much is the overall D30  ROAS of Facebook?\n",
    "##### Q9. Of how much is the overall D30 ROAS of Vungle?\n",
    "##### Q10. Overall Cost vs. D30_ROAS comparison of both platforms\n",
    "##### Q11. Is there any correlation between the stages during the campaigns?\n",
    "##### Q12. The campaigns with the highest ROAS have the highest Total Revenue?\n",
    "##### Q13. Do the campaigns with a ROAS on DAY_1 under 10% break-even after the first month?\n",
    "##### Q14. Is it safe to assume the campaigns with a ROAS on DAY_7 higher than 70% will break even after 30 days?\n",
    "##### Q15. Monitoring the overall ROAS evolution of both platforms"
   ]
  },
  {
   "cell_type": "markdown",
   "metadata": {
    "id": "voZg9wd_F5rf"
   },
   "source": [
    "---\n",
    "##### Date: April 2021\n",
    "##### Marketing Data Analyst: Gonçalo Guimarães Gomes\n",
    "##### Email: goncaloggomes@gmail.com\n",
    "##### Language and softwares: Python 3 (Anaconda Navigator) and Excel (Microsoft)"
   ]
  },
  {
   "cell_type": "markdown",
   "metadata": {
    "id": "EhRC4FG-F5rg"
   },
   "source": [
    "* * *\n",
    "---"
   ]
  },
  {
   "cell_type": "code",
   "execution_count": 1,
   "metadata": {
    "executionInfo": {
     "elapsed": 849,
     "status": "ok",
     "timestamp": 1617287382203,
     "user": {
      "displayName": "Mariana Moura",
      "photoUrl": "",
      "userId": "09921903782139644629"
     },
     "user_tz": -60
    },
    "id": "yvabbRtCF5rg"
   },
   "outputs": [],
   "source": [
    "# Import requested libraries\n",
    "import pandas as pd\n",
    "import numpy as np\n",
    "import matplotlib.pyplot as plt\n",
    "import seaborn as sns\n",
    "import re"
   ]
  },
  {
   "cell_type": "code",
   "execution_count": 2,
   "metadata": {
    "executionInfo": {
     "elapsed": 1871,
     "status": "ok",
     "timestamp": 1617287383226,
     "user": {
      "displayName": "Mariana Moura",
      "photoUrl": "",
      "userId": "09921903782139644629"
     },
     "user_tz": -60
    },
    "id": "zIjDX9MMF5rh"
   },
   "outputs": [],
   "source": [
    "# Load the dataset\n",
    "df = pd.read_csv(\"mkt_ua_campaigns.csv\", sep=\";\")"
   ]
  },
  {
   "cell_type": "code",
   "execution_count": 3,
   "metadata": {},
   "outputs": [
    {
     "name": "stdout",
     "output_type": "stream",
     "text": [
      "Number of rows:     89\n",
      "Number of features: 8\n"
     ]
    }
   ],
   "source": [
    "# Number of observations and columns\n",
    "print(f\"Number of rows:     {df.shape[0]}\")\n",
    "print(f\"Number of features: {df.shape[1]}\")"
   ]
  },
  {
   "cell_type": "code",
   "execution_count": 4,
   "metadata": {
    "colab": {
     "base_uri": "https://localhost:8080/",
     "height": 841
    },
    "executionInfo": {
     "elapsed": 1851,
     "status": "ok",
     "timestamp": 1617287383227,
     "user": {
      "displayName": "Mariana Moura",
      "photoUrl": "",
      "userId": "09921903782139644629"
     },
     "user_tz": -60
    },
    "id": "OD--zlTMF5rh",
    "outputId": "94173305-5d22-4954-e3c1-ab0fcaefe341"
   },
   "outputs": [
    {
     "data": {
      "text/html": [
       "<div>\n",
       "<style scoped>\n",
       "    .dataframe tbody tr th:only-of-type {\n",
       "        vertical-align: middle;\n",
       "    }\n",
       "\n",
       "    .dataframe tbody tr th {\n",
       "        vertical-align: top;\n",
       "    }\n",
       "\n",
       "    .dataframe thead th {\n",
       "        text-align: right;\n",
       "    }\n",
       "</style>\n",
       "<table border=\"1\" class=\"dataframe\">\n",
       "  <thead>\n",
       "    <tr style=\"text-align: right;\">\n",
       "      <th></th>\n",
       "      <th>Media Source</th>\n",
       "      <th>Campaign Name</th>\n",
       "      <th>Cost</th>\n",
       "      <th>Installs</th>\n",
       "      <th>D01 Total Revenue</th>\n",
       "      <th>D03 Total Revenue</th>\n",
       "      <th>D07 Total Revenue</th>\n",
       "      <th>D30 Total Revenue</th>\n",
       "    </tr>\n",
       "  </thead>\n",
       "  <tbody>\n",
       "    <tr>\n",
       "      <th>0</th>\n",
       "      <td>Facebook</td>\n",
       "      <td>IMT-FB-iOS-EN-US-AE-Playables</td>\n",
       "      <td>$99,061</td>\n",
       "      <td>21,382</td>\n",
       "      <td>$10,404</td>\n",
       "      <td>$25,694</td>\n",
       "      <td>$39,231</td>\n",
       "      <td>$74,185</td>\n",
       "    </tr>\n",
       "    <tr>\n",
       "      <th>1</th>\n",
       "      <td>Vungle</td>\n",
       "      <td>IMT-Vungle-Android-US</td>\n",
       "      <td>$38,479</td>\n",
       "      <td>50858</td>\n",
       "      <td>$3,632</td>\n",
       "      <td>$9,679</td>\n",
       "      <td>$15,095</td>\n",
       "      <td>$26,216</td>\n",
       "    </tr>\n",
       "    <tr>\n",
       "      <th>2</th>\n",
       "      <td>Vungle</td>\n",
       "      <td>IMT-Vungle-iOS-CN</td>\n",
       "      <td>$38,209</td>\n",
       "      <td>41000</td>\n",
       "      <td>$8,537</td>\n",
       "      <td>$20,598</td>\n",
       "      <td>$31,850</td>\n",
       "      <td>$55,175</td>\n",
       "    </tr>\n",
       "    <tr>\n",
       "      <th>3</th>\n",
       "      <td>Facebook</td>\n",
       "      <td>IMT-FB-Android-RoW2-AE-Playables-FANRW</td>\n",
       "      <td>$34,746</td>\n",
       "      <td>55,891</td>\n",
       "      <td>$4,360</td>\n",
       "      <td>$10,565</td>\n",
       "      <td>$16,080</td>\n",
       "      <td>$29,437</td>\n",
       "    </tr>\n",
       "    <tr>\n",
       "      <th>4</th>\n",
       "      <td>Facebook</td>\n",
       "      <td>IMT-FB-Android-RoW2-AE-Value-Playables-FANIS</td>\n",
       "      <td>$31,662</td>\n",
       "      <td>19,196</td>\n",
       "      <td>$3,952</td>\n",
       "      <td>$9,824</td>\n",
       "      <td>$14,728</td>\n",
       "      <td>$26,026</td>\n",
       "    </tr>\n",
       "    <tr>\n",
       "      <th>5</th>\n",
       "      <td>Facebook</td>\n",
       "      <td>IMT-FB-Android-EN2-AE-Value-Playables-FANIS</td>\n",
       "      <td>$22,042</td>\n",
       "      <td>3,265</td>\n",
       "      <td>$2,436</td>\n",
       "      <td>$7,449</td>\n",
       "      <td>$11,112</td>\n",
       "      <td>$19,517</td>\n",
       "    </tr>\n",
       "    <tr>\n",
       "      <th>6</th>\n",
       "      <td>Facebook</td>\n",
       "      <td>IMT-FB-Android-EN2-AE-Playables-FANRW</td>\n",
       "      <td>$20,704</td>\n",
       "      <td>4,917</td>\n",
       "      <td>$1,812</td>\n",
       "      <td>$4,994</td>\n",
       "      <td>$8,081</td>\n",
       "      <td>$15,087</td>\n",
       "    </tr>\n",
       "    <tr>\n",
       "      <th>7</th>\n",
       "      <td>Facebook</td>\n",
       "      <td>IMT-FB-iOS-EN-T1-AE-Playables</td>\n",
       "      <td>$19,275</td>\n",
       "      <td>6,769</td>\n",
       "      <td>$1,876</td>\n",
       "      <td>$4,772</td>\n",
       "      <td>$7,812</td>\n",
       "      <td>$14,826</td>\n",
       "    </tr>\n",
       "    <tr>\n",
       "      <th>8</th>\n",
       "      <td>Facebook</td>\n",
       "      <td>IMT-FB-iOS-CHS-AE-Playables</td>\n",
       "      <td>$15,510</td>\n",
       "      <td>3,886</td>\n",
       "      <td>$2,281</td>\n",
       "      <td>$5,370</td>\n",
       "      <td>$7,943</td>\n",
       "      <td>$11,948</td>\n",
       "    </tr>\n",
       "    <tr>\n",
       "      <th>9</th>\n",
       "      <td>Vungle</td>\n",
       "      <td>IMT-Vungle-iOS-AU</td>\n",
       "      <td>$14,645</td>\n",
       "      <td>16358</td>\n",
       "      <td>$1,351</td>\n",
       "      <td>$3,603</td>\n",
       "      <td>$5,761</td>\n",
       "      <td>$11,386</td>\n",
       "    </tr>\n",
       "    <tr>\n",
       "      <th>10</th>\n",
       "      <td>Vungle</td>\n",
       "      <td>IMT-Vungle-iOS-UK</td>\n",
       "      <td>$13,959</td>\n",
       "      <td>17876</td>\n",
       "      <td>$1,218</td>\n",
       "      <td>$3,168</td>\n",
       "      <td>$5,814</td>\n",
       "      <td>$13,614</td>\n",
       "    </tr>\n",
       "    <tr>\n",
       "      <th>11</th>\n",
       "      <td>Vungle</td>\n",
       "      <td>IMT-Vungle-iOS-CA</td>\n",
       "      <td>$13,819</td>\n",
       "      <td>18784</td>\n",
       "      <td>$1,389</td>\n",
       "      <td>$3,624</td>\n",
       "      <td>$5,626</td>\n",
       "      <td>$11,344</td>\n",
       "    </tr>\n",
       "    <tr>\n",
       "      <th>12</th>\n",
       "      <td>Vungle</td>\n",
       "      <td>IMT-Vungle-Android-T2</td>\n",
       "      <td>$13,643</td>\n",
       "      <td>38131</td>\n",
       "      <td>$978</td>\n",
       "      <td>$2,844</td>\n",
       "      <td>$4,809</td>\n",
       "      <td>$10,820</td>\n",
       "    </tr>\n",
       "    <tr>\n",
       "      <th>13</th>\n",
       "      <td>Facebook</td>\n",
       "      <td>IMT-FB-iOS-EN-AE-Playables - Copy</td>\n",
       "      <td>$12,023</td>\n",
       "      <td>4,247</td>\n",
       "      <td>$1,201</td>\n",
       "      <td>$3,047</td>\n",
       "      <td>$4,796</td>\n",
       "      <td>$8,761</td>\n",
       "    </tr>\n",
       "    <tr>\n",
       "      <th>14</th>\n",
       "      <td>Vungle</td>\n",
       "      <td>IMT-Vungle-Android-AU</td>\n",
       "      <td>$11,359</td>\n",
       "      <td>10126</td>\n",
       "      <td>$782</td>\n",
       "      <td>$2,202</td>\n",
       "      <td>$3,609</td>\n",
       "      <td>$7,488</td>\n",
       "    </tr>\n",
       "  </tbody>\n",
       "</table>\n",
       "</div>"
      ],
      "text/plain": [
       "   Media Source                                 Campaign Name      Cost  \\\n",
       "0      Facebook                 IMT-FB-iOS-EN-US-AE-Playables  $99,061    \n",
       "1        Vungle                         IMT-Vungle-Android-US  $38,479    \n",
       "2        Vungle                             IMT-Vungle-iOS-CN  $38,209    \n",
       "3      Facebook        IMT-FB-Android-RoW2-AE-Playables-FANRW  $34,746    \n",
       "4      Facebook  IMT-FB-Android-RoW2-AE-Value-Playables-FANIS  $31,662    \n",
       "5      Facebook   IMT-FB-Android-EN2-AE-Value-Playables-FANIS  $22,042    \n",
       "6      Facebook         IMT-FB-Android-EN2-AE-Playables-FANRW  $20,704    \n",
       "7      Facebook                 IMT-FB-iOS-EN-T1-AE-Playables  $19,275    \n",
       "8      Facebook                   IMT-FB-iOS-CHS-AE-Playables  $15,510    \n",
       "9        Vungle                             IMT-Vungle-iOS-AU  $14,645    \n",
       "10       Vungle                             IMT-Vungle-iOS-UK  $13,959    \n",
       "11       Vungle                             IMT-Vungle-iOS-CA  $13,819    \n",
       "12       Vungle                         IMT-Vungle-Android-T2  $13,643    \n",
       "13     Facebook             IMT-FB-iOS-EN-AE-Playables - Copy  $12,023    \n",
       "14       Vungle                         IMT-Vungle-Android-AU  $11,359    \n",
       "\n",
       "   Installs D01 Total Revenue D03 Total Revenue D07 Total Revenue  \\\n",
       "0    21,382          $10,404           $25,694           $39,231    \n",
       "1     50858           $3,632            $9,679           $15,095    \n",
       "2     41000           $8,537           $20,598           $31,850    \n",
       "3    55,891           $4,360           $10,565           $16,080    \n",
       "4    19,196           $3,952            $9,824           $14,728    \n",
       "5     3,265           $2,436            $7,449           $11,112    \n",
       "6     4,917           $1,812            $4,994            $8,081    \n",
       "7     6,769           $1,876            $4,772            $7,812    \n",
       "8     3,886           $2,281            $5,370            $7,943    \n",
       "9     16358           $1,351            $3,603            $5,761    \n",
       "10    17876           $1,218            $3,168            $5,814    \n",
       "11    18784           $1,389            $3,624            $5,626    \n",
       "12    38131             $978            $2,844            $4,809    \n",
       "13    4,247           $1,201            $3,047            $4,796    \n",
       "14    10126             $782            $2,202            $3,609    \n",
       "\n",
       "   D30 Total Revenue  \n",
       "0           $74,185   \n",
       "1           $26,216   \n",
       "2           $55,175   \n",
       "3           $29,437   \n",
       "4           $26,026   \n",
       "5           $19,517   \n",
       "6           $15,087   \n",
       "7           $14,826   \n",
       "8           $11,948   \n",
       "9           $11,386   \n",
       "10          $13,614   \n",
       "11          $11,344   \n",
       "12          $10,820   \n",
       "13           $8,761   \n",
       "14           $7,488   "
      ]
     },
     "execution_count": 4,
     "metadata": {},
     "output_type": "execute_result"
    }
   ],
   "source": [
    "df.head(15) # Print the first 5 rows"
   ]
  },
  {
   "cell_type": "code",
   "execution_count": 5,
   "metadata": {},
   "outputs": [
    {
     "data": {
      "text/plain": [
       "Media Source         0\n",
       "Campaign Name        0\n",
       "Cost                 0\n",
       "Installs             0\n",
       "D01 Total Revenue    0\n",
       "D03 Total Revenue    0\n",
       "D07 Total Revenue    0\n",
       "D30 Total Revenue    0\n",
       "dtype: int64"
      ]
     },
     "execution_count": 5,
     "metadata": {},
     "output_type": "execute_result"
    }
   ],
   "source": [
    "df.isnull().sum() # Checking for missing values"
   ]
  },
  {
   "cell_type": "code",
   "execution_count": 6,
   "metadata": {
    "executionInfo": {
     "elapsed": 1849,
     "status": "ok",
     "timestamp": 1617287383227,
     "user": {
      "displayName": "Mariana Moura",
      "photoUrl": "",
      "userId": "09921903782139644629"
     },
     "user_tz": -60
    },
    "id": "hBIh_oIkF5ri"
   },
   "outputs": [],
   "source": [
    "# Lowering columns' capital letters for easy typing\n",
    "df.columns = map(str.lower, df.columns)"
   ]
  },
  {
   "cell_type": "code",
   "execution_count": 7,
   "metadata": {
    "executionInfo": {
     "elapsed": 1839,
     "status": "ok",
     "timestamp": 1617287383229,
     "user": {
      "displayName": "Mariana Moura",
      "photoUrl": "",
      "userId": "09921903782139644629"
     },
     "user_tz": -60
    },
    "id": "Ra6tdQnyF5rk"
   },
   "outputs": [],
   "source": [
    "# Selecting columns and cleaning unvalid characters\n",
    "cols= [\"cost\",\"installs\",\"d01 total revenue\",\"d03 total revenue\",\"d07 total revenue\",\"d30 total revenue\"]\n",
    "\n",
    "df[cols] = (df[cols].replace({',':''}, regex=True))\n",
    "df[\"cost\"] = (df[\"cost\"].str.replace('$','')).str.strip()\n",
    "\n",
    "df[\"d01 total revenue\"] = (df[\"d01 total revenue\"].str.replace('$','')).str.strip()\n",
    "df[\"d03 total revenue\"] = (df[\"d03 total revenue\"].str.replace('$','')).str.strip()\n",
    "df[\"d07 total revenue\"] = (df[\"d07 total revenue\"].str.replace('$','')).str.strip()\n",
    "df[\"d30 total revenue\"] = (df[\"d30 total revenue\"].str.replace('$','')).str.strip()"
   ]
  },
  {
   "cell_type": "code",
   "execution_count": 8,
   "metadata": {
    "executionInfo": {
     "elapsed": 1837,
     "status": "ok",
     "timestamp": 1617287383229,
     "user": {
      "displayName": "Mariana Moura",
      "photoUrl": "",
      "userId": "09921903782139644629"
     },
     "user_tz": -60
    },
    "id": "Q_UFDt62F5rk"
   },
   "outputs": [],
   "source": [
    "# Transforming columns as float (numeric type)\n",
    "df[cols] = df[cols].astype(float).copy()"
   ]
  },
  {
   "cell_type": "markdown",
   "metadata": {},
   "source": [
    "### Datatypes"
   ]
  },
  {
   "cell_type": "code",
   "execution_count": 9,
   "metadata": {
    "colab": {
     "base_uri": "https://localhost:8080/"
    },
    "executionInfo": {
     "elapsed": 1828,
     "status": "ok",
     "timestamp": 1617287383229,
     "user": {
      "displayName": "Mariana Moura",
      "photoUrl": "",
      "userId": "09921903782139644629"
     },
     "user_tz": -60
    },
    "id": "NFsuVEbeF5rk",
    "outputId": "2581c656-96ff-4f74-9f5c-36c7c0e94827"
   },
   "outputs": [
    {
     "data": {
      "text/plain": [
       "media source          object\n",
       "campaign name         object\n",
       "cost                 float64\n",
       "installs             float64\n",
       "d01 total revenue    float64\n",
       "d03 total revenue    float64\n",
       "d07 total revenue    float64\n",
       "d30 total revenue    float64\n",
       "dtype: object"
      ]
     },
     "execution_count": 9,
     "metadata": {},
     "output_type": "execute_result"
    }
   ],
   "source": [
    "# Checking columns types\n",
    "df.dtypes"
   ]
  },
  {
   "cell_type": "code",
   "execution_count": 10,
   "metadata": {},
   "outputs": [
    {
     "data": {
      "text/html": [
       "<div>\n",
       "<style scoped>\n",
       "    .dataframe tbody tr th:only-of-type {\n",
       "        vertical-align: middle;\n",
       "    }\n",
       "\n",
       "    .dataframe tbody tr th {\n",
       "        vertical-align: top;\n",
       "    }\n",
       "\n",
       "    .dataframe thead th {\n",
       "        text-align: right;\n",
       "    }\n",
       "</style>\n",
       "<table border=\"1\" class=\"dataframe\">\n",
       "  <thead>\n",
       "    <tr style=\"text-align: right;\">\n",
       "      <th></th>\n",
       "      <th>media source</th>\n",
       "      <th>campaign name</th>\n",
       "      <th>cost</th>\n",
       "      <th>installs</th>\n",
       "      <th>d01 total revenue</th>\n",
       "      <th>d03 total revenue</th>\n",
       "      <th>d07 total revenue</th>\n",
       "      <th>d30 total revenue</th>\n",
       "    </tr>\n",
       "  </thead>\n",
       "  <tbody>\n",
       "    <tr>\n",
       "      <th>0</th>\n",
       "      <td>Facebook</td>\n",
       "      <td>IMT-FB-iOS-EN-US-AE-Playables</td>\n",
       "      <td>99061.0</td>\n",
       "      <td>21382.0</td>\n",
       "      <td>10404.0</td>\n",
       "      <td>25694.0</td>\n",
       "      <td>39231.0</td>\n",
       "      <td>74185.0</td>\n",
       "    </tr>\n",
       "    <tr>\n",
       "      <th>1</th>\n",
       "      <td>Vungle</td>\n",
       "      <td>IMT-Vungle-Android-US</td>\n",
       "      <td>38479.0</td>\n",
       "      <td>50858.0</td>\n",
       "      <td>3632.0</td>\n",
       "      <td>9679.0</td>\n",
       "      <td>15095.0</td>\n",
       "      <td>26216.0</td>\n",
       "    </tr>\n",
       "    <tr>\n",
       "      <th>2</th>\n",
       "      <td>Vungle</td>\n",
       "      <td>IMT-Vungle-iOS-CN</td>\n",
       "      <td>38209.0</td>\n",
       "      <td>41000.0</td>\n",
       "      <td>8537.0</td>\n",
       "      <td>20598.0</td>\n",
       "      <td>31850.0</td>\n",
       "      <td>55175.0</td>\n",
       "    </tr>\n",
       "    <tr>\n",
       "      <th>3</th>\n",
       "      <td>Facebook</td>\n",
       "      <td>IMT-FB-Android-RoW2-AE-Playables-FANRW</td>\n",
       "      <td>34746.0</td>\n",
       "      <td>55891.0</td>\n",
       "      <td>4360.0</td>\n",
       "      <td>10565.0</td>\n",
       "      <td>16080.0</td>\n",
       "      <td>29437.0</td>\n",
       "    </tr>\n",
       "    <tr>\n",
       "      <th>4</th>\n",
       "      <td>Facebook</td>\n",
       "      <td>IMT-FB-Android-RoW2-AE-Value-Playables-FANIS</td>\n",
       "      <td>31662.0</td>\n",
       "      <td>19196.0</td>\n",
       "      <td>3952.0</td>\n",
       "      <td>9824.0</td>\n",
       "      <td>14728.0</td>\n",
       "      <td>26026.0</td>\n",
       "    </tr>\n",
       "  </tbody>\n",
       "</table>\n",
       "</div>"
      ],
      "text/plain": [
       "  media source                                 campaign name     cost  \\\n",
       "0     Facebook                 IMT-FB-iOS-EN-US-AE-Playables  99061.0   \n",
       "1       Vungle                         IMT-Vungle-Android-US  38479.0   \n",
       "2       Vungle                             IMT-Vungle-iOS-CN  38209.0   \n",
       "3     Facebook        IMT-FB-Android-RoW2-AE-Playables-FANRW  34746.0   \n",
       "4     Facebook  IMT-FB-Android-RoW2-AE-Value-Playables-FANIS  31662.0   \n",
       "\n",
       "   installs  d01 total revenue  d03 total revenue  d07 total revenue  \\\n",
       "0   21382.0            10404.0            25694.0            39231.0   \n",
       "1   50858.0             3632.0             9679.0            15095.0   \n",
       "2   41000.0             8537.0            20598.0            31850.0   \n",
       "3   55891.0             4360.0            10565.0            16080.0   \n",
       "4   19196.0             3952.0             9824.0            14728.0   \n",
       "\n",
       "   d30 total revenue  \n",
       "0            74185.0  \n",
       "1            26216.0  \n",
       "2            55175.0  \n",
       "3            29437.0  \n",
       "4            26026.0  "
      ]
     },
     "execution_count": 10,
     "metadata": {},
     "output_type": "execute_result"
    }
   ],
   "source": [
    "df.head()"
   ]
  },
  {
   "cell_type": "markdown",
   "metadata": {},
   "source": [
    "### Final dataset"
   ]
  },
  {
   "cell_type": "code",
   "execution_count": 11,
   "metadata": {},
   "outputs": [
    {
     "data": {
      "text/html": [
       "<div>\n",
       "<style scoped>\n",
       "    .dataframe tbody tr th:only-of-type {\n",
       "        vertical-align: middle;\n",
       "    }\n",
       "\n",
       "    .dataframe tbody tr th {\n",
       "        vertical-align: top;\n",
       "    }\n",
       "\n",
       "    .dataframe thead th {\n",
       "        text-align: right;\n",
       "    }\n",
       "</style>\n",
       "<table border=\"1\" class=\"dataframe\">\n",
       "  <thead>\n",
       "    <tr style=\"text-align: right;\">\n",
       "      <th></th>\n",
       "      <th>media source</th>\n",
       "      <th>campaign name</th>\n",
       "      <th>cost</th>\n",
       "      <th>installs</th>\n",
       "      <th>d01 total revenue</th>\n",
       "      <th>d03 total revenue</th>\n",
       "      <th>d07 total revenue</th>\n",
       "      <th>d30 total revenue</th>\n",
       "      <th>cpi</th>\n",
       "      <th>d01_roas</th>\n",
       "      <th>d03_roas</th>\n",
       "      <th>d07_roas</th>\n",
       "      <th>d30_roas</th>\n",
       "    </tr>\n",
       "  </thead>\n",
       "  <tbody>\n",
       "    <tr>\n",
       "      <th>0</th>\n",
       "      <td>Facebook</td>\n",
       "      <td>IMT-FB-iOS-EN-US-AE-Playables</td>\n",
       "      <td>99061.0</td>\n",
       "      <td>21382.0</td>\n",
       "      <td>10404.0</td>\n",
       "      <td>25694.0</td>\n",
       "      <td>39231.0</td>\n",
       "      <td>74185.0</td>\n",
       "      <td>4.632916</td>\n",
       "      <td>0.105026</td>\n",
       "      <td>0.259376</td>\n",
       "      <td>0.396029</td>\n",
       "      <td>0.748882</td>\n",
       "    </tr>\n",
       "    <tr>\n",
       "      <th>1</th>\n",
       "      <td>Vungle</td>\n",
       "      <td>IMT-Vungle-Android-US</td>\n",
       "      <td>38479.0</td>\n",
       "      <td>50858.0</td>\n",
       "      <td>3632.0</td>\n",
       "      <td>9679.0</td>\n",
       "      <td>15095.0</td>\n",
       "      <td>26216.0</td>\n",
       "      <td>0.756597</td>\n",
       "      <td>0.094389</td>\n",
       "      <td>0.251540</td>\n",
       "      <td>0.392292</td>\n",
       "      <td>0.681307</td>\n",
       "    </tr>\n",
       "    <tr>\n",
       "      <th>2</th>\n",
       "      <td>Vungle</td>\n",
       "      <td>IMT-Vungle-iOS-CN</td>\n",
       "      <td>38209.0</td>\n",
       "      <td>41000.0</td>\n",
       "      <td>8537.0</td>\n",
       "      <td>20598.0</td>\n",
       "      <td>31850.0</td>\n",
       "      <td>55175.0</td>\n",
       "      <td>0.931927</td>\n",
       "      <td>0.223429</td>\n",
       "      <td>0.539088</td>\n",
       "      <td>0.833573</td>\n",
       "      <td>1.444032</td>\n",
       "    </tr>\n",
       "    <tr>\n",
       "      <th>3</th>\n",
       "      <td>Facebook</td>\n",
       "      <td>IMT-FB-Android-RoW2-AE-Playables-FANRW</td>\n",
       "      <td>34746.0</td>\n",
       "      <td>55891.0</td>\n",
       "      <td>4360.0</td>\n",
       "      <td>10565.0</td>\n",
       "      <td>16080.0</td>\n",
       "      <td>29437.0</td>\n",
       "      <td>0.621674</td>\n",
       "      <td>0.125482</td>\n",
       "      <td>0.304064</td>\n",
       "      <td>0.462787</td>\n",
       "      <td>0.847205</td>\n",
       "    </tr>\n",
       "    <tr>\n",
       "      <th>4</th>\n",
       "      <td>Facebook</td>\n",
       "      <td>IMT-FB-Android-RoW2-AE-Value-Playables-FANIS</td>\n",
       "      <td>31662.0</td>\n",
       "      <td>19196.0</td>\n",
       "      <td>3952.0</td>\n",
       "      <td>9824.0</td>\n",
       "      <td>14728.0</td>\n",
       "      <td>26026.0</td>\n",
       "      <td>1.649406</td>\n",
       "      <td>0.124818</td>\n",
       "      <td>0.310277</td>\n",
       "      <td>0.465163</td>\n",
       "      <td>0.821995</td>\n",
       "    </tr>\n",
       "  </tbody>\n",
       "</table>\n",
       "</div>"
      ],
      "text/plain": [
       "  media source                                 campaign name     cost  \\\n",
       "0     Facebook                 IMT-FB-iOS-EN-US-AE-Playables  99061.0   \n",
       "1       Vungle                         IMT-Vungle-Android-US  38479.0   \n",
       "2       Vungle                             IMT-Vungle-iOS-CN  38209.0   \n",
       "3     Facebook        IMT-FB-Android-RoW2-AE-Playables-FANRW  34746.0   \n",
       "4     Facebook  IMT-FB-Android-RoW2-AE-Value-Playables-FANIS  31662.0   \n",
       "\n",
       "   installs  d01 total revenue  d03 total revenue  d07 total revenue  \\\n",
       "0   21382.0            10404.0            25694.0            39231.0   \n",
       "1   50858.0             3632.0             9679.0            15095.0   \n",
       "2   41000.0             8537.0            20598.0            31850.0   \n",
       "3   55891.0             4360.0            10565.0            16080.0   \n",
       "4   19196.0             3952.0             9824.0            14728.0   \n",
       "\n",
       "   d30 total revenue       cpi  d01_roas  d03_roas  d07_roas  d30_roas  \n",
       "0            74185.0  4.632916  0.105026  0.259376  0.396029  0.748882  \n",
       "1            26216.0  0.756597  0.094389  0.251540  0.392292  0.681307  \n",
       "2            55175.0  0.931927  0.223429  0.539088  0.833573  1.444032  \n",
       "3            29437.0  0.621674  0.125482  0.304064  0.462787  0.847205  \n",
       "4            26026.0  1.649406  0.124818  0.310277  0.465163  0.821995  "
      ]
     },
     "execution_count": 11,
     "metadata": {},
     "output_type": "execute_result"
    }
   ],
   "source": [
    "# Operations to create \"Cost Per Install\" and \"dx_roas\" columns\n",
    "df[\"cpi\"] = df.apply(lambda x: x[\"cost\"] / x[\"installs\"], axis=1)\n",
    "\n",
    "df[\"d01_roas\"] = df.apply(lambda x: x[\"d01 total revenue\"] / x[\"cost\"], axis=1)\n",
    "df[\"d03_roas\"] = df.apply(lambda x: x[\"d03 total revenue\"] / x[\"cost\"], axis=1)\n",
    "df[\"d07_roas\"] = df.apply(lambda x: x[\"d07 total revenue\"] / x[\"cost\"], axis=1)\n",
    "df[\"d30_roas\"] = df.apply(lambda x: x[\"d30 total revenue\"] / x[\"cost\"], axis=1)\n",
    "\n",
    "df.head() # print the first 10 rows of the dataset"
   ]
  },
  {
   "cell_type": "markdown",
   "metadata": {
    "id": "SvyK8j9-F5rl"
   },
   "source": [
    "---"
   ]
  },
  {
   "cell_type": "markdown",
   "metadata": {
    "id": "X9pBL60YF5rm"
   },
   "source": [
    "# **Business Questions**\n",
    "## Q1. Are there more Vungle or Facebook campaigns?"
   ]
  },
  {
   "cell_type": "code",
   "execution_count": 12,
   "metadata": {
    "colab": {
     "base_uri": "https://localhost:8080/",
     "height": 519
    },
    "executionInfo": {
     "elapsed": 1810,
     "status": "ok",
     "timestamp": 1617287383230,
     "user": {
      "displayName": "Mariana Moura",
      "photoUrl": "",
      "userId": "09921903782139644629"
     },
     "user_tz": -60
    },
    "id": "lIvvJqLwF5rm",
    "outputId": "def72573-b3ea-400f-a389-2f8761bd8779"
   },
   "outputs": [
    {
     "data": {
      "text/html": [
       "<div>\n",
       "<style scoped>\n",
       "    .dataframe tbody tr th:only-of-type {\n",
       "        vertical-align: middle;\n",
       "    }\n",
       "\n",
       "    .dataframe tbody tr th {\n",
       "        vertical-align: top;\n",
       "    }\n",
       "\n",
       "    .dataframe thead th {\n",
       "        text-align: right;\n",
       "    }\n",
       "</style>\n",
       "<table border=\"1\" class=\"dataframe\">\n",
       "  <thead>\n",
       "    <tr style=\"text-align: right;\">\n",
       "      <th></th>\n",
       "      <th>media source</th>\n",
       "      <th>percent</th>\n",
       "    </tr>\n",
       "  </thead>\n",
       "  <tbody>\n",
       "    <tr>\n",
       "      <th>Facebook</th>\n",
       "      <td>77</td>\n",
       "      <td>86.52</td>\n",
       "    </tr>\n",
       "    <tr>\n",
       "      <th>Vungle</th>\n",
       "      <td>12</td>\n",
       "      <td>13.48</td>\n",
       "    </tr>\n",
       "  </tbody>\n",
       "</table>\n",
       "</div>"
      ],
      "text/plain": [
       "          media source  percent\n",
       "Facebook            77    86.52\n",
       "Vungle              12    13.48"
      ]
     },
     "metadata": {},
     "output_type": "display_data"
    },
    {
     "data": {
      "image/png": "[encoded data removed]",
      "text/plain": [
       "<Figure size 1152x504 with 1 Axes>"
      ]
     },
     "metadata": {},
     "output_type": "display_data"
    }
   ],
   "source": [
    "# Are there more Vungle Campaigns than Facebook Campaigns?\n",
    "\n",
    "# Side table\n",
    "absolut = df[\"media source\"].value_counts().to_frame()\n",
    "percent = (df[\"media source\"].value_counts(normalize=True)*100).to_frame().rename(columns={\"media source\":\"percent\"})\n",
    "out_bal = pd.concat([absolut,percent],axis=1).round(decimals=2)\n",
    "display(out_bal)\n",
    "\n",
    "# Graph\n",
    "absolut.plot(kind='pie', subplots=True, autopct='%1.2f%%', \n",
    "             explode= (0.05, 0.05), startangle=80, \n",
    "             legend=False, fontsize=12, figsize=(16,7))\n",
    "\n",
    "# Params\n",
    "plt.xticks(rotation=0, horizontalalignment=\"center\")\n",
    "plt.title(\"Total marketing campaigns\", fontsize=10, loc=\"right\");"
   ]
  },
  {
   "cell_type": "markdown",
   "metadata": {
    "id": "t8LzjNNNF5rn"
   },
   "source": [
    "---\n",
    "## Q2. Which partner's campaign has generated more user installs?"
   ]
  },
  {
   "cell_type": "code",
   "execution_count": 13,
   "metadata": {
    "colab": {
     "base_uri": "https://localhost:8080/",
     "height": 530
    },
    "executionInfo": {
     "elapsed": 2394,
     "status": "ok",
     "timestamp": 1617287383823,
     "user": {
      "displayName": "Mariana Moura",
      "photoUrl": "",
      "userId": "09921903782139644629"
     },
     "user_tz": -60
    },
    "id": "sCO2nfq6F5rn",
    "outputId": "b6c5dc50-af1c-4ba2-e78a-b8a34ee726c4"
   },
   "outputs": [
    {
     "data": {
      "text/html": [
       "<div>\n",
       "<style scoped>\n",
       "    .dataframe tbody tr th:only-of-type {\n",
       "        vertical-align: middle;\n",
       "    }\n",
       "\n",
       "    .dataframe tbody tr th {\n",
       "        vertical-align: top;\n",
       "    }\n",
       "\n",
       "    .dataframe thead th {\n",
       "        text-align: right;\n",
       "    }\n",
       "</style>\n",
       "<table border=\"1\" class=\"dataframe\">\n",
       "  <thead>\n",
       "    <tr style=\"text-align: right;\">\n",
       "      <th></th>\n",
       "      <th>installs</th>\n",
       "      <th>percent</th>\n",
       "    </tr>\n",
       "    <tr>\n",
       "      <th>media source</th>\n",
       "      <th></th>\n",
       "      <th></th>\n",
       "    </tr>\n",
       "  </thead>\n",
       "  <tbody>\n",
       "    <tr>\n",
       "      <th>Vungle</th>\n",
       "      <td>242112.0</td>\n",
       "      <td>55.09</td>\n",
       "    </tr>\n",
       "    <tr>\n",
       "      <th>Facebook</th>\n",
       "      <td>197357.0</td>\n",
       "      <td>44.91</td>\n",
       "    </tr>\n",
       "  </tbody>\n",
       "</table>\n",
       "</div>"
      ],
      "text/plain": [
       "              installs  percent\n",
       "media source                   \n",
       "Vungle        242112.0    55.09\n",
       "Facebook      197357.0    44.91"
      ]
     },
     "metadata": {},
     "output_type": "display_data"
    },
    {
     "data": {
      "image/png": "[encoded data removed]",
      "text/plain": [
       "<Figure size 648x432 with 1 Axes>"
      ]
     },
     "metadata": {
      "needs_background": "light"
     },
     "output_type": "display_data"
    }
   ],
   "source": [
    "# Wich media source was responsible for more installs?\n",
    "\n",
    "# Bar plot\n",
    "ax = df.groupby([\"media source\"])[\"installs\"].sum().plot(kind=\"bar\", figsize=(9,6), fontsize=12, color=sns.color_palette(\"rocket\"), table=False)\n",
    "for p in ax.patches:\n",
    "    ax.annotate(\"%.2f\" % p.get_height(), (p.get_x() + p.get_width() / 2., p.get_height()), ha='center', va='center', xytext=(0, 7), textcoords='offset points')\n",
    "\n",
    "# Params\n",
    "plt.xlabel(\"media source\", fontsize=10)\n",
    "plt.xticks(rotation=0, horizontalalignment=\"center\")\n",
    "plt.ylabel(\"Absolute frequency\", fontsize=10)\n",
    "plt.title(\"Overall installs proportion\", fontsize=10, loc=\"right\")\n",
    "\n",
    "# side table\n",
    "installs = df.groupby([\"media source\"])[\"installs\"].sum().sort_values(ascending=False).to_frame()\n",
    "installs[\"percent\"] = (installs.apply(lambda x: x/x.sum())*100).round(2)\n",
    "display(installs)"
   ]
  },
  {
   "cell_type": "markdown",
   "metadata": {
    "id": "K36GnQaEF5ro"
   },
   "source": [
    "---\n",
    "## Q3. Of how much is the overall CPI of Facebook?"
   ]
  },
  {
   "cell_type": "code",
   "execution_count": 14,
   "metadata": {
    "colab": {
     "base_uri": "https://localhost:8080/",
     "height": 204
    },
    "executionInfo": {
     "elapsed": 2385,
     "status": "ok",
     "timestamp": 1617287383824,
     "user": {
      "displayName": "Mariana Moura",
      "photoUrl": "",
      "userId": "09921903782139644629"
     },
     "user_tz": -60
    },
    "id": "g8yCL4OcF5ro",
    "outputId": "9319b079-d444-4b80-8c46-ea1ee9487c88"
   },
   "outputs": [
    {
     "data": {
      "text/html": [
       "<div>\n",
       "<style scoped>\n",
       "    .dataframe tbody tr th:only-of-type {\n",
       "        vertical-align: middle;\n",
       "    }\n",
       "\n",
       "    .dataframe tbody tr th {\n",
       "        vertical-align: top;\n",
       "    }\n",
       "\n",
       "    .dataframe thead th {\n",
       "        text-align: right;\n",
       "    }\n",
       "</style>\n",
       "<table border=\"1\" class=\"dataframe\">\n",
       "  <thead>\n",
       "    <tr style=\"text-align: right;\">\n",
       "      <th></th>\n",
       "      <th>media source</th>\n",
       "      <th>cost</th>\n",
       "      <th>installs</th>\n",
       "    </tr>\n",
       "  </thead>\n",
       "  <tbody>\n",
       "    <tr>\n",
       "      <th>0</th>\n",
       "      <td>Facebook</td>\n",
       "      <td>99061.0</td>\n",
       "      <td>21382.0</td>\n",
       "    </tr>\n",
       "    <tr>\n",
       "      <th>3</th>\n",
       "      <td>Facebook</td>\n",
       "      <td>34746.0</td>\n",
       "      <td>55891.0</td>\n",
       "    </tr>\n",
       "    <tr>\n",
       "      <th>4</th>\n",
       "      <td>Facebook</td>\n",
       "      <td>31662.0</td>\n",
       "      <td>19196.0</td>\n",
       "    </tr>\n",
       "    <tr>\n",
       "      <th>5</th>\n",
       "      <td>Facebook</td>\n",
       "      <td>22042.0</td>\n",
       "      <td>3265.0</td>\n",
       "    </tr>\n",
       "    <tr>\n",
       "      <th>6</th>\n",
       "      <td>Facebook</td>\n",
       "      <td>20704.0</td>\n",
       "      <td>4917.0</td>\n",
       "    </tr>\n",
       "  </tbody>\n",
       "</table>\n",
       "</div>"
      ],
      "text/plain": [
       "  media source     cost  installs\n",
       "0     Facebook  99061.0   21382.0\n",
       "3     Facebook  34746.0   55891.0\n",
       "4     Facebook  31662.0   19196.0\n",
       "5     Facebook  22042.0    3265.0\n",
       "6     Facebook  20704.0    4917.0"
      ]
     },
     "execution_count": 14,
     "metadata": {},
     "output_type": "execute_result"
    }
   ],
   "source": [
    "# Filtering records from Facebook only\n",
    "fb = df[[\"media source\",\"cost\",\"installs\"]].copy()\n",
    "fb = fb[fb[\"media source\"] == \"Facebook\"].copy()\n",
    "fb.head() # Printing first 5 rows"
   ]
  },
  {
   "cell_type": "code",
   "execution_count": 15,
   "metadata": {
    "colab": {
     "base_uri": "https://localhost:8080/"
    },
    "executionInfo": {
     "elapsed": 2378,
     "status": "ok",
     "timestamp": 1617287383824,
     "user": {
      "displayName": "Mariana Moura",
      "photoUrl": "",
      "userId": "09921903782139644629"
     },
     "user_tz": -60
    },
    "id": "5YOcFwUpF5rr",
    "outputId": "9dd69bbc-59ef-49de-c04f-b54ba5983b9b"
   },
   "outputs": [
    {
     "data": {
      "text/plain": [
       "1.9671306312925307"
      ]
     },
     "execution_count": 15,
     "metadata": {},
     "output_type": "execute_result"
    }
   ],
   "source": [
    "# Calculating Costs Per Installing (Facebook)\n",
    "fb.cost.sum() / fb.installs.sum()"
   ]
  },
  {
   "cell_type": "markdown",
   "metadata": {},
   "source": [
    "##### **>> The overall CPI of Facebook is $1.97**"
   ]
  },
  {
   "cell_type": "code",
   "execution_count": 16,
   "metadata": {},
   "outputs": [
    {
     "data": {
      "image/png": "[encoded data removed]",
      "text/plain": [
       "<Figure size 432x288 with 1 Axes>"
      ]
     },
     "metadata": {
      "needs_background": "light"
     },
     "output_type": "display_data"
    }
   ],
   "source": [
    "# Visualizing Costs vs. installs sorted by highest cost\n",
    "fb = fb.reset_index().copy()\n",
    "fb.drop([\"index\"], axis=1, inplace=True)\n",
    "fb.plot.line()\n",
    "plt.xlabel('Number of campaigns')\n",
    "plt.ylabel('Absolute Frequency')\n",
    "plt.title('Costs vs. Installs [Facebook]', fontsize=10, loc=\"right\")\n",
    "plt.show()"
   ]
  },
  {
   "cell_type": "markdown",
   "metadata": {},
   "source": [
    "---"
   ]
  },
  {
   "cell_type": "markdown",
   "metadata": {},
   "source": [
    "## Q4. How many Facebook campaigns have provided installs above the average?\n",
    "#### >> **14 campaigns**\n",
    "2563 is the average number of installs per campaign"
   ]
  },
  {
   "cell_type": "code",
   "execution_count": 17,
   "metadata": {},
   "outputs": [],
   "source": [
    "# Filtering records from Facebook only\n",
    "fb_mean = df[df[\"media source\"] == \"Facebook\"].copy()"
   ]
  },
  {
   "cell_type": "code",
   "execution_count": 18,
   "metadata": {},
   "outputs": [
    {
     "data": {
      "text/html": [
       "<div>\n",
       "<style scoped>\n",
       "    .dataframe tbody tr th:only-of-type {\n",
       "        vertical-align: middle;\n",
       "    }\n",
       "\n",
       "    .dataframe tbody tr th {\n",
       "        vertical-align: top;\n",
       "    }\n",
       "\n",
       "    .dataframe thead th {\n",
       "        text-align: right;\n",
       "    }\n",
       "</style>\n",
       "<table border=\"1\" class=\"dataframe\">\n",
       "  <thead>\n",
       "    <tr style=\"text-align: right;\">\n",
       "      <th></th>\n",
       "      <th>installs</th>\n",
       "      <th>percent</th>\n",
       "      <th>cumsum</th>\n",
       "    </tr>\n",
       "    <tr>\n",
       "      <th>campaign name</th>\n",
       "      <th></th>\n",
       "      <th></th>\n",
       "      <th></th>\n",
       "    </tr>\n",
       "  </thead>\n",
       "  <tbody>\n",
       "    <tr>\n",
       "      <th>IMT-FB-Android-RoW2-AE-Playables-FANRW</th>\n",
       "      <td>55891.0</td>\n",
       "      <td>28.32</td>\n",
       "      <td>28.32</td>\n",
       "    </tr>\n",
       "    <tr>\n",
       "      <th>IMT-FB-Android-AI-WW</th>\n",
       "      <td>29949.0</td>\n",
       "      <td>15.18</td>\n",
       "      <td>43.50</td>\n",
       "    </tr>\n",
       "    <tr>\n",
       "      <th>IMT-FB-iOS-EN-US-AE-Playables</th>\n",
       "      <td>21382.0</td>\n",
       "      <td>10.83</td>\n",
       "      <td>54.33</td>\n",
       "    </tr>\n",
       "    <tr>\n",
       "      <th>IMT-FB-Android-RoW2-AE-Value-Playables-FANIS</th>\n",
       "      <td>19196.0</td>\n",
       "      <td>9.73</td>\n",
       "      <td>64.06</td>\n",
       "    </tr>\n",
       "    <tr>\n",
       "      <th>IMT-FB-Android-RoW2-AE-Playables-FANIS</th>\n",
       "      <td>8894.0</td>\n",
       "      <td>4.51</td>\n",
       "      <td>68.57</td>\n",
       "    </tr>\n",
       "    <tr>\n",
       "      <th>IMT-FB-iOS-EN-T1-AE-Playables</th>\n",
       "      <td>6769.0</td>\n",
       "      <td>3.43</td>\n",
       "      <td>72.00</td>\n",
       "    </tr>\n",
       "    <tr>\n",
       "      <th>IMT-FB-Android-EN2-AE-Playables-FANRW</th>\n",
       "      <td>4917.0</td>\n",
       "      <td>2.49</td>\n",
       "      <td>74.49</td>\n",
       "    </tr>\n",
       "    <tr>\n",
       "      <th>IMT-FB-iOS-EN-AE-Playables - Copy</th>\n",
       "      <td>4247.0</td>\n",
       "      <td>2.15</td>\n",
       "      <td>76.64</td>\n",
       "    </tr>\n",
       "    <tr>\n",
       "      <th>IMT-FB-Android-DE-AE-Playables2</th>\n",
       "      <td>4227.0</td>\n",
       "      <td>2.14</td>\n",
       "      <td>78.78</td>\n",
       "    </tr>\n",
       "    <tr>\n",
       "      <th>IMT-FB-Android-DE-AI-Videos</th>\n",
       "      <td>4098.0</td>\n",
       "      <td>2.08</td>\n",
       "      <td>80.86</td>\n",
       "    </tr>\n",
       "    <tr>\n",
       "      <th>IMT-FB-iOS-CHS-AE-Playables</th>\n",
       "      <td>3886.0</td>\n",
       "      <td>1.97</td>\n",
       "      <td>82.83</td>\n",
       "    </tr>\n",
       "    <tr>\n",
       "      <th>IMT-FB-Android-EN2-AE-Value-Playables-FANIS</th>\n",
       "      <td>3265.0</td>\n",
       "      <td>1.65</td>\n",
       "      <td>84.48</td>\n",
       "    </tr>\n",
       "    <tr>\n",
       "      <th>IMT-FB-iOS-DE-AE-Playables</th>\n",
       "      <td>2931.0</td>\n",
       "      <td>1.49</td>\n",
       "      <td>85.97</td>\n",
       "    </tr>\n",
       "    <tr>\n",
       "      <th>IMT-FB-iOS-US-AI-Videos</th>\n",
       "      <td>2636.0</td>\n",
       "      <td>1.34</td>\n",
       "      <td>87.31</td>\n",
       "    </tr>\n",
       "    <tr>\n",
       "      <th>IMT-FB-Android-EN-AI-Video</th>\n",
       "      <td>2524.0</td>\n",
       "      <td>1.28</td>\n",
       "      <td>88.59</td>\n",
       "    </tr>\n",
       "  </tbody>\n",
       "</table>\n",
       "</div>"
      ],
      "text/plain": [
       "                                              installs  percent  cumsum\n",
       "campaign name                                                          \n",
       "IMT-FB-Android-RoW2-AE-Playables-FANRW         55891.0    28.32   28.32\n",
       "IMT-FB-Android-AI-WW                           29949.0    15.18   43.50\n",
       "IMT-FB-iOS-EN-US-AE-Playables                  21382.0    10.83   54.33\n",
       "IMT-FB-Android-RoW2-AE-Value-Playables-FANIS   19196.0     9.73   64.06\n",
       "IMT-FB-Android-RoW2-AE-Playables-FANIS          8894.0     4.51   68.57\n",
       "IMT-FB-iOS-EN-T1-AE-Playables                   6769.0     3.43   72.00\n",
       "IMT-FB-Android-EN2-AE-Playables-FANRW           4917.0     2.49   74.49\n",
       "IMT-FB-iOS-EN-AE-Playables - Copy               4247.0     2.15   76.64\n",
       "IMT-FB-Android-DE-AE-Playables2                 4227.0     2.14   78.78\n",
       "IMT-FB-Android-DE-AI-Videos                     4098.0     2.08   80.86\n",
       "IMT-FB-iOS-CHS-AE-Playables                     3886.0     1.97   82.83\n",
       "IMT-FB-Android-EN2-AE-Value-Playables-FANIS     3265.0     1.65   84.48\n",
       "IMT-FB-iOS-DE-AE-Playables                      2931.0     1.49   85.97\n",
       "IMT-FB-iOS-US-AI-Videos                         2636.0     1.34   87.31\n",
       "IMT-FB-Android-EN-AI-Video                      2524.0     1.28   88.59"
      ]
     },
     "metadata": {},
     "output_type": "display_data"
    },
    {
     "name": "stdout",
     "output_type": "stream",
     "text": [
      "Facebook average installs: 2563\n",
      "Total average installs:    4937\n"
     ]
    },
    {
     "data": {
      "image/png": "[encoded data removed]",
      "text/plain": [
       "<Figure size 1152x648 with 1 Axes>"
      ]
     },
     "metadata": {
      "needs_background": "light"
     },
     "output_type": "display_data"
    }
   ],
   "source": [
    "# Visualizing comparisons between Facebook campaings and between Facebook average campaings and total average campaigns\n",
    "ax = fb_mean.groupby(\"campaign name\")[\"installs\"].mean().sort_values(ascending=False).head(15).plot(kind=\"bar\", figsize=(16,9), fontsize=12, \n",
    "                                                                                                  color=sns.color_palette(\"rocket\"), table=False)\n",
    "\n",
    "# Params\n",
    "plt.xticks(rotation=30, horizontalalignment=\"right\")\n",
    "plt.ylabel(\"Absolute values\", fontsize=10)\n",
    "plt.xlabel(\"Facebook campaigns\", fontsize=10)\n",
    "plt.title(\"Facebook campaigns vs. Facebook average installs\", fontsize=10, loc=\"right\")\n",
    "plt.axhline(fb_mean.groupby(\"campaign name\")[\"installs\"].mean().mean(), linewidth=2, color =\"r\")\n",
    "plt.axhline(df.groupby(\"campaign name\")[\"installs\"].mean().mean(), linewidth=2, color =\"b\")\n",
    "plt.legend(('Facebook average installs', 'Total average installs'))\n",
    "plt.tight_layout()\n",
    "\n",
    "# side table\n",
    "st = fb_mean.groupby(\"campaign name\")[\"installs\"].mean().sort_values(ascending=False).to_frame()\n",
    "st[\"percent\"] = (st.apply(lambda x: x/x.sum())*100).round(2)\n",
    "st['cumsum'] = st[\"percent\"].cumsum()\n",
    "display(st.head(15))\n",
    "\n",
    "print(f'Facebook average installs: {int(fb_mean.installs.mean())}')\n",
    "print(f'Total average installs:    {int(df.installs.mean())}')"
   ]
  },
  {
   "cell_type": "markdown",
   "metadata": {},
   "source": [
    "---"
   ]
  },
  {
   "cell_type": "markdown",
   "metadata": {
    "id": "UgjWnfbnF5rs"
   },
   "source": [
    "## Q5. Of how much is the overall CPI of Vungle?"
   ]
  },
  {
   "cell_type": "code",
   "execution_count": 19,
   "metadata": {
    "colab": {
     "base_uri": "https://localhost:8080/",
     "height": 204
    },
    "executionInfo": {
     "elapsed": 2372,
     "status": "ok",
     "timestamp": 1617287383825,
     "user": {
      "displayName": "Mariana Moura",
      "photoUrl": "",
      "userId": "09921903782139644629"
     },
     "user_tz": -60
    },
    "id": "aiumHOdTF5rs",
    "outputId": "f27a59e4-f132-48fc-de38-87ff751193fb"
   },
   "outputs": [
    {
     "data": {
      "text/html": [
       "<div>\n",
       "<style scoped>\n",
       "    .dataframe tbody tr th:only-of-type {\n",
       "        vertical-align: middle;\n",
       "    }\n",
       "\n",
       "    .dataframe tbody tr th {\n",
       "        vertical-align: top;\n",
       "    }\n",
       "\n",
       "    .dataframe thead th {\n",
       "        text-align: right;\n",
       "    }\n",
       "</style>\n",
       "<table border=\"1\" class=\"dataframe\">\n",
       "  <thead>\n",
       "    <tr style=\"text-align: right;\">\n",
       "      <th></th>\n",
       "      <th>media source</th>\n",
       "      <th>cost</th>\n",
       "      <th>installs</th>\n",
       "    </tr>\n",
       "  </thead>\n",
       "  <tbody>\n",
       "    <tr>\n",
       "      <th>1</th>\n",
       "      <td>Vungle</td>\n",
       "      <td>38479.0</td>\n",
       "      <td>50858.0</td>\n",
       "    </tr>\n",
       "    <tr>\n",
       "      <th>2</th>\n",
       "      <td>Vungle</td>\n",
       "      <td>38209.0</td>\n",
       "      <td>41000.0</td>\n",
       "    </tr>\n",
       "    <tr>\n",
       "      <th>9</th>\n",
       "      <td>Vungle</td>\n",
       "      <td>14645.0</td>\n",
       "      <td>16358.0</td>\n",
       "    </tr>\n",
       "    <tr>\n",
       "      <th>10</th>\n",
       "      <td>Vungle</td>\n",
       "      <td>13959.0</td>\n",
       "      <td>17876.0</td>\n",
       "    </tr>\n",
       "    <tr>\n",
       "      <th>11</th>\n",
       "      <td>Vungle</td>\n",
       "      <td>13819.0</td>\n",
       "      <td>18784.0</td>\n",
       "    </tr>\n",
       "  </tbody>\n",
       "</table>\n",
       "</div>"
      ],
      "text/plain": [
       "   media source     cost  installs\n",
       "1        Vungle  38479.0   50858.0\n",
       "2        Vungle  38209.0   41000.0\n",
       "9        Vungle  14645.0   16358.0\n",
       "10       Vungle  13959.0   17876.0\n",
       "11       Vungle  13819.0   18784.0"
      ]
     },
     "execution_count": 19,
     "metadata": {},
     "output_type": "execute_result"
    }
   ],
   "source": [
    "# Filtering records from Vungle only\n",
    "vun = df[[\"media source\",\"cost\",\"installs\"]].copy()\n",
    "vun = vun[vun[\"media source\"] == \"Vungle\"].copy()\n",
    "vun.head() # Printing first 5 rows"
   ]
  },
  {
   "cell_type": "code",
   "execution_count": 20,
   "metadata": {
    "colab": {
     "base_uri": "https://localhost:8080/"
    },
    "executionInfo": {
     "elapsed": 2362,
     "status": "ok",
     "timestamp": 1617287383825,
     "user": {
      "displayName": "Mariana Moura",
      "photoUrl": "",
      "userId": "09921903782139644629"
     },
     "user_tz": -60
    },
    "id": "O05YOdhcM8jh",
    "outputId": "78aed301-3c74-4ccf-e87a-aa805620ec0e"
   },
   "outputs": [
    {
     "data": {
      "text/plain": [
       "0.7351143272535026"
      ]
     },
     "execution_count": 20,
     "metadata": {},
     "output_type": "execute_result"
    }
   ],
   "source": [
    "# Calculating Costs Per Installing (Vungle)\n",
    "vun.cost.sum() / vun.installs.sum()"
   ]
  },
  {
   "cell_type": "markdown",
   "metadata": {},
   "source": [
    "##### **>> The overall CPI of Vungle is $0.74**"
   ]
  },
  {
   "cell_type": "code",
   "execution_count": 21,
   "metadata": {},
   "outputs": [
    {
     "data": {
      "image/png": "[encoded data removed]",
      "text/plain": [
       "<Figure size 432x288 with 1 Axes>"
      ]
     },
     "metadata": {
      "needs_background": "light"
     },
     "output_type": "display_data"
    }
   ],
   "source": [
    "# Visualizing Costs vs. installs sorted by highest cost\n",
    "vun.reset_index(drop=True, inplace=True)\n",
    "vun.plot.line()\n",
    "plt.xlabel('Number of campaigns')\n",
    "plt.ylabel('Absolute Frequency')\n",
    "plt.title('Costs vs. Installs [Vungle]', fontsize=10, loc=\"right\")\n",
    "plt.show()"
   ]
  },
  {
   "cell_type": "markdown",
   "metadata": {},
   "source": [
    "---"
   ]
  },
  {
   "cell_type": "markdown",
   "metadata": {},
   "source": [
    "## Q6. How many Vungle campaigns have provided installs above the average?\n",
    "#### >> **3 campaigns**\n",
    "20176 is the average number of installs per campaign"
   ]
  },
  {
   "cell_type": "code",
   "execution_count": 22,
   "metadata": {},
   "outputs": [],
   "source": [
    "# Filtering records from Vungle only\n",
    "vn_mean = df[df[\"media source\"] == \"Vungle\"].copy()"
   ]
  },
  {
   "cell_type": "code",
   "execution_count": 23,
   "metadata": {},
   "outputs": [
    {
     "data": {
      "text/html": [
       "<div>\n",
       "<style scoped>\n",
       "    .dataframe tbody tr th:only-of-type {\n",
       "        vertical-align: middle;\n",
       "    }\n",
       "\n",
       "    .dataframe tbody tr th {\n",
       "        vertical-align: top;\n",
       "    }\n",
       "\n",
       "    .dataframe thead th {\n",
       "        text-align: right;\n",
       "    }\n",
       "</style>\n",
       "<table border=\"1\" class=\"dataframe\">\n",
       "  <thead>\n",
       "    <tr style=\"text-align: right;\">\n",
       "      <th></th>\n",
       "      <th>installs</th>\n",
       "      <th>percent</th>\n",
       "      <th>cumsum</th>\n",
       "    </tr>\n",
       "    <tr>\n",
       "      <th>campaign name</th>\n",
       "      <th></th>\n",
       "      <th></th>\n",
       "      <th></th>\n",
       "    </tr>\n",
       "  </thead>\n",
       "  <tbody>\n",
       "    <tr>\n",
       "      <th>IMT-Vungle-Android-US</th>\n",
       "      <td>50858.0</td>\n",
       "      <td>21.01</td>\n",
       "      <td>21.01</td>\n",
       "    </tr>\n",
       "    <tr>\n",
       "      <th>IMT-Vungle-iOS-CN</th>\n",
       "      <td>41000.0</td>\n",
       "      <td>16.93</td>\n",
       "      <td>37.94</td>\n",
       "    </tr>\n",
       "    <tr>\n",
       "      <th>IMT-Vungle-Android-T2</th>\n",
       "      <td>38131.0</td>\n",
       "      <td>15.75</td>\n",
       "      <td>53.69</td>\n",
       "    </tr>\n",
       "    <tr>\n",
       "      <th>IMT-Vungle-iOS-CA</th>\n",
       "      <td>18784.0</td>\n",
       "      <td>7.76</td>\n",
       "      <td>61.45</td>\n",
       "    </tr>\n",
       "    <tr>\n",
       "      <th>IMT-Vungle-iOS-UK</th>\n",
       "      <td>17876.0</td>\n",
       "      <td>7.38</td>\n",
       "      <td>68.83</td>\n",
       "    </tr>\n",
       "    <tr>\n",
       "      <th>IMT-Vungle-iOS-AU</th>\n",
       "      <td>16358.0</td>\n",
       "      <td>6.76</td>\n",
       "      <td>75.59</td>\n",
       "    </tr>\n",
       "    <tr>\n",
       "      <th>IMT-Vungle-Android-UK</th>\n",
       "      <td>14668.0</td>\n",
       "      <td>6.06</td>\n",
       "      <td>81.65</td>\n",
       "    </tr>\n",
       "    <tr>\n",
       "      <th>IMT-Vungle-iOS-T2</th>\n",
       "      <td>12360.0</td>\n",
       "      <td>5.11</td>\n",
       "      <td>86.76</td>\n",
       "    </tr>\n",
       "    <tr>\n",
       "      <th>IMT-Vungle-iOS-DE</th>\n",
       "      <td>10855.0</td>\n",
       "      <td>4.48</td>\n",
       "      <td>91.24</td>\n",
       "    </tr>\n",
       "    <tr>\n",
       "      <th>IMT-Vungle-Android-AU</th>\n",
       "      <td>10126.0</td>\n",
       "      <td>4.18</td>\n",
       "      <td>95.42</td>\n",
       "    </tr>\n",
       "  </tbody>\n",
       "</table>\n",
       "</div>"
      ],
      "text/plain": [
       "                       installs  percent  cumsum\n",
       "campaign name                                   \n",
       "IMT-Vungle-Android-US   50858.0    21.01   21.01\n",
       "IMT-Vungle-iOS-CN       41000.0    16.93   37.94\n",
       "IMT-Vungle-Android-T2   38131.0    15.75   53.69\n",
       "IMT-Vungle-iOS-CA       18784.0     7.76   61.45\n",
       "IMT-Vungle-iOS-UK       17876.0     7.38   68.83\n",
       "IMT-Vungle-iOS-AU       16358.0     6.76   75.59\n",
       "IMT-Vungle-Android-UK   14668.0     6.06   81.65\n",
       "IMT-Vungle-iOS-T2       12360.0     5.11   86.76\n",
       "IMT-Vungle-iOS-DE       10855.0     4.48   91.24\n",
       "IMT-Vungle-Android-AU   10126.0     4.18   95.42"
      ]
     },
     "metadata": {},
     "output_type": "display_data"
    },
    {
     "name": "stdout",
     "output_type": "stream",
     "text": [
      "Vungle average installs: 20176\n",
      "Total average installs:   4937\n"
     ]
    },
    {
     "data": {
      "image/png": "[encoded data removed]",
      "text/plain": [
       "<Figure size 1152x648 with 1 Axes>"
      ]
     },
     "metadata": {
      "needs_background": "light"
     },
     "output_type": "display_data"
    }
   ],
   "source": [
    "# Visualizing comparisons between Vungle campaings and between Vungle average campaings and total average campaigns\n",
    "ax = vn_mean.groupby(\"campaign name\")[\"installs\"].mean().sort_values(ascending=False).plot(kind=\"bar\", figsize=(16,9), fontsize=12, \n",
    "                                                                                                  color=sns.color_palette(\"rocket\"), table=False)\n",
    "\n",
    "# Params\n",
    "plt.xticks(rotation=30, horizontalalignment=\"right\")\n",
    "plt.ylabel(\"Absolute values\", fontsize=10)\n",
    "plt.xlabel(\"Vungle campaigns\", fontsize=10)\n",
    "plt.title(\"Vungle campaigns vs. average installs\", fontsize=10, loc=\"right\")\n",
    "plt.axhline(vn_mean.groupby(\"campaign name\")[\"installs\"].mean().mean(), linewidth=2, color =\"r\")\n",
    "plt.axhline(df.groupby(\"campaign name\")[\"installs\"].mean().mean(), linewidth=2, color =\"b\")\n",
    "plt.legend(('Vungle average installs', 'Total average installs'))\n",
    "plt.tight_layout()\n",
    "\n",
    "# side table\n",
    "st = vn_mean.groupby(\"campaign name\")[\"installs\"].mean().sort_values(ascending=False).to_frame()\n",
    "st[\"percent\"] = (st.apply(lambda x: x/x.sum())*100).round(2)\n",
    "st['cumsum'] = st[\"percent\"].cumsum()\n",
    "display(st.head(10))\n",
    "\n",
    "print(f'Vungle average installs: {int(vn_mean.installs.mean())}')\n",
    "print(f'Total average installs:   {int(df.installs.mean())}')"
   ]
  },
  {
   "cell_type": "markdown",
   "metadata": {},
   "source": [
    "---"
   ]
  },
  {
   "cell_type": "markdown",
   "metadata": {},
   "source": [
    "## Q7. Do both platforms have similar performance (cost vs. install)?"
   ]
  },
  {
   "cell_type": "code",
   "execution_count": 24,
   "metadata": {},
   "outputs": [],
   "source": [
    "# Concatenating both Facebook + Vungle datasets\n",
    "cpi2brand = pd.concat([fb, vun])"
   ]
  },
  {
   "cell_type": "code",
   "execution_count": 25,
   "metadata": {},
   "outputs": [
    {
     "data": {
      "text/html": [
       "<div>\n",
       "<style scoped>\n",
       "    .dataframe tbody tr th:only-of-type {\n",
       "        vertical-align: middle;\n",
       "    }\n",
       "\n",
       "    .dataframe tbody tr th {\n",
       "        vertical-align: top;\n",
       "    }\n",
       "\n",
       "    .dataframe thead th {\n",
       "        text-align: right;\n",
       "    }\n",
       "</style>\n",
       "<table border=\"1\" class=\"dataframe\">\n",
       "  <thead>\n",
       "    <tr style=\"text-align: right;\">\n",
       "      <th></th>\n",
       "      <th>cost</th>\n",
       "      <th>installs</th>\n",
       "    </tr>\n",
       "    <tr>\n",
       "      <th>media source</th>\n",
       "      <th></th>\n",
       "      <th></th>\n",
       "    </tr>\n",
       "  </thead>\n",
       "  <tbody>\n",
       "    <tr>\n",
       "      <th>Facebook</th>\n",
       "      <td>388227.0</td>\n",
       "      <td>197357.0</td>\n",
       "    </tr>\n",
       "    <tr>\n",
       "      <th>Vungle</th>\n",
       "      <td>177980.0</td>\n",
       "      <td>242112.0</td>\n",
       "    </tr>\n",
       "  </tbody>\n",
       "</table>\n",
       "</div>"
      ],
      "text/plain": [
       "                  cost  installs\n",
       "media source                    \n",
       "Facebook      388227.0  197357.0\n",
       "Vungle        177980.0  242112.0"
      ]
     },
     "metadata": {},
     "output_type": "display_data"
    },
    {
     "data": {
      "image/png": "[encoded data removed]",
      "text/plain": [
       "<Figure size 648x432 with 1 Axes>"
      ]
     },
     "metadata": {
      "needs_background": "light"
     },
     "output_type": "display_data"
    }
   ],
   "source": [
    "# Bar plot\n",
    "ax = cpi2brand.groupby([\"media source\"])[[\"cost\",\"installs\"]].sum().plot(kind=\"bar\", figsize=(9,6), fontsize=12, color=sns.color_palette(\"rocket\"), table=False)\n",
    "for p in ax.patches:\n",
    "    ax.annotate(\"%.2f\" % p.get_height(), (p.get_x() + p.get_width() / 2., p.get_height()), ha='center', va='center', xytext=(0, 7), textcoords='offset points')\n",
    "\n",
    "# Params\n",
    "plt.xlabel(\"media source\", fontsize=10)\n",
    "plt.xticks(rotation=0, horizontalalignment=\"center\")\n",
    "plt.ylabel(\"Absolute frequency\", fontsize=10)\n",
    "plt.title(\"Overall Cost vs Installs comparison [Facebook + Vungle]\", fontsize=10, loc=\"right\")\n",
    "\n",
    "# side table\n",
    "installs = cpi2brand.groupby([\"media source\"])[[\"cost\",\"installs\"]].sum().sort_values(by=\"cost\", ascending=False)\n",
    "display(installs)"
   ]
  },
  {
   "cell_type": "markdown",
   "metadata": {
    "id": "ZH4rUY7BF5rs"
   },
   "source": [
    "---\n",
    "## Q8. Of how much is the overall D30  ROAS of Facebook?"
   ]
  },
  {
   "cell_type": "code",
   "execution_count": 26,
   "metadata": {
    "colab": {
     "base_uri": "https://localhost:8080/",
     "height": 204
    },
    "executionInfo": {
     "elapsed": 2354,
     "status": "ok",
     "timestamp": 1617287383825,
     "user": {
      "displayName": "Mariana Moura",
      "photoUrl": "",
      "userId": "09921903782139644629"
     },
     "user_tz": -60
    },
    "id": "3WXfvBkoF5rt",
    "outputId": "930380ab-e8e0-4fdb-d9fe-b81bc3e3eabd"
   },
   "outputs": [
    {
     "data": {
      "text/html": [
       "<div>\n",
       "<style scoped>\n",
       "    .dataframe tbody tr th:only-of-type {\n",
       "        vertical-align: middle;\n",
       "    }\n",
       "\n",
       "    .dataframe tbody tr th {\n",
       "        vertical-align: top;\n",
       "    }\n",
       "\n",
       "    .dataframe thead th {\n",
       "        text-align: right;\n",
       "    }\n",
       "</style>\n",
       "<table border=\"1\" class=\"dataframe\">\n",
       "  <thead>\n",
       "    <tr style=\"text-align: right;\">\n",
       "      <th></th>\n",
       "      <th>media source</th>\n",
       "      <th>cost</th>\n",
       "      <th>d30 total revenue</th>\n",
       "    </tr>\n",
       "  </thead>\n",
       "  <tbody>\n",
       "    <tr>\n",
       "      <th>0</th>\n",
       "      <td>Facebook</td>\n",
       "      <td>99061.0</td>\n",
       "      <td>74185.0</td>\n",
       "    </tr>\n",
       "    <tr>\n",
       "      <th>3</th>\n",
       "      <td>Facebook</td>\n",
       "      <td>34746.0</td>\n",
       "      <td>29437.0</td>\n",
       "    </tr>\n",
       "    <tr>\n",
       "      <th>4</th>\n",
       "      <td>Facebook</td>\n",
       "      <td>31662.0</td>\n",
       "      <td>26026.0</td>\n",
       "    </tr>\n",
       "    <tr>\n",
       "      <th>5</th>\n",
       "      <td>Facebook</td>\n",
       "      <td>22042.0</td>\n",
       "      <td>19517.0</td>\n",
       "    </tr>\n",
       "    <tr>\n",
       "      <th>6</th>\n",
       "      <td>Facebook</td>\n",
       "      <td>20704.0</td>\n",
       "      <td>15087.0</td>\n",
       "    </tr>\n",
       "  </tbody>\n",
       "</table>\n",
       "</div>"
      ],
      "text/plain": [
       "  media source     cost  d30 total revenue\n",
       "0     Facebook  99061.0            74185.0\n",
       "3     Facebook  34746.0            29437.0\n",
       "4     Facebook  31662.0            26026.0\n",
       "5     Facebook  22042.0            19517.0\n",
       "6     Facebook  20704.0            15087.0"
      ]
     },
     "execution_count": 26,
     "metadata": {},
     "output_type": "execute_result"
    }
   ],
   "source": [
    "# Selecting Facebook segment dataset\n",
    "fb_d30 = df[[\"media source\",\"cost\",\"d30 total revenue\"]].copy()\n",
    "fb_d30 = fb_d30[fb_d30[\"media source\"] == \"Facebook\"].copy()\n",
    "fb_d30.head()"
   ]
  },
  {
   "cell_type": "code",
   "execution_count": 27,
   "metadata": {
    "colab": {
     "base_uri": "https://localhost:8080/"
    },
    "executionInfo": {
     "elapsed": 2348,
     "status": "ok",
     "timestamp": 1617287383826,
     "user": {
      "displayName": "Mariana Moura",
      "photoUrl": "",
      "userId": "09921903782139644629"
     },
     "user_tz": -60
    },
    "id": "i7Yn_yKAne7x",
    "outputId": "8ba9fa8b-ed8f-4c01-d62d-e41006e42714"
   },
   "outputs": [
    {
     "data": {
      "text/plain": [
       "0.7265414306578368"
      ]
     },
     "execution_count": 27,
     "metadata": {},
     "output_type": "execute_result"
    }
   ],
   "source": [
    "# Calculating Return On Advert Spend (Facebook) over 30 days\n",
    "fb_d30[\"d30 total revenue\"].sum() / fb_d30.cost.sum()"
   ]
  },
  {
   "cell_type": "markdown",
   "metadata": {},
   "source": [
    "##### **>> The overall D30 ROAS of Facebook is 72.65 %**"
   ]
  },
  {
   "cell_type": "code",
   "execution_count": 28,
   "metadata": {},
   "outputs": [
    {
     "data": {
      "image/png": "[encoded data removed]",
      "text/plain": [
       "<Figure size 432x288 with 1 Axes>"
      ]
     },
     "metadata": {
      "needs_background": "light"
     },
     "output_type": "display_data"
    }
   ],
   "source": [
    "# Visualizing Costs vs. installs over 30 days sorted by highest cost (Facebook)\n",
    "fb_d30.plot.line()\n",
    "plt.xlabel('Number of campaigns')\n",
    "plt.ylabel('Absolute Frequency')\n",
    "plt.title('Costs vs. d30 total revenue [Facebook]', fontsize=10, loc=\"right\")\n",
    "plt.show()"
   ]
  },
  {
   "cell_type": "markdown",
   "metadata": {
    "id": "B0wF1f79F5ru"
   },
   "source": [
    "---\n",
    "## Q9. Of how much is the overall D30 ROAS of Vungle?"
   ]
  },
  {
   "cell_type": "code",
   "execution_count": 29,
   "metadata": {
    "colab": {
     "base_uri": "https://localhost:8080/",
     "height": 204
    },
    "executionInfo": {
     "elapsed": 2339,
     "status": "ok",
     "timestamp": 1617287383826,
     "user": {
      "displayName": "Mariana Moura",
      "photoUrl": "",
      "userId": "09921903782139644629"
     },
     "user_tz": -60
    },
    "id": "ArgizEL9F5ru",
    "outputId": "8542774b-c402-4869-9e27-74ecc41d2564"
   },
   "outputs": [
    {
     "data": {
      "text/html": [
       "<div>\n",
       "<style scoped>\n",
       "    .dataframe tbody tr th:only-of-type {\n",
       "        vertical-align: middle;\n",
       "    }\n",
       "\n",
       "    .dataframe tbody tr th {\n",
       "        vertical-align: top;\n",
       "    }\n",
       "\n",
       "    .dataframe thead th {\n",
       "        text-align: right;\n",
       "    }\n",
       "</style>\n",
       "<table border=\"1\" class=\"dataframe\">\n",
       "  <thead>\n",
       "    <tr style=\"text-align: right;\">\n",
       "      <th></th>\n",
       "      <th>media source</th>\n",
       "      <th>cost</th>\n",
       "      <th>d30 total revenue</th>\n",
       "    </tr>\n",
       "  </thead>\n",
       "  <tbody>\n",
       "    <tr>\n",
       "      <th>1</th>\n",
       "      <td>Vungle</td>\n",
       "      <td>38479.0</td>\n",
       "      <td>26216.0</td>\n",
       "    </tr>\n",
       "    <tr>\n",
       "      <th>2</th>\n",
       "      <td>Vungle</td>\n",
       "      <td>38209.0</td>\n",
       "      <td>55175.0</td>\n",
       "    </tr>\n",
       "    <tr>\n",
       "      <th>9</th>\n",
       "      <td>Vungle</td>\n",
       "      <td>14645.0</td>\n",
       "      <td>11386.0</td>\n",
       "    </tr>\n",
       "    <tr>\n",
       "      <th>10</th>\n",
       "      <td>Vungle</td>\n",
       "      <td>13959.0</td>\n",
       "      <td>13614.0</td>\n",
       "    </tr>\n",
       "    <tr>\n",
       "      <th>11</th>\n",
       "      <td>Vungle</td>\n",
       "      <td>13819.0</td>\n",
       "      <td>11344.0</td>\n",
       "    </tr>\n",
       "  </tbody>\n",
       "</table>\n",
       "</div>"
      ],
      "text/plain": [
       "   media source     cost  d30 total revenue\n",
       "1        Vungle  38479.0            26216.0\n",
       "2        Vungle  38209.0            55175.0\n",
       "9        Vungle  14645.0            11386.0\n",
       "10       Vungle  13959.0            13614.0\n",
       "11       Vungle  13819.0            11344.0"
      ]
     },
     "execution_count": 29,
     "metadata": {},
     "output_type": "execute_result"
    }
   ],
   "source": [
    "# Selecting Vungle' segment dataset over 30 days\n",
    "vun_d30 = df[[\"media source\",\"cost\",\"d30 total revenue\"]].copy()\n",
    "vun_d30 = vun_d30[vun_d30[\"media source\"] == \"Vungle\"].copy()\n",
    "vun_d30.head()"
   ]
  },
  {
   "cell_type": "code",
   "execution_count": 30,
   "metadata": {
    "colab": {
     "base_uri": "https://localhost:8080/"
    },
    "executionInfo": {
     "elapsed": 2332,
     "status": "ok",
     "timestamp": 1617287383826,
     "user": {
      "displayName": "Mariana Moura",
      "photoUrl": "",
      "userId": "09921903782139644629"
     },
     "user_tz": -60
    },
    "id": "Xzw7gOE9F5ru",
    "outputId": "a007d1d7-c98e-4f7d-aa8a-1c5c2c787a25"
   },
   "outputs": [
    {
     "data": {
      "text/plain": [
       "0.9287728958309922"
      ]
     },
     "execution_count": 30,
     "metadata": {},
     "output_type": "execute_result"
    }
   ],
   "source": [
    "# Calculating Return On Advert Spend (Vungle) over 30 days\n",
    "vun_d30[\"d30 total revenue\"].sum() / vun_d30.cost.sum()"
   ]
  },
  {
   "cell_type": "markdown",
   "metadata": {},
   "source": [
    "##### **>> The overall D30 ROAS of Vungle is 92.88 %**"
   ]
  },
  {
   "cell_type": "code",
   "execution_count": 31,
   "metadata": {},
   "outputs": [
    {
     "data": {
      "image/png": "[encoded data removed]",
      "text/plain": [
       "<Figure size 432x288 with 1 Axes>"
      ]
     },
     "metadata": {
      "needs_background": "light"
     },
     "output_type": "display_data"
    }
   ],
   "source": [
    "# Visualizing Costs vs. installs over 30 days sorted by highest cost (Vungle)\n",
    "vun_d30.plot.line()\n",
    "plt.xlabel('Number of campaigns')\n",
    "plt.ylabel('Absolute Frequency')\n",
    "plt.title('Costs vs. d30 total revenue [Vungle]', fontsize=10, loc=\"right\")\n",
    "plt.show()"
   ]
  },
  {
   "cell_type": "markdown",
   "metadata": {},
   "source": [
    "---\n",
    "## Q10. Overall Cost vs. D30_ROAS comparison of both platforms"
   ]
  },
  {
   "cell_type": "code",
   "execution_count": 32,
   "metadata": {},
   "outputs": [],
   "source": [
    "# Concatenating both Facebook + Vungle datasets\n",
    "roas2brand = pd.concat([fb_d30, vun_d30])"
   ]
  },
  {
   "cell_type": "code",
   "execution_count": 33,
   "metadata": {},
   "outputs": [
    {
     "data": {
      "text/html": [
       "<div>\n",
       "<style scoped>\n",
       "    .dataframe tbody tr th:only-of-type {\n",
       "        vertical-align: middle;\n",
       "    }\n",
       "\n",
       "    .dataframe tbody tr th {\n",
       "        vertical-align: top;\n",
       "    }\n",
       "\n",
       "    .dataframe thead th {\n",
       "        text-align: right;\n",
       "    }\n",
       "</style>\n",
       "<table border=\"1\" class=\"dataframe\">\n",
       "  <thead>\n",
       "    <tr style=\"text-align: right;\">\n",
       "      <th></th>\n",
       "      <th>cost</th>\n",
       "      <th>d30 total revenue</th>\n",
       "    </tr>\n",
       "    <tr>\n",
       "      <th>media source</th>\n",
       "      <th></th>\n",
       "      <th></th>\n",
       "    </tr>\n",
       "  </thead>\n",
       "  <tbody>\n",
       "    <tr>\n",
       "      <th>Facebook</th>\n",
       "      <td>388227.0</td>\n",
       "      <td>282063.0</td>\n",
       "    </tr>\n",
       "    <tr>\n",
       "      <th>Vungle</th>\n",
       "      <td>177980.0</td>\n",
       "      <td>165303.0</td>\n",
       "    </tr>\n",
       "  </tbody>\n",
       "</table>\n",
       "</div>"
      ],
      "text/plain": [
       "                  cost  d30 total revenue\n",
       "media source                             \n",
       "Facebook      388227.0           282063.0\n",
       "Vungle        177980.0           165303.0"
      ]
     },
     "metadata": {},
     "output_type": "display_data"
    },
    {
     "data": {
      "image/png": "[encoded data removed]",
      "text/plain": [
       "<Figure size 648x432 with 1 Axes>"
      ]
     },
     "metadata": {
      "needs_background": "light"
     },
     "output_type": "display_data"
    }
   ],
   "source": [
    "# Bar plot\n",
    "ax = roas2brand.groupby([\"media source\"])[[\"cost\",\"d30 total revenue\"]].sum().plot(kind=\"bar\", figsize=(9,6), fontsize=12, color=sns.color_palette(\"rocket\"), table=False)\n",
    "for p in ax.patches:\n",
    "    ax.annotate(\"%.2f\" % p.get_height(), (p.get_x() + p.get_width() / 2., p.get_height()), ha='center', va='center', xytext=(0, 7), textcoords='offset points')\n",
    "\n",
    "# Params\n",
    "plt.xlabel(\"media source\", fontsize=10)\n",
    "plt.xticks(rotation=0, horizontalalignment=\"center\")\n",
    "plt.ylabel(\"Absolute frequency\", fontsize=10)\n",
    "plt.title(\"Overall Cost vs Roas _d30 comparison [Facebook + Vungle]\", fontsize=10, loc=\"right\")\n",
    "\n",
    "# side table\n",
    "roas = roas2brand.groupby([\"media source\"])[[\"cost\",\"d30 total revenue\"]].sum().sort_values(by=\"cost\", ascending=False)\n",
    "display(roas)"
   ]
  },
  {
   "cell_type": "code",
   "execution_count": 34,
   "metadata": {},
   "outputs": [
    {
     "data": {
      "text/html": [
       "<div>\n",
       "<style scoped>\n",
       "    .dataframe tbody tr th:only-of-type {\n",
       "        vertical-align: middle;\n",
       "    }\n",
       "\n",
       "    .dataframe tbody tr th {\n",
       "        vertical-align: top;\n",
       "    }\n",
       "\n",
       "    .dataframe thead th {\n",
       "        text-align: right;\n",
       "    }\n",
       "</style>\n",
       "<table border=\"1\" class=\"dataframe\">\n",
       "  <thead>\n",
       "    <tr style=\"text-align: right;\">\n",
       "      <th></th>\n",
       "      <th>media source</th>\n",
       "      <th>campaign name</th>\n",
       "      <th>cost</th>\n",
       "      <th>installs</th>\n",
       "      <th>d01 total revenue</th>\n",
       "      <th>d03 total revenue</th>\n",
       "      <th>d07 total revenue</th>\n",
       "      <th>d30 total revenue</th>\n",
       "      <th>cpi</th>\n",
       "      <th>d01_roas</th>\n",
       "      <th>d03_roas</th>\n",
       "      <th>d07_roas</th>\n",
       "      <th>d30_roas</th>\n",
       "    </tr>\n",
       "  </thead>\n",
       "  <tbody>\n",
       "    <tr>\n",
       "      <th>0</th>\n",
       "      <td>Facebook</td>\n",
       "      <td>IMT-FB-iOS-EN-US-AE-Playables</td>\n",
       "      <td>99061.0</td>\n",
       "      <td>21382.0</td>\n",
       "      <td>10404.0</td>\n",
       "      <td>25694.0</td>\n",
       "      <td>39231.0</td>\n",
       "      <td>74185.0</td>\n",
       "      <td>4.632916</td>\n",
       "      <td>0.105026</td>\n",
       "      <td>0.259376</td>\n",
       "      <td>0.396029</td>\n",
       "      <td>0.748882</td>\n",
       "    </tr>\n",
       "    <tr>\n",
       "      <th>1</th>\n",
       "      <td>Vungle</td>\n",
       "      <td>IMT-Vungle-Android-US</td>\n",
       "      <td>38479.0</td>\n",
       "      <td>50858.0</td>\n",
       "      <td>3632.0</td>\n",
       "      <td>9679.0</td>\n",
       "      <td>15095.0</td>\n",
       "      <td>26216.0</td>\n",
       "      <td>0.756597</td>\n",
       "      <td>0.094389</td>\n",
       "      <td>0.251540</td>\n",
       "      <td>0.392292</td>\n",
       "      <td>0.681307</td>\n",
       "    </tr>\n",
       "    <tr>\n",
       "      <th>2</th>\n",
       "      <td>Vungle</td>\n",
       "      <td>IMT-Vungle-iOS-CN</td>\n",
       "      <td>38209.0</td>\n",
       "      <td>41000.0</td>\n",
       "      <td>8537.0</td>\n",
       "      <td>20598.0</td>\n",
       "      <td>31850.0</td>\n",
       "      <td>55175.0</td>\n",
       "      <td>0.931927</td>\n",
       "      <td>0.223429</td>\n",
       "      <td>0.539088</td>\n",
       "      <td>0.833573</td>\n",
       "      <td>1.444032</td>\n",
       "    </tr>\n",
       "    <tr>\n",
       "      <th>3</th>\n",
       "      <td>Facebook</td>\n",
       "      <td>IMT-FB-Android-RoW2-AE-Playables-FANRW</td>\n",
       "      <td>34746.0</td>\n",
       "      <td>55891.0</td>\n",
       "      <td>4360.0</td>\n",
       "      <td>10565.0</td>\n",
       "      <td>16080.0</td>\n",
       "      <td>29437.0</td>\n",
       "      <td>0.621674</td>\n",
       "      <td>0.125482</td>\n",
       "      <td>0.304064</td>\n",
       "      <td>0.462787</td>\n",
       "      <td>0.847205</td>\n",
       "    </tr>\n",
       "    <tr>\n",
       "      <th>4</th>\n",
       "      <td>Facebook</td>\n",
       "      <td>IMT-FB-Android-RoW2-AE-Value-Playables-FANIS</td>\n",
       "      <td>31662.0</td>\n",
       "      <td>19196.0</td>\n",
       "      <td>3952.0</td>\n",
       "      <td>9824.0</td>\n",
       "      <td>14728.0</td>\n",
       "      <td>26026.0</td>\n",
       "      <td>1.649406</td>\n",
       "      <td>0.124818</td>\n",
       "      <td>0.310277</td>\n",
       "      <td>0.465163</td>\n",
       "      <td>0.821995</td>\n",
       "    </tr>\n",
       "  </tbody>\n",
       "</table>\n",
       "</div>"
      ],
      "text/plain": [
       "  media source                                 campaign name     cost  \\\n",
       "0     Facebook                 IMT-FB-iOS-EN-US-AE-Playables  99061.0   \n",
       "1       Vungle                         IMT-Vungle-Android-US  38479.0   \n",
       "2       Vungle                             IMT-Vungle-iOS-CN  38209.0   \n",
       "3     Facebook        IMT-FB-Android-RoW2-AE-Playables-FANRW  34746.0   \n",
       "4     Facebook  IMT-FB-Android-RoW2-AE-Value-Playables-FANIS  31662.0   \n",
       "\n",
       "   installs  d01 total revenue  d03 total revenue  d07 total revenue  \\\n",
       "0   21382.0            10404.0            25694.0            39231.0   \n",
       "1   50858.0             3632.0             9679.0            15095.0   \n",
       "2   41000.0             8537.0            20598.0            31850.0   \n",
       "3   55891.0             4360.0            10565.0            16080.0   \n",
       "4   19196.0             3952.0             9824.0            14728.0   \n",
       "\n",
       "   d30 total revenue       cpi  d01_roas  d03_roas  d07_roas  d30_roas  \n",
       "0            74185.0  4.632916  0.105026  0.259376  0.396029  0.748882  \n",
       "1            26216.0  0.756597  0.094389  0.251540  0.392292  0.681307  \n",
       "2            55175.0  0.931927  0.223429  0.539088  0.833573  1.444032  \n",
       "3            29437.0  0.621674  0.125482  0.304064  0.462787  0.847205  \n",
       "4            26026.0  1.649406  0.124818  0.310277  0.465163  0.821995  "
      ]
     },
     "execution_count": 34,
     "metadata": {},
     "output_type": "execute_result"
    }
   ],
   "source": [
    "df.head()"
   ]
  },
  {
   "cell_type": "markdown",
   "metadata": {
    "id": "7oCxhk_WF5rv"
   },
   "source": [
    "---\n",
    "## Q11. Is there any correlation between the stages during the campaigns?"
   ]
  },
  {
   "cell_type": "markdown",
   "metadata": {},
   "source": [
    "Displaying correlations heatmap (Pearson method)"
   ]
  },
  {
   "cell_type": "code",
   "execution_count": 35,
   "metadata": {},
   "outputs": [
    {
     "data": {
      "image/png": "[encoded data removed]",
      "text/plain": [
       "<Figure size 1368x648 with 2 Axes>"
      ]
     },
     "metadata": {
      "needs_background": "light"
     },
     "output_type": "display_data"
    }
   ],
   "source": [
    "# Display correlation graph (Perason correlation method)\n",
    "mask = np.triu(df.corr(), 1)\n",
    "plt.figure(figsize=(19, 9))\n",
    "sns.heatmap(df.corr(), annot=True, vmax=1, vmin=-1, square=False, cmap=\"BrBG\", mask=mask);"
   ]
  },
  {
   "cell_type": "code",
   "execution_count": 36,
   "metadata": {},
   "outputs": [
    {
     "data": {
      "text/plain": [
       "0.9037410337635488"
      ]
     },
     "execution_count": 36,
     "metadata": {},
     "output_type": "execute_result"
    }
   ],
   "source": [
    "# Calculating corr. coef. between ROAS 7 days and 30 days\n",
    "df['d07_roas'].corr(df['d30_roas'])"
   ]
  },
  {
   "cell_type": "code",
   "execution_count": 37,
   "metadata": {},
   "outputs": [
    {
     "data": {
      "image/png": "[encoded data removed]",
      "text/plain": [
       "<Figure size 648x432 with 1 Axes>"
      ]
     },
     "metadata": {
      "needs_background": "light"
     },
     "output_type": "display_data"
    }
   ],
   "source": [
    "# Display correlations between ROAS on the 7th and 30th days\n",
    "\n",
    "df.plot(x=\"d07_roas\", y=\"d30_roas\", kind=\"scatter\", figsize=(9,6), fontsize=12)\n",
    "plt.title(\"Correlation d07_ROAS and d30_ROAS\", fontsize=10, loc=\"right\")\n",
    "plt.xticks(rotation=0, horizontalalignment=\"center\");"
   ]
  },
  {
   "cell_type": "markdown",
   "metadata": {},
   "source": [
    "##### **>> d07_roas has a positive and very strong correlation (Pearson method) with d30_roas of 90.37 %**"
   ]
  },
  {
   "cell_type": "markdown",
   "metadata": {
    "id": "J39cptweF5rv"
   },
   "source": [
    "---\n",
    "## Q12. The campaigns with the highest ROAS have the highest Total Revenue?"
   ]
  },
  {
   "cell_type": "markdown",
   "metadata": {},
   "source": [
    "### **d01_ROAS**"
   ]
  },
  {
   "cell_type": "code",
   "execution_count": 38,
   "metadata": {
    "colab": {
     "base_uri": "https://localhost:8080/",
     "height": 204
    },
    "executionInfo": {
     "elapsed": 2941,
     "status": "ok",
     "timestamp": 1617287384458,
     "user": {
      "displayName": "Mariana Moura",
      "photoUrl": "",
      "userId": "09921903782139644629"
     },
     "user_tz": -60
    },
    "id": "Q6RuZxjMF5rv",
    "outputId": "e4b3e23f-4d69-4727-e3d3-810eae54a0c7"
   },
   "outputs": [
    {
     "data": {
      "text/html": [
       "<div>\n",
       "<style scoped>\n",
       "    .dataframe tbody tr th:only-of-type {\n",
       "        vertical-align: middle;\n",
       "    }\n",
       "\n",
       "    .dataframe tbody tr th {\n",
       "        vertical-align: top;\n",
       "    }\n",
       "\n",
       "    .dataframe thead th {\n",
       "        text-align: right;\n",
       "    }\n",
       "</style>\n",
       "<table border=\"1\" class=\"dataframe\">\n",
       "  <thead>\n",
       "    <tr style=\"text-align: right;\">\n",
       "      <th></th>\n",
       "      <th>campaign name</th>\n",
       "      <th>cost</th>\n",
       "      <th>d01 total revenue</th>\n",
       "      <th>d01_roas</th>\n",
       "    </tr>\n",
       "  </thead>\n",
       "  <tbody>\n",
       "    <tr>\n",
       "      <th>0</th>\n",
       "      <td>IMT-FB-iOS-EN-US-AE-Playables</td>\n",
       "      <td>99061.0</td>\n",
       "      <td>10404.0</td>\n",
       "      <td>0.105026</td>\n",
       "    </tr>\n",
       "    <tr>\n",
       "      <th>1</th>\n",
       "      <td>IMT-Vungle-Android-US</td>\n",
       "      <td>38479.0</td>\n",
       "      <td>3632.0</td>\n",
       "      <td>0.094389</td>\n",
       "    </tr>\n",
       "    <tr>\n",
       "      <th>2</th>\n",
       "      <td>IMT-Vungle-iOS-CN</td>\n",
       "      <td>38209.0</td>\n",
       "      <td>8537.0</td>\n",
       "      <td>0.223429</td>\n",
       "    </tr>\n",
       "    <tr>\n",
       "      <th>3</th>\n",
       "      <td>IMT-FB-Android-RoW2-AE-Playables-FANRW</td>\n",
       "      <td>34746.0</td>\n",
       "      <td>4360.0</td>\n",
       "      <td>0.125482</td>\n",
       "    </tr>\n",
       "    <tr>\n",
       "      <th>4</th>\n",
       "      <td>IMT-FB-Android-RoW2-AE-Value-Playables-FANIS</td>\n",
       "      <td>31662.0</td>\n",
       "      <td>3952.0</td>\n",
       "      <td>0.124818</td>\n",
       "    </tr>\n",
       "  </tbody>\n",
       "</table>\n",
       "</div>"
      ],
      "text/plain": [
       "                                  campaign name     cost  d01 total revenue  \\\n",
       "0                 IMT-FB-iOS-EN-US-AE-Playables  99061.0            10404.0   \n",
       "1                         IMT-Vungle-Android-US  38479.0             3632.0   \n",
       "2                             IMT-Vungle-iOS-CN  38209.0             8537.0   \n",
       "3        IMT-FB-Android-RoW2-AE-Playables-FANRW  34746.0             4360.0   \n",
       "4  IMT-FB-Android-RoW2-AE-Value-Playables-FANIS  31662.0             3952.0   \n",
       "\n",
       "   d01_roas  \n",
       "0  0.105026  \n",
       "1  0.094389  \n",
       "2  0.223429  \n",
       "3  0.125482  \n",
       "4  0.124818  "
      ]
     },
     "execution_count": 38,
     "metadata": {},
     "output_type": "execute_result"
    }
   ],
   "source": [
    "# Selecting columns to work with\n",
    "high_d01 = df[[\"campaign name\",\"cost\",\"d01 total revenue\",\"d01_roas\"]].copy()\n",
    "high_d01.head() # displaying the first 5 rows"
   ]
  },
  {
   "cell_type": "code",
   "execution_count": 39,
   "metadata": {
    "colab": {
     "base_uri": "https://localhost:8080/"
    },
    "executionInfo": {
     "elapsed": 2928,
     "status": "ok",
     "timestamp": 1617287384459,
     "user": {
      "displayName": "Mariana Moura",
      "photoUrl": "",
      "userId": "09921903782139644629"
     },
     "user_tz": -60
    },
    "id": "t-bDUQE_rY9Z",
    "outputId": "d4a124ba-73b7-4bd4-b852-3a32a994b638"
   },
   "outputs": [],
   "source": [
    "# Assigning maximum Return On Advert Spend 30 days and max total revenue 30 days\n",
    "d01_roas_max = high_d01['d01_roas'].max()\n",
    "d01_total_max = high_d01['d01 total revenue'].max()"
   ]
  },
  {
   "cell_type": "code",
   "execution_count": 40,
   "metadata": {
    "colab": {
     "base_uri": "https://localhost:8080/"
    },
    "executionInfo": {
     "elapsed": 2915,
     "status": "ok",
     "timestamp": 1617287384460,
     "user": {
      "displayName": "Mariana Moura",
      "photoUrl": "",
      "userId": "09921903782139644629"
     },
     "user_tz": -60
    },
    "id": "2mBK9aTGrY_C",
    "outputId": "32501438-3c60-472e-c3bf-509808433442"
   },
   "outputs": [
    {
     "name": "stdout",
     "output_type": "stream",
     "text": [
      "\n",
      "Campaign with the highest d01_roas:\n",
      "\n"
     ]
    },
    {
     "data": {
      "text/plain": [
       "59    IMT-FB-Android-RoW2-AE-Playables-Feed\n",
       "Name: campaign name, dtype: object"
      ]
     },
     "execution_count": 40,
     "metadata": {},
     "output_type": "execute_result"
    }
   ],
   "source": [
    "print(\"\"\"\n",
    "Campaign with the highest d01_roas:\n",
    "\"\"\")\n",
    "high_d01.loc[high_d01['d01_roas'] == d01_roas_max, 'campaign name']"
   ]
  },
  {
   "cell_type": "code",
   "execution_count": 41,
   "metadata": {
    "colab": {
     "base_uri": "https://localhost:8080/"
    },
    "executionInfo": {
     "elapsed": 2909,
     "status": "ok",
     "timestamp": 1617287384460,
     "user": {
      "displayName": "Mariana Moura",
      "photoUrl": "",
      "userId": "09921903782139644629"
     },
     "user_tz": -60
    },
    "id": "3OVy8SEysw9d",
    "outputId": "ac6a2785-a7fe-4317-9906-19d2af3d6807"
   },
   "outputs": [
    {
     "name": "stdout",
     "output_type": "stream",
     "text": [
      "\n",
      "Campaign with the highest d01 total revenue:\n",
      "\n"
     ]
    },
    {
     "data": {
      "text/plain": [
       "0    IMT-FB-iOS-EN-US-AE-Playables\n",
       "Name: campaign name, dtype: object"
      ]
     },
     "execution_count": 41,
     "metadata": {},
     "output_type": "execute_result"
    }
   ],
   "source": [
    "print(\"\"\"\n",
    "Campaign with the highest d01 total revenue:\n",
    "\"\"\")\n",
    "high_d01.loc[high_d01['d01 total revenue'] == d01_total_max, 'campaign name']"
   ]
  },
  {
   "cell_type": "markdown",
   "metadata": {},
   "source": [
    "##### **>> The campaigns with the highest d01_roas and the highest d01 total revenue don't match.**"
   ]
  },
  {
   "cell_type": "markdown",
   "metadata": {},
   "source": [
    "### **d03_ROAS**"
   ]
  },
  {
   "cell_type": "code",
   "execution_count": 42,
   "metadata": {
    "colab": {
     "base_uri": "https://localhost:8080/",
     "height": 204
    },
    "executionInfo": {
     "elapsed": 2941,
     "status": "ok",
     "timestamp": 1617287384458,
     "user": {
      "displayName": "Mariana Moura",
      "photoUrl": "",
      "userId": "09921903782139644629"
     },
     "user_tz": -60
    },
    "id": "Q6RuZxjMF5rv",
    "outputId": "e4b3e23f-4d69-4727-e3d3-810eae54a0c7"
   },
   "outputs": [
    {
     "data": {
      "text/html": [
       "<div>\n",
       "<style scoped>\n",
       "    .dataframe tbody tr th:only-of-type {\n",
       "        vertical-align: middle;\n",
       "    }\n",
       "\n",
       "    .dataframe tbody tr th {\n",
       "        vertical-align: top;\n",
       "    }\n",
       "\n",
       "    .dataframe thead th {\n",
       "        text-align: right;\n",
       "    }\n",
       "</style>\n",
       "<table border=\"1\" class=\"dataframe\">\n",
       "  <thead>\n",
       "    <tr style=\"text-align: right;\">\n",
       "      <th></th>\n",
       "      <th>campaign name</th>\n",
       "      <th>cost</th>\n",
       "      <th>d03 total revenue</th>\n",
       "      <th>d03_roas</th>\n",
       "    </tr>\n",
       "  </thead>\n",
       "  <tbody>\n",
       "    <tr>\n",
       "      <th>0</th>\n",
       "      <td>IMT-FB-iOS-EN-US-AE-Playables</td>\n",
       "      <td>99061.0</td>\n",
       "      <td>25694.0</td>\n",
       "      <td>0.259376</td>\n",
       "    </tr>\n",
       "    <tr>\n",
       "      <th>1</th>\n",
       "      <td>IMT-Vungle-Android-US</td>\n",
       "      <td>38479.0</td>\n",
       "      <td>9679.0</td>\n",
       "      <td>0.251540</td>\n",
       "    </tr>\n",
       "    <tr>\n",
       "      <th>2</th>\n",
       "      <td>IMT-Vungle-iOS-CN</td>\n",
       "      <td>38209.0</td>\n",
       "      <td>20598.0</td>\n",
       "      <td>0.539088</td>\n",
       "    </tr>\n",
       "    <tr>\n",
       "      <th>3</th>\n",
       "      <td>IMT-FB-Android-RoW2-AE-Playables-FANRW</td>\n",
       "      <td>34746.0</td>\n",
       "      <td>10565.0</td>\n",
       "      <td>0.304064</td>\n",
       "    </tr>\n",
       "    <tr>\n",
       "      <th>4</th>\n",
       "      <td>IMT-FB-Android-RoW2-AE-Value-Playables-FANIS</td>\n",
       "      <td>31662.0</td>\n",
       "      <td>9824.0</td>\n",
       "      <td>0.310277</td>\n",
       "    </tr>\n",
       "  </tbody>\n",
       "</table>\n",
       "</div>"
      ],
      "text/plain": [
       "                                  campaign name     cost  d03 total revenue  \\\n",
       "0                 IMT-FB-iOS-EN-US-AE-Playables  99061.0            25694.0   \n",
       "1                         IMT-Vungle-Android-US  38479.0             9679.0   \n",
       "2                             IMT-Vungle-iOS-CN  38209.0            20598.0   \n",
       "3        IMT-FB-Android-RoW2-AE-Playables-FANRW  34746.0            10565.0   \n",
       "4  IMT-FB-Android-RoW2-AE-Value-Playables-FANIS  31662.0             9824.0   \n",
       "\n",
       "   d03_roas  \n",
       "0  0.259376  \n",
       "1  0.251540  \n",
       "2  0.539088  \n",
       "3  0.304064  \n",
       "4  0.310277  "
      ]
     },
     "execution_count": 42,
     "metadata": {},
     "output_type": "execute_result"
    }
   ],
   "source": [
    "# Selecting columns to work with\n",
    "high_d03 = df[[\"campaign name\",\"cost\",\"d03 total revenue\",\"d03_roas\"]].copy()\n",
    "high_d03.head() # displaying the first 5 rows"
   ]
  },
  {
   "cell_type": "code",
   "execution_count": 43,
   "metadata": {
    "colab": {
     "base_uri": "https://localhost:8080/"
    },
    "executionInfo": {
     "elapsed": 2928,
     "status": "ok",
     "timestamp": 1617287384459,
     "user": {
      "displayName": "Mariana Moura",
      "photoUrl": "",
      "userId": "09921903782139644629"
     },
     "user_tz": -60
    },
    "id": "t-bDUQE_rY9Z",
    "outputId": "d4a124ba-73b7-4bd4-b852-3a32a994b638"
   },
   "outputs": [],
   "source": [
    "# Assigning maximum Return On Advert Spend 30 days and max total revenue 30 days\n",
    "d03_roas_max = high_d03['d03_roas'].max()\n",
    "d03_total_max = high_d03['d03 total revenue'].max()"
   ]
  },
  {
   "cell_type": "code",
   "execution_count": 44,
   "metadata": {
    "colab": {
     "base_uri": "https://localhost:8080/"
    },
    "executionInfo": {
     "elapsed": 2915,
     "status": "ok",
     "timestamp": 1617287384460,
     "user": {
      "displayName": "Mariana Moura",
      "photoUrl": "",
      "userId": "09921903782139644629"
     },
     "user_tz": -60
    },
    "id": "2mBK9aTGrY_C",
    "outputId": "32501438-3c60-472e-c3bf-509808433442"
   },
   "outputs": [
    {
     "name": "stdout",
     "output_type": "stream",
     "text": [
      "\n",
      "Campaign with the highest d01_roas:\n",
      "\n"
     ]
    },
    {
     "data": {
      "text/plain": [
       "86    IMT-FB-Android-RoW2-AE-Value-Video-FANIS\n",
       "Name: campaign name, dtype: object"
      ]
     },
     "execution_count": 44,
     "metadata": {},
     "output_type": "execute_result"
    }
   ],
   "source": [
    "print(\"\"\"\n",
    "Campaign with the highest d01_roas:\n",
    "\"\"\")\n",
    "high_d03.loc[high_d03['d03_roas'] == d03_roas_max, 'campaign name']"
   ]
  },
  {
   "cell_type": "code",
   "execution_count": 45,
   "metadata": {
    "colab": {
     "base_uri": "https://localhost:8080/"
    },
    "executionInfo": {
     "elapsed": 2909,
     "status": "ok",
     "timestamp": 1617287384460,
     "user": {
      "displayName": "Mariana Moura",
      "photoUrl": "",
      "userId": "09921903782139644629"
     },
     "user_tz": -60
    },
    "id": "3OVy8SEysw9d",
    "outputId": "ac6a2785-a7fe-4317-9906-19d2af3d6807"
   },
   "outputs": [
    {
     "name": "stdout",
     "output_type": "stream",
     "text": [
      "\n",
      "Campaign with the highest d01 total revenue:\n",
      "\n"
     ]
    },
    {
     "data": {
      "text/plain": [
       "0    IMT-FB-iOS-EN-US-AE-Playables\n",
       "Name: campaign name, dtype: object"
      ]
     },
     "execution_count": 45,
     "metadata": {},
     "output_type": "execute_result"
    }
   ],
   "source": [
    "print(\"\"\"\n",
    "Campaign with the highest d01 total revenue:\n",
    "\"\"\")\n",
    "high_d03.loc[high_d03['d03 total revenue'] == d03_total_max, 'campaign name']"
   ]
  },
  {
   "cell_type": "markdown",
   "metadata": {},
   "source": [
    "##### **>> The campaigns with the highest d03_roas and the highest d03 total revenue don't match.**"
   ]
  },
  {
   "cell_type": "markdown",
   "metadata": {},
   "source": [
    "### **d07_ROAS**"
   ]
  },
  {
   "cell_type": "code",
   "execution_count": 46,
   "metadata": {
    "colab": {
     "base_uri": "https://localhost:8080/",
     "height": 204
    },
    "executionInfo": {
     "elapsed": 2941,
     "status": "ok",
     "timestamp": 1617287384458,
     "user": {
      "displayName": "Mariana Moura",
      "photoUrl": "",
      "userId": "09921903782139644629"
     },
     "user_tz": -60
    },
    "id": "Q6RuZxjMF5rv",
    "outputId": "e4b3e23f-4d69-4727-e3d3-810eae54a0c7"
   },
   "outputs": [
    {
     "data": {
      "text/html": [
       "<div>\n",
       "<style scoped>\n",
       "    .dataframe tbody tr th:only-of-type {\n",
       "        vertical-align: middle;\n",
       "    }\n",
       "\n",
       "    .dataframe tbody tr th {\n",
       "        vertical-align: top;\n",
       "    }\n",
       "\n",
       "    .dataframe thead th {\n",
       "        text-align: right;\n",
       "    }\n",
       "</style>\n",
       "<table border=\"1\" class=\"dataframe\">\n",
       "  <thead>\n",
       "    <tr style=\"text-align: right;\">\n",
       "      <th></th>\n",
       "      <th>campaign name</th>\n",
       "      <th>cost</th>\n",
       "      <th>d07 total revenue</th>\n",
       "      <th>d07_roas</th>\n",
       "    </tr>\n",
       "  </thead>\n",
       "  <tbody>\n",
       "    <tr>\n",
       "      <th>0</th>\n",
       "      <td>IMT-FB-iOS-EN-US-AE-Playables</td>\n",
       "      <td>99061.0</td>\n",
       "      <td>39231.0</td>\n",
       "      <td>0.396029</td>\n",
       "    </tr>\n",
       "    <tr>\n",
       "      <th>1</th>\n",
       "      <td>IMT-Vungle-Android-US</td>\n",
       "      <td>38479.0</td>\n",
       "      <td>15095.0</td>\n",
       "      <td>0.392292</td>\n",
       "    </tr>\n",
       "    <tr>\n",
       "      <th>2</th>\n",
       "      <td>IMT-Vungle-iOS-CN</td>\n",
       "      <td>38209.0</td>\n",
       "      <td>31850.0</td>\n",
       "      <td>0.833573</td>\n",
       "    </tr>\n",
       "    <tr>\n",
       "      <th>3</th>\n",
       "      <td>IMT-FB-Android-RoW2-AE-Playables-FANRW</td>\n",
       "      <td>34746.0</td>\n",
       "      <td>16080.0</td>\n",
       "      <td>0.462787</td>\n",
       "    </tr>\n",
       "    <tr>\n",
       "      <th>4</th>\n",
       "      <td>IMT-FB-Android-RoW2-AE-Value-Playables-FANIS</td>\n",
       "      <td>31662.0</td>\n",
       "      <td>14728.0</td>\n",
       "      <td>0.465163</td>\n",
       "    </tr>\n",
       "  </tbody>\n",
       "</table>\n",
       "</div>"
      ],
      "text/plain": [
       "                                  campaign name     cost  d07 total revenue  \\\n",
       "0                 IMT-FB-iOS-EN-US-AE-Playables  99061.0            39231.0   \n",
       "1                         IMT-Vungle-Android-US  38479.0            15095.0   \n",
       "2                             IMT-Vungle-iOS-CN  38209.0            31850.0   \n",
       "3        IMT-FB-Android-RoW2-AE-Playables-FANRW  34746.0            16080.0   \n",
       "4  IMT-FB-Android-RoW2-AE-Value-Playables-FANIS  31662.0            14728.0   \n",
       "\n",
       "   d07_roas  \n",
       "0  0.396029  \n",
       "1  0.392292  \n",
       "2  0.833573  \n",
       "3  0.462787  \n",
       "4  0.465163  "
      ]
     },
     "execution_count": 46,
     "metadata": {},
     "output_type": "execute_result"
    }
   ],
   "source": [
    "# Selecting columns to work with\n",
    "high_d07 = df[[\"campaign name\",\"cost\",\"d07 total revenue\",\"d07_roas\"]].copy()\n",
    "high_d07.head() # displaying the first 5 rows"
   ]
  },
  {
   "cell_type": "code",
   "execution_count": 47,
   "metadata": {
    "colab": {
     "base_uri": "https://localhost:8080/"
    },
    "executionInfo": {
     "elapsed": 2928,
     "status": "ok",
     "timestamp": 1617287384459,
     "user": {
      "displayName": "Mariana Moura",
      "photoUrl": "",
      "userId": "09921903782139644629"
     },
     "user_tz": -60
    },
    "id": "t-bDUQE_rY9Z",
    "outputId": "d4a124ba-73b7-4bd4-b852-3a32a994b638"
   },
   "outputs": [],
   "source": [
    "# Assigning maximum Return On Advert Spend 30 days and max total revenue 30 days\n",
    "d07_roas_max = high_d07['d07_roas'].max()\n",
    "d07_total_max = high_d07['d07 total revenue'].max()"
   ]
  },
  {
   "cell_type": "code",
   "execution_count": 48,
   "metadata": {
    "colab": {
     "base_uri": "https://localhost:8080/"
    },
    "executionInfo": {
     "elapsed": 2915,
     "status": "ok",
     "timestamp": 1617287384460,
     "user": {
      "displayName": "Mariana Moura",
      "photoUrl": "",
      "userId": "09921903782139644629"
     },
     "user_tz": -60
    },
    "id": "2mBK9aTGrY_C",
    "outputId": "32501438-3c60-472e-c3bf-509808433442"
   },
   "outputs": [
    {
     "name": "stdout",
     "output_type": "stream",
     "text": [
      "\n",
      "Campaign with the highest d30_roas:\n",
      "\n"
     ]
    },
    {
     "data": {
      "text/plain": [
       "86    IMT-FB-Android-RoW2-AE-Value-Video-FANIS\n",
       "Name: campaign name, dtype: object"
      ]
     },
     "execution_count": 48,
     "metadata": {},
     "output_type": "execute_result"
    }
   ],
   "source": [
    "print(\"\"\"\n",
    "Campaign with the highest d30_roas:\n",
    "\"\"\")\n",
    "high_d07.loc[high_d07['d07_roas'] == d07_roas_max, 'campaign name']"
   ]
  },
  {
   "cell_type": "code",
   "execution_count": 49,
   "metadata": {
    "colab": {
     "base_uri": "https://localhost:8080/"
    },
    "executionInfo": {
     "elapsed": 2909,
     "status": "ok",
     "timestamp": 1617287384460,
     "user": {
      "displayName": "Mariana Moura",
      "photoUrl": "",
      "userId": "09921903782139644629"
     },
     "user_tz": -60
    },
    "id": "3OVy8SEysw9d",
    "outputId": "ac6a2785-a7fe-4317-9906-19d2af3d6807"
   },
   "outputs": [
    {
     "name": "stdout",
     "output_type": "stream",
     "text": [
      "\n",
      "Campaign with the highest d30 total revenue:\n",
      "\n"
     ]
    },
    {
     "data": {
      "text/plain": [
       "0    IMT-FB-iOS-EN-US-AE-Playables\n",
       "Name: campaign name, dtype: object"
      ]
     },
     "execution_count": 49,
     "metadata": {},
     "output_type": "execute_result"
    }
   ],
   "source": [
    "print(\"\"\"\n",
    "Campaign with the highest d30 total revenue:\n",
    "\"\"\")\n",
    "high_d07.loc[high_d07['d07 total revenue'] == d07_total_max, 'campaign name']"
   ]
  },
  {
   "cell_type": "markdown",
   "metadata": {},
   "source": [
    "##### **>> The campaigns with the highest d07_roas and the highest d07 total revenue don't match.**"
   ]
  },
  {
   "cell_type": "markdown",
   "metadata": {},
   "source": [
    "### **d30_ROAS**"
   ]
  },
  {
   "cell_type": "code",
   "execution_count": 50,
   "metadata": {
    "colab": {
     "base_uri": "https://localhost:8080/",
     "height": 204
    },
    "executionInfo": {
     "elapsed": 2941,
     "status": "ok",
     "timestamp": 1617287384458,
     "user": {
      "displayName": "Mariana Moura",
      "photoUrl": "",
      "userId": "09921903782139644629"
     },
     "user_tz": -60
    },
    "id": "Q6RuZxjMF5rv",
    "outputId": "e4b3e23f-4d69-4727-e3d3-810eae54a0c7"
   },
   "outputs": [
    {
     "data": {
      "text/html": [
       "<div>\n",
       "<style scoped>\n",
       "    .dataframe tbody tr th:only-of-type {\n",
       "        vertical-align: middle;\n",
       "    }\n",
       "\n",
       "    .dataframe tbody tr th {\n",
       "        vertical-align: top;\n",
       "    }\n",
       "\n",
       "    .dataframe thead th {\n",
       "        text-align: right;\n",
       "    }\n",
       "</style>\n",
       "<table border=\"1\" class=\"dataframe\">\n",
       "  <thead>\n",
       "    <tr style=\"text-align: right;\">\n",
       "      <th></th>\n",
       "      <th>campaign name</th>\n",
       "      <th>cost</th>\n",
       "      <th>d30 total revenue</th>\n",
       "      <th>d30_roas</th>\n",
       "    </tr>\n",
       "  </thead>\n",
       "  <tbody>\n",
       "    <tr>\n",
       "      <th>0</th>\n",
       "      <td>IMT-FB-iOS-EN-US-AE-Playables</td>\n",
       "      <td>99061.0</td>\n",
       "      <td>74185.0</td>\n",
       "      <td>0.748882</td>\n",
       "    </tr>\n",
       "    <tr>\n",
       "      <th>1</th>\n",
       "      <td>IMT-Vungle-Android-US</td>\n",
       "      <td>38479.0</td>\n",
       "      <td>26216.0</td>\n",
       "      <td>0.681307</td>\n",
       "    </tr>\n",
       "    <tr>\n",
       "      <th>2</th>\n",
       "      <td>IMT-Vungle-iOS-CN</td>\n",
       "      <td>38209.0</td>\n",
       "      <td>55175.0</td>\n",
       "      <td>1.444032</td>\n",
       "    </tr>\n",
       "    <tr>\n",
       "      <th>3</th>\n",
       "      <td>IMT-FB-Android-RoW2-AE-Playables-FANRW</td>\n",
       "      <td>34746.0</td>\n",
       "      <td>29437.0</td>\n",
       "      <td>0.847205</td>\n",
       "    </tr>\n",
       "    <tr>\n",
       "      <th>4</th>\n",
       "      <td>IMT-FB-Android-RoW2-AE-Value-Playables-FANIS</td>\n",
       "      <td>31662.0</td>\n",
       "      <td>26026.0</td>\n",
       "      <td>0.821995</td>\n",
       "    </tr>\n",
       "  </tbody>\n",
       "</table>\n",
       "</div>"
      ],
      "text/plain": [
       "                                  campaign name     cost  d30 total revenue  \\\n",
       "0                 IMT-FB-iOS-EN-US-AE-Playables  99061.0            74185.0   \n",
       "1                         IMT-Vungle-Android-US  38479.0            26216.0   \n",
       "2                             IMT-Vungle-iOS-CN  38209.0            55175.0   \n",
       "3        IMT-FB-Android-RoW2-AE-Playables-FANRW  34746.0            29437.0   \n",
       "4  IMT-FB-Android-RoW2-AE-Value-Playables-FANIS  31662.0            26026.0   \n",
       "\n",
       "   d30_roas  \n",
       "0  0.748882  \n",
       "1  0.681307  \n",
       "2  1.444032  \n",
       "3  0.847205  \n",
       "4  0.821995  "
      ]
     },
     "execution_count": 50,
     "metadata": {},
     "output_type": "execute_result"
    }
   ],
   "source": [
    "# Selecting columns to work with\n",
    "high_d30 = df[[\"campaign name\",\"cost\",\"d30 total revenue\",\"d30_roas\"]].copy()\n",
    "high_d30.head() # displaying the first 5 rows"
   ]
  },
  {
   "cell_type": "code",
   "execution_count": 51,
   "metadata": {
    "colab": {
     "base_uri": "https://localhost:8080/"
    },
    "executionInfo": {
     "elapsed": 2928,
     "status": "ok",
     "timestamp": 1617287384459,
     "user": {
      "displayName": "Mariana Moura",
      "photoUrl": "",
      "userId": "09921903782139644629"
     },
     "user_tz": -60
    },
    "id": "t-bDUQE_rY9Z",
    "outputId": "d4a124ba-73b7-4bd4-b852-3a32a994b638"
   },
   "outputs": [],
   "source": [
    "# Assigning maximum Return On Advert Spend 30 days and max total revenue 30 days\n",
    "d30_roas_max = high_d30['d30_roas'].max()\n",
    "d30_total_max = high_d30['d30 total revenue'].max()"
   ]
  },
  {
   "cell_type": "code",
   "execution_count": 52,
   "metadata": {
    "colab": {
     "base_uri": "https://localhost:8080/"
    },
    "executionInfo": {
     "elapsed": 2915,
     "status": "ok",
     "timestamp": 1617287384460,
     "user": {
      "displayName": "Mariana Moura",
      "photoUrl": "",
      "userId": "09921903782139644629"
     },
     "user_tz": -60
    },
    "id": "2mBK9aTGrY_C",
    "outputId": "32501438-3c60-472e-c3bf-509808433442"
   },
   "outputs": [
    {
     "name": "stdout",
     "output_type": "stream",
     "text": [
      "\n",
      "Campaign with the highest d30_roas:\n",
      "\n"
     ]
    },
    {
     "data": {
      "text/plain": [
       "2    IMT-Vungle-iOS-CN\n",
       "Name: campaign name, dtype: object"
      ]
     },
     "execution_count": 52,
     "metadata": {},
     "output_type": "execute_result"
    }
   ],
   "source": [
    "print(\"\"\"\n",
    "Campaign with the highest d30_roas:\n",
    "\"\"\")\n",
    "high_d30.loc[high_d30['d30_roas'] == d30_roas_max, 'campaign name']"
   ]
  },
  {
   "cell_type": "code",
   "execution_count": 53,
   "metadata": {
    "colab": {
     "base_uri": "https://localhost:8080/"
    },
    "executionInfo": {
     "elapsed": 2909,
     "status": "ok",
     "timestamp": 1617287384460,
     "user": {
      "displayName": "Mariana Moura",
      "photoUrl": "",
      "userId": "09921903782139644629"
     },
     "user_tz": -60
    },
    "id": "3OVy8SEysw9d",
    "outputId": "ac6a2785-a7fe-4317-9906-19d2af3d6807"
   },
   "outputs": [
    {
     "name": "stdout",
     "output_type": "stream",
     "text": [
      "\n",
      "Campaign with the highest d30 total revenue:\n",
      "\n"
     ]
    },
    {
     "data": {
      "text/plain": [
       "0    IMT-FB-iOS-EN-US-AE-Playables\n",
       "Name: campaign name, dtype: object"
      ]
     },
     "execution_count": 53,
     "metadata": {},
     "output_type": "execute_result"
    }
   ],
   "source": [
    "print(\"\"\"\n",
    "Campaign with the highest d30 total revenue:\n",
    "\"\"\")\n",
    "high_d30.loc[high_d30['d30 total revenue'] == d30_total_max, 'campaign name']"
   ]
  },
  {
   "cell_type": "markdown",
   "metadata": {},
   "source": [
    "##### **>> The campaigns with the highest d30_roas and the highest d30 total revenue don't match.**"
   ]
  },
  {
   "cell_type": "markdown",
   "metadata": {
    "id": "9lmS6UYqF5rw"
   },
   "source": [
    "---\n",
    "## Q13. Do the campaigns with a ROAS on DAY_1 under 10% break-even after the first month?"
   ]
  },
  {
   "cell_type": "code",
   "execution_count": 54,
   "metadata": {},
   "outputs": [],
   "source": [
    "d01_on = df.iloc[:75,:].copy()\n",
    "d01_down = df.iloc[76:,:].copy()\n",
    "d01_roas_under10 = pd.concat([d01_on,d01_down])"
   ]
  },
  {
   "cell_type": "code",
   "execution_count": 55,
   "metadata": {},
   "outputs": [],
   "source": [
    "# Selecting campaigns segment of ROAS d01 under 10%\n",
    "d01_roas_under10 = d01_roas_under10[d01_roas_under10[\"d01_roas\"] < 0.10].copy()"
   ]
  },
  {
   "cell_type": "code",
   "execution_count": 56,
   "metadata": {},
   "outputs": [
    {
     "data": {
      "text/html": [
       "<div>\n",
       "<style scoped>\n",
       "    .dataframe tbody tr th:only-of-type {\n",
       "        vertical-align: middle;\n",
       "    }\n",
       "\n",
       "    .dataframe tbody tr th {\n",
       "        vertical-align: top;\n",
       "    }\n",
       "\n",
       "    .dataframe thead th {\n",
       "        text-align: right;\n",
       "    }\n",
       "</style>\n",
       "<table border=\"1\" class=\"dataframe\">\n",
       "  <thead>\n",
       "    <tr style=\"text-align: right;\">\n",
       "      <th></th>\n",
       "      <th>media source</th>\n",
       "      <th>campaign name</th>\n",
       "      <th>cost</th>\n",
       "      <th>installs</th>\n",
       "      <th>d01 total revenue</th>\n",
       "      <th>d03 total revenue</th>\n",
       "      <th>d07 total revenue</th>\n",
       "      <th>d30 total revenue</th>\n",
       "      <th>cpi</th>\n",
       "      <th>d01_roas</th>\n",
       "      <th>d03_roas</th>\n",
       "      <th>d07_roas</th>\n",
       "      <th>d30_roas</th>\n",
       "    </tr>\n",
       "  </thead>\n",
       "  <tbody>\n",
       "    <tr>\n",
       "      <th>46</th>\n",
       "      <td>Facebook</td>\n",
       "      <td>IMT-FB-iOS-EN-US-FANIS-AE-Playables-LAL(Value)</td>\n",
       "      <td>1222.0</td>\n",
       "      <td>294.0</td>\n",
       "      <td>115.0</td>\n",
       "      <td>393.0</td>\n",
       "      <td>529.0</td>\n",
       "      <td>1260.0</td>\n",
       "      <td>4.156463</td>\n",
       "      <td>0.094108</td>\n",
       "      <td>0.321604</td>\n",
       "      <td>0.432897</td>\n",
       "      <td>1.031097</td>\n",
       "    </tr>\n",
       "    <tr>\n",
       "      <th>50</th>\n",
       "      <td>Facebook</td>\n",
       "      <td>IMT-FB-Android-JP-AE-Playables-FANRW</td>\n",
       "      <td>1178.0</td>\n",
       "      <td>383.0</td>\n",
       "      <td>92.0</td>\n",
       "      <td>298.0</td>\n",
       "      <td>520.0</td>\n",
       "      <td>1303.0</td>\n",
       "      <td>3.075718</td>\n",
       "      <td>0.078098</td>\n",
       "      <td>0.252971</td>\n",
       "      <td>0.441426</td>\n",
       "      <td>1.106112</td>\n",
       "    </tr>\n",
       "    <tr>\n",
       "      <th>63</th>\n",
       "      <td>Facebook</td>\n",
       "      <td>IMT-FB-iOS-mROAS-Test0.1</td>\n",
       "      <td>504.0</td>\n",
       "      <td>74.0</td>\n",
       "      <td>8.0</td>\n",
       "      <td>119.0</td>\n",
       "      <td>257.0</td>\n",
       "      <td>577.0</td>\n",
       "      <td>6.810811</td>\n",
       "      <td>0.015873</td>\n",
       "      <td>0.236111</td>\n",
       "      <td>0.509921</td>\n",
       "      <td>1.144841</td>\n",
       "    </tr>\n",
       "  </tbody>\n",
       "</table>\n",
       "</div>"
      ],
      "text/plain": [
       "   media source                                   campaign name    cost  \\\n",
       "46     Facebook  IMT-FB-iOS-EN-US-FANIS-AE-Playables-LAL(Value)  1222.0   \n",
       "50     Facebook            IMT-FB-Android-JP-AE-Playables-FANRW  1178.0   \n",
       "63     Facebook                        IMT-FB-iOS-mROAS-Test0.1   504.0   \n",
       "\n",
       "    installs  d01 total revenue  d03 total revenue  d07 total revenue  \\\n",
       "46     294.0              115.0              393.0              529.0   \n",
       "50     383.0               92.0              298.0              520.0   \n",
       "63      74.0                8.0              119.0              257.0   \n",
       "\n",
       "    d30 total revenue       cpi  d01_roas  d03_roas  d07_roas  d30_roas  \n",
       "46             1260.0  4.156463  0.094108  0.321604  0.432897  1.031097  \n",
       "50             1303.0  3.075718  0.078098  0.252971  0.441426  1.106112  \n",
       "63              577.0  6.810811  0.015873  0.236111  0.509921  1.144841  "
      ]
     },
     "execution_count": 56,
     "metadata": {},
     "output_type": "execute_result"
    }
   ],
   "source": [
    "# Filtering campaigns segment in wihch \"d30 total revenue\" is higher than its cost\n",
    "d01_roas_under10[d01_roas_under10[\"d30 total revenue\"] > d01_roas_under10[\"cost\"]]"
   ]
  },
  {
   "cell_type": "markdown",
   "metadata": {},
   "source": [
    "##### **>> The 3 above campaings did break even after 30 days**"
   ]
  },
  {
   "cell_type": "markdown",
   "metadata": {
    "id": "Ncm2gk2_F5rx"
   },
   "source": [
    "---\n",
    "## Q14. Is it safe to assume the campaigns with a ROAS on DAY_7 higher than 70% will break even after 30 days?"
   ]
  },
  {
   "cell_type": "code",
   "execution_count": 57,
   "metadata": {
    "colab": {
     "base_uri": "https://localhost:8080/",
     "height": 142
    },
    "executionInfo": {
     "elapsed": 2860,
     "status": "ok",
     "timestamp": 1617287384464,
     "user": {
      "displayName": "Mariana Moura",
      "photoUrl": "",
      "userId": "09921903782139644629"
     },
     "user_tz": -60
    },
    "id": "0pZIoGQxF5rx",
    "outputId": "fa3ad8d2-0f74-4b9e-b9e4-69875e2e3178"
   },
   "outputs": [
    {
     "data": {
      "text/html": [
       "<div>\n",
       "<style scoped>\n",
       "    .dataframe tbody tr th:only-of-type {\n",
       "        vertical-align: middle;\n",
       "    }\n",
       "\n",
       "    .dataframe tbody tr th {\n",
       "        vertical-align: top;\n",
       "    }\n",
       "\n",
       "    .dataframe thead th {\n",
       "        text-align: right;\n",
       "    }\n",
       "</style>\n",
       "<table border=\"1\" class=\"dataframe\">\n",
       "  <thead>\n",
       "    <tr style=\"text-align: right;\">\n",
       "      <th></th>\n",
       "      <th>media source</th>\n",
       "      <th>campaign name</th>\n",
       "      <th>cost</th>\n",
       "      <th>installs</th>\n",
       "      <th>d01 total revenue</th>\n",
       "      <th>d03 total revenue</th>\n",
       "      <th>d07 total revenue</th>\n",
       "      <th>d30 total revenue</th>\n",
       "      <th>cpi</th>\n",
       "      <th>d01_roas</th>\n",
       "      <th>d03_roas</th>\n",
       "      <th>d07_roas</th>\n",
       "      <th>d30_roas</th>\n",
       "    </tr>\n",
       "  </thead>\n",
       "  <tbody>\n",
       "    <tr>\n",
       "      <th>2</th>\n",
       "      <td>Vungle</td>\n",
       "      <td>IMT-Vungle-iOS-CN</td>\n",
       "      <td>38209.0</td>\n",
       "      <td>41000.0</td>\n",
       "      <td>8537.0</td>\n",
       "      <td>20598.0</td>\n",
       "      <td>31850.0</td>\n",
       "      <td>55175.0</td>\n",
       "      <td>0.931927</td>\n",
       "      <td>0.223429</td>\n",
       "      <td>0.539088</td>\n",
       "      <td>0.833573</td>\n",
       "      <td>1.444032</td>\n",
       "    </tr>\n",
       "    <tr>\n",
       "      <th>59</th>\n",
       "      <td>Facebook</td>\n",
       "      <td>IMT-FB-Android-RoW2-AE-Playables-Feed</td>\n",
       "      <td>630.0</td>\n",
       "      <td>600.0</td>\n",
       "      <td>174.0</td>\n",
       "      <td>304.0</td>\n",
       "      <td>465.0</td>\n",
       "      <td>760.0</td>\n",
       "      <td>1.050000</td>\n",
       "      <td>0.276190</td>\n",
       "      <td>0.482540</td>\n",
       "      <td>0.738095</td>\n",
       "      <td>1.206349</td>\n",
       "    </tr>\n",
       "    <tr>\n",
       "      <th>86</th>\n",
       "      <td>Facebook</td>\n",
       "      <td>IMT-FB-Android-RoW2-AE-Value-Video-FANIS</td>\n",
       "      <td>41.0</td>\n",
       "      <td>14.0</td>\n",
       "      <td>7.0</td>\n",
       "      <td>32.0</td>\n",
       "      <td>54.0</td>\n",
       "      <td>57.0</td>\n",
       "      <td>2.928571</td>\n",
       "      <td>0.170732</td>\n",
       "      <td>0.780488</td>\n",
       "      <td>1.317073</td>\n",
       "      <td>1.390244</td>\n",
       "    </tr>\n",
       "  </tbody>\n",
       "</table>\n",
       "</div>"
      ],
      "text/plain": [
       "   media source                             campaign name     cost  installs  \\\n",
       "2        Vungle                         IMT-Vungle-iOS-CN  38209.0   41000.0   \n",
       "59     Facebook     IMT-FB-Android-RoW2-AE-Playables-Feed    630.0     600.0   \n",
       "86     Facebook  IMT-FB-Android-RoW2-AE-Value-Video-FANIS     41.0      14.0   \n",
       "\n",
       "    d01 total revenue  d03 total revenue  d07 total revenue  \\\n",
       "2              8537.0            20598.0            31850.0   \n",
       "59              174.0              304.0              465.0   \n",
       "86                7.0               32.0               54.0   \n",
       "\n",
       "    d30 total revenue       cpi  d01_roas  d03_roas  d07_roas  d30_roas  \n",
       "2             55175.0  0.931927  0.223429  0.539088  0.833573  1.444032  \n",
       "59              760.0  1.050000  0.276190  0.482540  0.738095  1.206349  \n",
       "86               57.0  2.928571  0.170732  0.780488  1.317073  1.390244  "
      ]
     },
     "execution_count": 57,
     "metadata": {},
     "output_type": "execute_result"
    }
   ],
   "source": [
    "# Selecting campaigns segment of ROAS 7 days above 70% - 30 days\n",
    "d07_roas_up70 = df[df[\"d07_roas\"] > 0.70].copy()\n",
    "d07_roas_up70.head()"
   ]
  },
  {
   "cell_type": "code",
   "execution_count": 58,
   "metadata": {},
   "outputs": [
    {
     "data": {
      "text/plain": [
       "False"
      ]
     },
     "execution_count": 58,
     "metadata": {},
     "output_type": "execute_result"
    }
   ],
   "source": [
    "# Filtering campaigns segment in which \"d30 total revenue\" is lower than its cost\n",
    "(d07_roas_up70[d07_roas_up70[\"d30 total revenue\"] < d07_roas_up70[\"cost\"]]).values.any()"
   ]
  },
  {
   "cell_type": "markdown",
   "metadata": {},
   "source": [
    "##### **>> All Campaigns with a D07 ROAS higher than 70% did break even after 30 days**"
   ]
  },
  {
   "cell_type": "markdown",
   "metadata": {},
   "source": [
    "---\n",
    "## Q15. Monitoring the overall ROAS evolution of both platforms"
   ]
  },
  {
   "cell_type": "code",
   "execution_count": 59,
   "metadata": {},
   "outputs": [
    {
     "data": {
      "image/png": "[encoded data removed]",
      "text/plain": [
       "<Figure size 1008x576 with 1 Axes>"
      ]
     },
     "metadata": {
      "needs_background": "light"
     },
     "output_type": "display_data"
    }
   ],
   "source": [
    "# Display histogram: d01_roas vs d03_roas evolution comparison\n",
    "\n",
    "d01_roas = df.d01_roas\n",
    "d03_roas = df.d03_roas\n",
    "\n",
    "d01 = np.array(d01_roas)\n",
    "d03 = np.array(d03_roas)\n",
    "\n",
    "np.warnings.filterwarnings('ignore')\n",
    "\n",
    "plt.figure(figsize=(14,8))\n",
    "plt.hist(d01, bins=89, density=True, color=\"g\", alpha = 0.7, label=\"d01_roas\")\n",
    "plt.hist(d03, bins=89, density=True, color=\"r\", alpha = 0.5, label=\"d03_roas\")\n",
    "\n",
    "plt.legend(loc='upper right')\n",
    "\n",
    "plt.xlabel(\"Relative observations\", fontsize=10)\n",
    "plt.xticks(rotation=0, horizontalalignment=\"center\")\n",
    "plt.ylabel(\"Density scale\", fontsize=10)\n",
    "plt.title(\"d01_roas vs. d03_roas\", fontsize=10, loc=\"right\")\n",
    "\n",
    "plt.show()"
   ]
  },
  {
   "cell_type": "code",
   "execution_count": 60,
   "metadata": {},
   "outputs": [
    {
     "data": {
      "image/png": "[encoded data removed]",
      "text/plain": [
       "<Figure size 1008x576 with 1 Axes>"
      ]
     },
     "metadata": {
      "needs_background": "light"
     },
     "output_type": "display_data"
    }
   ],
   "source": [
    "# Display histogram: d01_roas vs d03_roas evolution comparison\n",
    "\n",
    "d03_roas = df.d03_roas\n",
    "d07_roas = df.d07_roas\n",
    "\n",
    "d03 = np.array(d03_roas)\n",
    "d07 = np.array(d07_roas)\n",
    "\n",
    "\n",
    "np.warnings.filterwarnings('ignore')\n",
    "\n",
    "plt.figure(figsize=(14,8))\n",
    "plt.hist(d01, bins=89, density=True, color=\"g\", alpha = 0.2, label=\"d01_roas\")\n",
    "plt.hist(d03, bins=89, density=True, color=\"r\", alpha = 0.5, label=\"d03_roas\")\n",
    "plt.hist(d07, bins=89, density=True, color=\"b\", alpha = 0.5, label=\"d07_roas\")\n",
    "\n",
    "plt.legend(loc='upper right')\n",
    "\n",
    "plt.xlabel(\"Relative observations\", fontsize=10)\n",
    "plt.xticks(rotation=0, horizontalalignment=\"center\")\n",
    "plt.ylabel(\"Density scale\", fontsize=10)\n",
    "plt.title(\"d03_roas vs. d07_roas (+ d01_roas)\", fontsize=10, loc=\"right\")\n",
    "\n",
    "plt.show()"
   ]
  },
  {
   "cell_type": "code",
   "execution_count": 61,
   "metadata": {},
   "outputs": [
    {
     "data": {
      "image/png": "[encoded data removed]",
      "text/plain": [
       "<Figure size 1008x576 with 1 Axes>"
      ]
     },
     "metadata": {
      "needs_background": "light"
     },
     "output_type": "display_data"
    }
   ],
   "source": [
    "# Display histogram: d01_roas vs d03_roas evolution comparison\n",
    "\n",
    "d01_roas = df.d01_roas\n",
    "d03_roas = df.d03_roas\n",
    "d07_roas = df.d07_roas\n",
    "d30_roas = df.d30_roas\n",
    "\n",
    "d01 = np.array(d01_roas)\n",
    "d03 = np.array(d03_roas)\n",
    "d07 = np.array(d07_roas)\n",
    "d30 = np.array(d30_roas)\n",
    "\n",
    "np.warnings.filterwarnings('ignore')\n",
    "\n",
    "plt.figure(figsize=(14,8))\n",
    "plt.hist(d01, bins=89, density=True, color=\"g\", alpha = 0.2, label=\"d01_roas\")\n",
    "plt.hist(d03, bins=89, density=True, color=\"r\", alpha = 0.2, label=\"d03_roas\")\n",
    "plt.hist(d07, bins=89, density=True, color=\"b\", alpha = 0.6, label=\"d07_roas\")\n",
    "plt.hist(d30, bins=89, density=True, color=\"y\", alpha = 0.7, label=\"d30_roas\")\n",
    "\n",
    "plt.legend(loc='upper right')\n",
    "\n",
    "plt.xlabel(\"Relative observations\", fontsize=10)\n",
    "plt.xticks(rotation=0, horizontalalignment=\"center\")\n",
    "plt.ylabel(\"Density scale\", fontsize=10)\n",
    "plt.title(\"d07_roas vs. d30_roas (+ d01_roas + d03_roas)\", fontsize=10, loc=\"right\")\n",
    "\n",
    "plt.show()"
   ]
  },
  {
   "cell_type": "markdown",
   "metadata": {},
   "source": [
    "---\n",
    "---"
   ]
  },
  {
   "cell_type": "markdown",
   "metadata": {},
   "source": [
    "# Attachments\n",
    "### Dataset"
   ]
  },
  {
   "cell_type": "code",
   "execution_count": 62,
   "metadata": {},
   "outputs": [
    {
     "data": {
      "text/html": [
       "<div>\n",
       "<style scoped>\n",
       "    .dataframe tbody tr th:only-of-type {\n",
       "        vertical-align: middle;\n",
       "    }\n",
       "\n",
       "    .dataframe tbody tr th {\n",
       "        vertical-align: top;\n",
       "    }\n",
       "\n",
       "    .dataframe thead th {\n",
       "        text-align: right;\n",
       "    }\n",
       "</style>\n",
       "<table border=\"1\" class=\"dataframe\">\n",
       "  <thead>\n",
       "    <tr style=\"text-align: right;\">\n",
       "      <th></th>\n",
       "      <th>media source</th>\n",
       "      <th>campaign name</th>\n",
       "      <th>cost</th>\n",
       "      <th>installs</th>\n",
       "      <th>cpi</th>\n",
       "      <th>d01 total revenue</th>\n",
       "      <th>d03 total revenue</th>\n",
       "      <th>d07 total revenue</th>\n",
       "      <th>d30 total revenue</th>\n",
       "      <th>d01_roas</th>\n",
       "      <th>d03_roas</th>\n",
       "      <th>d07_roas</th>\n",
       "      <th>d30_roas</th>\n",
       "    </tr>\n",
       "  </thead>\n",
       "  <tbody>\n",
       "    <tr>\n",
       "      <th>0</th>\n",
       "      <td>Facebook</td>\n",
       "      <td>IMT-FB-iOS-EN-US-AE-Playables</td>\n",
       "      <td>99061.0</td>\n",
       "      <td>21382.0</td>\n",
       "      <td>4.632916</td>\n",
       "      <td>10404.0</td>\n",
       "      <td>25694.0</td>\n",
       "      <td>39231.0</td>\n",
       "      <td>74185.0</td>\n",
       "      <td>0.105026</td>\n",
       "      <td>0.259376</td>\n",
       "      <td>0.396029</td>\n",
       "      <td>0.748882</td>\n",
       "    </tr>\n",
       "    <tr>\n",
       "      <th>1</th>\n",
       "      <td>Vungle</td>\n",
       "      <td>IMT-Vungle-Android-US</td>\n",
       "      <td>38479.0</td>\n",
       "      <td>50858.0</td>\n",
       "      <td>0.756597</td>\n",
       "      <td>3632.0</td>\n",
       "      <td>9679.0</td>\n",
       "      <td>15095.0</td>\n",
       "      <td>26216.0</td>\n",
       "      <td>0.094389</td>\n",
       "      <td>0.251540</td>\n",
       "      <td>0.392292</td>\n",
       "      <td>0.681307</td>\n",
       "    </tr>\n",
       "    <tr>\n",
       "      <th>2</th>\n",
       "      <td>Vungle</td>\n",
       "      <td>IMT-Vungle-iOS-CN</td>\n",
       "      <td>38209.0</td>\n",
       "      <td>41000.0</td>\n",
       "      <td>0.931927</td>\n",
       "      <td>8537.0</td>\n",
       "      <td>20598.0</td>\n",
       "      <td>31850.0</td>\n",
       "      <td>55175.0</td>\n",
       "      <td>0.223429</td>\n",
       "      <td>0.539088</td>\n",
       "      <td>0.833573</td>\n",
       "      <td>1.444032</td>\n",
       "    </tr>\n",
       "    <tr>\n",
       "      <th>3</th>\n",
       "      <td>Facebook</td>\n",
       "      <td>IMT-FB-Android-RoW2-AE-Playables-FANRW</td>\n",
       "      <td>34746.0</td>\n",
       "      <td>55891.0</td>\n",
       "      <td>0.621674</td>\n",
       "      <td>4360.0</td>\n",
       "      <td>10565.0</td>\n",
       "      <td>16080.0</td>\n",
       "      <td>29437.0</td>\n",
       "      <td>0.125482</td>\n",
       "      <td>0.304064</td>\n",
       "      <td>0.462787</td>\n",
       "      <td>0.847205</td>\n",
       "    </tr>\n",
       "    <tr>\n",
       "      <th>4</th>\n",
       "      <td>Facebook</td>\n",
       "      <td>IMT-FB-Android-RoW2-AE-Value-Playables-FANIS</td>\n",
       "      <td>31662.0</td>\n",
       "      <td>19196.0</td>\n",
       "      <td>1.649406</td>\n",
       "      <td>3952.0</td>\n",
       "      <td>9824.0</td>\n",
       "      <td>14728.0</td>\n",
       "      <td>26026.0</td>\n",
       "      <td>0.124818</td>\n",
       "      <td>0.310277</td>\n",
       "      <td>0.465163</td>\n",
       "      <td>0.821995</td>\n",
       "    </tr>\n",
       "    <tr>\n",
       "      <th>5</th>\n",
       "      <td>Facebook</td>\n",
       "      <td>IMT-FB-Android-EN2-AE-Value-Playables-FANIS</td>\n",
       "      <td>22042.0</td>\n",
       "      <td>3265.0</td>\n",
       "      <td>6.750995</td>\n",
       "      <td>2436.0</td>\n",
       "      <td>7449.0</td>\n",
       "      <td>11112.0</td>\n",
       "      <td>19517.0</td>\n",
       "      <td>0.110516</td>\n",
       "      <td>0.337946</td>\n",
       "      <td>0.504128</td>\n",
       "      <td>0.885446</td>\n",
       "    </tr>\n",
       "    <tr>\n",
       "      <th>6</th>\n",
       "      <td>Facebook</td>\n",
       "      <td>IMT-FB-Android-EN2-AE-Playables-FANRW</td>\n",
       "      <td>20704.0</td>\n",
       "      <td>4917.0</td>\n",
       "      <td>4.210698</td>\n",
       "      <td>1812.0</td>\n",
       "      <td>4994.0</td>\n",
       "      <td>8081.0</td>\n",
       "      <td>15087.0</td>\n",
       "      <td>0.087519</td>\n",
       "      <td>0.241209</td>\n",
       "      <td>0.390311</td>\n",
       "      <td>0.728700</td>\n",
       "    </tr>\n",
       "    <tr>\n",
       "      <th>7</th>\n",
       "      <td>Facebook</td>\n",
       "      <td>IMT-FB-iOS-EN-T1-AE-Playables</td>\n",
       "      <td>19275.0</td>\n",
       "      <td>6769.0</td>\n",
       "      <td>2.847540</td>\n",
       "      <td>1876.0</td>\n",
       "      <td>4772.0</td>\n",
       "      <td>7812.0</td>\n",
       "      <td>14826.0</td>\n",
       "      <td>0.097328</td>\n",
       "      <td>0.247575</td>\n",
       "      <td>0.405292</td>\n",
       "      <td>0.769183</td>\n",
       "    </tr>\n",
       "    <tr>\n",
       "      <th>8</th>\n",
       "      <td>Facebook</td>\n",
       "      <td>IMT-FB-iOS-CHS-AE-Playables</td>\n",
       "      <td>15510.0</td>\n",
       "      <td>3886.0</td>\n",
       "      <td>3.991251</td>\n",
       "      <td>2281.0</td>\n",
       "      <td>5370.0</td>\n",
       "      <td>7943.0</td>\n",
       "      <td>11948.0</td>\n",
       "      <td>0.147066</td>\n",
       "      <td>0.346228</td>\n",
       "      <td>0.512121</td>\n",
       "      <td>0.770342</td>\n",
       "    </tr>\n",
       "    <tr>\n",
       "      <th>9</th>\n",
       "      <td>Vungle</td>\n",
       "      <td>IMT-Vungle-iOS-AU</td>\n",
       "      <td>14645.0</td>\n",
       "      <td>16358.0</td>\n",
       "      <td>0.895281</td>\n",
       "      <td>1351.0</td>\n",
       "      <td>3603.0</td>\n",
       "      <td>5761.0</td>\n",
       "      <td>11386.0</td>\n",
       "      <td>0.092250</td>\n",
       "      <td>0.246023</td>\n",
       "      <td>0.393377</td>\n",
       "      <td>0.777467</td>\n",
       "    </tr>\n",
       "    <tr>\n",
       "      <th>10</th>\n",
       "      <td>Vungle</td>\n",
       "      <td>IMT-Vungle-iOS-UK</td>\n",
       "      <td>13959.0</td>\n",
       "      <td>17876.0</td>\n",
       "      <td>0.780879</td>\n",
       "      <td>1218.0</td>\n",
       "      <td>3168.0</td>\n",
       "      <td>5814.0</td>\n",
       "      <td>13614.0</td>\n",
       "      <td>0.087256</td>\n",
       "      <td>0.226950</td>\n",
       "      <td>0.416505</td>\n",
       "      <td>0.975285</td>\n",
       "    </tr>\n",
       "    <tr>\n",
       "      <th>11</th>\n",
       "      <td>Vungle</td>\n",
       "      <td>IMT-Vungle-iOS-CA</td>\n",
       "      <td>13819.0</td>\n",
       "      <td>18784.0</td>\n",
       "      <td>0.735679</td>\n",
       "      <td>1389.0</td>\n",
       "      <td>3624.0</td>\n",
       "      <td>5626.0</td>\n",
       "      <td>11344.0</td>\n",
       "      <td>0.100514</td>\n",
       "      <td>0.262248</td>\n",
       "      <td>0.407121</td>\n",
       "      <td>0.820899</td>\n",
       "    </tr>\n",
       "    <tr>\n",
       "      <th>12</th>\n",
       "      <td>Vungle</td>\n",
       "      <td>IMT-Vungle-Android-T2</td>\n",
       "      <td>13643.0</td>\n",
       "      <td>38131.0</td>\n",
       "      <td>0.357793</td>\n",
       "      <td>978.0</td>\n",
       "      <td>2844.0</td>\n",
       "      <td>4809.0</td>\n",
       "      <td>10820.0</td>\n",
       "      <td>0.071685</td>\n",
       "      <td>0.208459</td>\n",
       "      <td>0.352488</td>\n",
       "      <td>0.793081</td>\n",
       "    </tr>\n",
       "    <tr>\n",
       "      <th>13</th>\n",
       "      <td>Facebook</td>\n",
       "      <td>IMT-FB-iOS-EN-AE-Playables - Copy</td>\n",
       "      <td>12023.0</td>\n",
       "      <td>4247.0</td>\n",
       "      <td>2.830939</td>\n",
       "      <td>1201.0</td>\n",
       "      <td>3047.0</td>\n",
       "      <td>4796.0</td>\n",
       "      <td>8761.0</td>\n",
       "      <td>0.099892</td>\n",
       "      <td>0.253431</td>\n",
       "      <td>0.398902</td>\n",
       "      <td>0.728687</td>\n",
       "    </tr>\n",
       "    <tr>\n",
       "      <th>14</th>\n",
       "      <td>Vungle</td>\n",
       "      <td>IMT-Vungle-Android-AU</td>\n",
       "      <td>11359.0</td>\n",
       "      <td>10126.0</td>\n",
       "      <td>1.121766</td>\n",
       "      <td>782.0</td>\n",
       "      <td>2202.0</td>\n",
       "      <td>3609.0</td>\n",
       "      <td>7488.0</td>\n",
       "      <td>0.068844</td>\n",
       "      <td>0.193855</td>\n",
       "      <td>0.317722</td>\n",
       "      <td>0.659213</td>\n",
       "    </tr>\n",
       "    <tr>\n",
       "      <th>15</th>\n",
       "      <td>Facebook</td>\n",
       "      <td>IMT-FB-Android-DE-AE-Playables2</td>\n",
       "      <td>11132.0</td>\n",
       "      <td>4227.0</td>\n",
       "      <td>2.633546</td>\n",
       "      <td>1827.0</td>\n",
       "      <td>4601.0</td>\n",
       "      <td>6828.0</td>\n",
       "      <td>13526.0</td>\n",
       "      <td>0.164121</td>\n",
       "      <td>0.413313</td>\n",
       "      <td>0.613367</td>\n",
       "      <td>1.215056</td>\n",
       "    </tr>\n",
       "    <tr>\n",
       "      <th>16</th>\n",
       "      <td>Facebook</td>\n",
       "      <td>IMT-FB-iOS-DE-AE-Playables</td>\n",
       "      <td>10992.0</td>\n",
       "      <td>2931.0</td>\n",
       "      <td>3.750256</td>\n",
       "      <td>1013.0</td>\n",
       "      <td>2446.0</td>\n",
       "      <td>3910.0</td>\n",
       "      <td>8089.0</td>\n",
       "      <td>0.092158</td>\n",
       "      <td>0.222525</td>\n",
       "      <td>0.355713</td>\n",
       "      <td>0.735899</td>\n",
       "    </tr>\n",
       "    <tr>\n",
       "      <th>17</th>\n",
       "      <td>Vungle</td>\n",
       "      <td>IMT-Vungle-Android-UK</td>\n",
       "      <td>10624.0</td>\n",
       "      <td>14668.0</td>\n",
       "      <td>0.724298</td>\n",
       "      <td>866.0</td>\n",
       "      <td>2197.0</td>\n",
       "      <td>3655.0</td>\n",
       "      <td>7524.0</td>\n",
       "      <td>0.081514</td>\n",
       "      <td>0.206796</td>\n",
       "      <td>0.344032</td>\n",
       "      <td>0.708208</td>\n",
       "    </tr>\n",
       "    <tr>\n",
       "      <th>18</th>\n",
       "      <td>Facebook</td>\n",
       "      <td>IMT-FB-Android-DE-Value-mROAS</td>\n",
       "      <td>8360.0</td>\n",
       "      <td>1778.0</td>\n",
       "      <td>4.701912</td>\n",
       "      <td>984.0</td>\n",
       "      <td>1956.0</td>\n",
       "      <td>2749.0</td>\n",
       "      <td>5089.0</td>\n",
       "      <td>0.117703</td>\n",
       "      <td>0.233971</td>\n",
       "      <td>0.328828</td>\n",
       "      <td>0.608732</td>\n",
       "    </tr>\n",
       "    <tr>\n",
       "      <th>19</th>\n",
       "      <td>Vungle</td>\n",
       "      <td>IMT-Vungle-iOS-DE</td>\n",
       "      <td>8064.0</td>\n",
       "      <td>10855.0</td>\n",
       "      <td>0.742883</td>\n",
       "      <td>1000.0</td>\n",
       "      <td>2464.0</td>\n",
       "      <td>4042.0</td>\n",
       "      <td>8310.0</td>\n",
       "      <td>0.124008</td>\n",
       "      <td>0.305556</td>\n",
       "      <td>0.501240</td>\n",
       "      <td>1.030506</td>\n",
       "    </tr>\n",
       "    <tr>\n",
       "      <th>20</th>\n",
       "      <td>Facebook</td>\n",
       "      <td>IMT-FB-Android-RoW2-AE-Value-Video-FANRW</td>\n",
       "      <td>7903.0</td>\n",
       "      <td>1358.0</td>\n",
       "      <td>5.819588</td>\n",
       "      <td>569.0</td>\n",
       "      <td>1653.0</td>\n",
       "      <td>2567.0</td>\n",
       "      <td>5004.0</td>\n",
       "      <td>0.071998</td>\n",
       "      <td>0.209161</td>\n",
       "      <td>0.324813</td>\n",
       "      <td>0.633177</td>\n",
       "    </tr>\n",
       "    <tr>\n",
       "      <th>21</th>\n",
       "      <td>Facebook</td>\n",
       "      <td>IMT-FB-Android-RoW2-AE-Playables-FANIS</td>\n",
       "      <td>7606.0</td>\n",
       "      <td>8894.0</td>\n",
       "      <td>0.855183</td>\n",
       "      <td>856.0</td>\n",
       "      <td>1948.0</td>\n",
       "      <td>3008.0</td>\n",
       "      <td>4909.0</td>\n",
       "      <td>0.112543</td>\n",
       "      <td>0.256114</td>\n",
       "      <td>0.395477</td>\n",
       "      <td>0.645412</td>\n",
       "    </tr>\n",
       "    <tr>\n",
       "      <th>22</th>\n",
       "      <td>Vungle</td>\n",
       "      <td>IMT-Vungle-Android-CA</td>\n",
       "      <td>7539.0</td>\n",
       "      <td>9215.0</td>\n",
       "      <td>0.818123</td>\n",
       "      <td>756.0</td>\n",
       "      <td>1647.0</td>\n",
       "      <td>2839.0</td>\n",
       "      <td>6466.0</td>\n",
       "      <td>0.100279</td>\n",
       "      <td>0.218464</td>\n",
       "      <td>0.376575</td>\n",
       "      <td>0.857673</td>\n",
       "    </tr>\n",
       "    <tr>\n",
       "      <th>23</th>\n",
       "      <td>Vungle</td>\n",
       "      <td>IMT-Vungle-iOS-T2</td>\n",
       "      <td>6256.0</td>\n",
       "      <td>12360.0</td>\n",
       "      <td>0.506149</td>\n",
       "      <td>701.0</td>\n",
       "      <td>2104.0</td>\n",
       "      <td>3168.0</td>\n",
       "      <td>6278.0</td>\n",
       "      <td>0.112052</td>\n",
       "      <td>0.336317</td>\n",
       "      <td>0.506394</td>\n",
       "      <td>1.003517</td>\n",
       "    </tr>\n",
       "    <tr>\n",
       "      <th>24</th>\n",
       "      <td>Facebook</td>\n",
       "      <td>IMT-FB-Android-RoW2-AE-Value-Video-Feed</td>\n",
       "      <td>5869.0</td>\n",
       "      <td>960.0</td>\n",
       "      <td>6.113542</td>\n",
       "      <td>484.0</td>\n",
       "      <td>1478.0</td>\n",
       "      <td>2056.0</td>\n",
       "      <td>3180.0</td>\n",
       "      <td>0.082467</td>\n",
       "      <td>0.251832</td>\n",
       "      <td>0.350315</td>\n",
       "      <td>0.541830</td>\n",
       "    </tr>\n",
       "    <tr>\n",
       "      <th>25</th>\n",
       "      <td>Facebook</td>\n",
       "      <td>IMT-FB-iOS-JP-AE-Playables</td>\n",
       "      <td>5513.0</td>\n",
       "      <td>865.0</td>\n",
       "      <td>6.373410</td>\n",
       "      <td>969.0</td>\n",
       "      <td>1636.0</td>\n",
       "      <td>2388.0</td>\n",
       "      <td>3750.0</td>\n",
       "      <td>0.175766</td>\n",
       "      <td>0.296753</td>\n",
       "      <td>0.433158</td>\n",
       "      <td>0.680210</td>\n",
       "    </tr>\n",
       "    <tr>\n",
       "      <th>26</th>\n",
       "      <td>Facebook</td>\n",
       "      <td>IMT-FB-Android-AI-WW</td>\n",
       "      <td>4630.0</td>\n",
       "      <td>29949.0</td>\n",
       "      <td>0.154596</td>\n",
       "      <td>197.0</td>\n",
       "      <td>380.0</td>\n",
       "      <td>564.0</td>\n",
       "      <td>922.0</td>\n",
       "      <td>0.042549</td>\n",
       "      <td>0.082073</td>\n",
       "      <td>0.121814</td>\n",
       "      <td>0.199136</td>\n",
       "    </tr>\n",
       "    <tr>\n",
       "      <th>27</th>\n",
       "      <td>Facebook</td>\n",
       "      <td>IMT-FB-iOS-EN-US-AE-Value-mROAS</td>\n",
       "      <td>4226.0</td>\n",
       "      <td>613.0</td>\n",
       "      <td>6.893964</td>\n",
       "      <td>455.0</td>\n",
       "      <td>1157.0</td>\n",
       "      <td>1785.0</td>\n",
       "      <td>3738.0</td>\n",
       "      <td>0.107667</td>\n",
       "      <td>0.273781</td>\n",
       "      <td>0.422385</td>\n",
       "      <td>0.884524</td>\n",
       "    </tr>\n",
       "    <tr>\n",
       "      <th>28</th>\n",
       "      <td>Facebook</td>\n",
       "      <td>IMT-FB-iOS-DE-Value-mROAS</td>\n",
       "      <td>4109.0</td>\n",
       "      <td>657.0</td>\n",
       "      <td>6.254186</td>\n",
       "      <td>286.0</td>\n",
       "      <td>547.0</td>\n",
       "      <td>883.0</td>\n",
       "      <td>1917.0</td>\n",
       "      <td>0.069603</td>\n",
       "      <td>0.133122</td>\n",
       "      <td>0.214894</td>\n",
       "      <td>0.466537</td>\n",
       "    </tr>\n",
       "    <tr>\n",
       "      <th>29</th>\n",
       "      <td>Facebook</td>\n",
       "      <td>IMT-FB-Android-UK-AE-Video-FANRW</td>\n",
       "      <td>3965.0</td>\n",
       "      <td>818.0</td>\n",
       "      <td>4.847188</td>\n",
       "      <td>298.0</td>\n",
       "      <td>631.0</td>\n",
       "      <td>1084.0</td>\n",
       "      <td>1999.0</td>\n",
       "      <td>0.075158</td>\n",
       "      <td>0.159142</td>\n",
       "      <td>0.273392</td>\n",
       "      <td>0.504161</td>\n",
       "    </tr>\n",
       "    <tr>\n",
       "      <th>30</th>\n",
       "      <td>Facebook</td>\n",
       "      <td>IMT-FB-Android-EN2-AE-Value-Video-FANIS</td>\n",
       "      <td>3422.0</td>\n",
       "      <td>203.0</td>\n",
       "      <td>16.857143</td>\n",
       "      <td>77.0</td>\n",
       "      <td>194.0</td>\n",
       "      <td>352.0</td>\n",
       "      <td>537.0</td>\n",
       "      <td>0.022501</td>\n",
       "      <td>0.056692</td>\n",
       "      <td>0.102864</td>\n",
       "      <td>0.156926</td>\n",
       "    </tr>\n",
       "    <tr>\n",
       "      <th>31</th>\n",
       "      <td>Facebook</td>\n",
       "      <td>IMT-FB-iOS-US-AI-Videos</td>\n",
       "      <td>3158.0</td>\n",
       "      <td>2636.0</td>\n",
       "      <td>1.198027</td>\n",
       "      <td>91.0</td>\n",
       "      <td>169.0</td>\n",
       "      <td>211.0</td>\n",
       "      <td>398.0</td>\n",
       "      <td>0.028816</td>\n",
       "      <td>0.053515</td>\n",
       "      <td>0.066814</td>\n",
       "      <td>0.126029</td>\n",
       "    </tr>\n",
       "    <tr>\n",
       "      <th>32</th>\n",
       "      <td>Facebook</td>\n",
       "      <td>IMT-FB-Android-RoW2-AE-Video-FANRW</td>\n",
       "      <td>3101.0</td>\n",
       "      <td>1196.0</td>\n",
       "      <td>2.592809</td>\n",
       "      <td>309.0</td>\n",
       "      <td>697.0</td>\n",
       "      <td>1058.0</td>\n",
       "      <td>1786.0</td>\n",
       "      <td>0.099645</td>\n",
       "      <td>0.224766</td>\n",
       "      <td>0.341180</td>\n",
       "      <td>0.575943</td>\n",
       "    </tr>\n",
       "    <tr>\n",
       "      <th>33</th>\n",
       "      <td>Facebook</td>\n",
       "      <td>IMT-FB-Android-DE-AI-Videos</td>\n",
       "      <td>3076.0</td>\n",
       "      <td>4098.0</td>\n",
       "      <td>0.750610</td>\n",
       "      <td>79.0</td>\n",
       "      <td>180.0</td>\n",
       "      <td>269.0</td>\n",
       "      <td>673.0</td>\n",
       "      <td>0.025683</td>\n",
       "      <td>0.058518</td>\n",
       "      <td>0.087451</td>\n",
       "      <td>0.218791</td>\n",
       "    </tr>\n",
       "    <tr>\n",
       "      <th>34</th>\n",
       "      <td>Facebook</td>\n",
       "      <td>IMT-FB-iOS-RoW-Value-mROAS</td>\n",
       "      <td>2886.0</td>\n",
       "      <td>1836.0</td>\n",
       "      <td>1.571895</td>\n",
       "      <td>357.0</td>\n",
       "      <td>979.0</td>\n",
       "      <td>1501.0</td>\n",
       "      <td>2230.0</td>\n",
       "      <td>0.123701</td>\n",
       "      <td>0.339224</td>\n",
       "      <td>0.520097</td>\n",
       "      <td>0.772696</td>\n",
       "    </tr>\n",
       "    <tr>\n",
       "      <th>35</th>\n",
       "      <td>Facebook</td>\n",
       "      <td>IMT-FB-iOS-RoW-Value-Playables-FANRW</td>\n",
       "      <td>2651.0</td>\n",
       "      <td>537.0</td>\n",
       "      <td>4.936685</td>\n",
       "      <td>311.0</td>\n",
       "      <td>651.0</td>\n",
       "      <td>845.0</td>\n",
       "      <td>1801.0</td>\n",
       "      <td>0.117314</td>\n",
       "      <td>0.245568</td>\n",
       "      <td>0.318748</td>\n",
       "      <td>0.679366</td>\n",
       "    </tr>\n",
       "    <tr>\n",
       "      <th>36</th>\n",
       "      <td>Facebook</td>\n",
       "      <td>IMT-FB-Android-DE-AE-DY</td>\n",
       "      <td>2572.0</td>\n",
       "      <td>580.0</td>\n",
       "      <td>4.434483</td>\n",
       "      <td>254.0</td>\n",
       "      <td>714.0</td>\n",
       "      <td>978.0</td>\n",
       "      <td>1732.0</td>\n",
       "      <td>0.098756</td>\n",
       "      <td>0.277605</td>\n",
       "      <td>0.380249</td>\n",
       "      <td>0.673406</td>\n",
       "    </tr>\n",
       "    <tr>\n",
       "      <th>37</th>\n",
       "      <td>Facebook</td>\n",
       "      <td>IMT-FB-Android-EN2-AE-Value-Video-FANRW</td>\n",
       "      <td>2419.0</td>\n",
       "      <td>213.0</td>\n",
       "      <td>11.356808</td>\n",
       "      <td>138.0</td>\n",
       "      <td>397.0</td>\n",
       "      <td>921.0</td>\n",
       "      <td>1821.0</td>\n",
       "      <td>0.057048</td>\n",
       "      <td>0.164117</td>\n",
       "      <td>0.380736</td>\n",
       "      <td>0.752790</td>\n",
       "    </tr>\n",
       "    <tr>\n",
       "      <th>38</th>\n",
       "      <td>Facebook</td>\n",
       "      <td>IMT-FB-iOS-RoW-AE-Playables-FANIS</td>\n",
       "      <td>2383.0</td>\n",
       "      <td>1772.0</td>\n",
       "      <td>1.344808</td>\n",
       "      <td>198.0</td>\n",
       "      <td>566.0</td>\n",
       "      <td>1455.0</td>\n",
       "      <td>2035.0</td>\n",
       "      <td>0.083089</td>\n",
       "      <td>0.237516</td>\n",
       "      <td>0.610575</td>\n",
       "      <td>0.853966</td>\n",
       "    </tr>\n",
       "    <tr>\n",
       "      <th>39</th>\n",
       "      <td>Facebook</td>\n",
       "      <td>IMT-FB-iOS-US-AE-DY-LAL</td>\n",
       "      <td>2344.0</td>\n",
       "      <td>346.0</td>\n",
       "      <td>6.774566</td>\n",
       "      <td>199.0</td>\n",
       "      <td>396.0</td>\n",
       "      <td>661.0</td>\n",
       "      <td>1214.0</td>\n",
       "      <td>0.084898</td>\n",
       "      <td>0.168942</td>\n",
       "      <td>0.281997</td>\n",
       "      <td>0.517918</td>\n",
       "    </tr>\n",
       "    <tr>\n",
       "      <th>40</th>\n",
       "      <td>Facebook</td>\n",
       "      <td>IMT-FB-iOS-CHT-TW-FAN-AE-Playables-FANRW</td>\n",
       "      <td>2324.0</td>\n",
       "      <td>682.0</td>\n",
       "      <td>3.407625</td>\n",
       "      <td>154.0</td>\n",
       "      <td>410.0</td>\n",
       "      <td>665.0</td>\n",
       "      <td>1191.0</td>\n",
       "      <td>0.066265</td>\n",
       "      <td>0.176420</td>\n",
       "      <td>0.286145</td>\n",
       "      <td>0.512478</td>\n",
       "    </tr>\n",
       "    <tr>\n",
       "      <th>41</th>\n",
       "      <td>Facebook</td>\n",
       "      <td>IMT-FB-Android-EN-AI-Video</td>\n",
       "      <td>2158.0</td>\n",
       "      <td>2524.0</td>\n",
       "      <td>0.854992</td>\n",
       "      <td>67.0</td>\n",
       "      <td>131.0</td>\n",
       "      <td>175.0</td>\n",
       "      <td>297.0</td>\n",
       "      <td>0.031047</td>\n",
       "      <td>0.060704</td>\n",
       "      <td>0.081094</td>\n",
       "      <td>0.137627</td>\n",
       "    </tr>\n",
       "    <tr>\n",
       "      <th>42</th>\n",
       "      <td>Facebook</td>\n",
       "      <td>IMT-FB-iOS-RoW-AE-Playables</td>\n",
       "      <td>2024.0</td>\n",
       "      <td>346.0</td>\n",
       "      <td>5.849711</td>\n",
       "      <td>216.0</td>\n",
       "      <td>466.0</td>\n",
       "      <td>678.0</td>\n",
       "      <td>978.0</td>\n",
       "      <td>0.106719</td>\n",
       "      <td>0.230237</td>\n",
       "      <td>0.334980</td>\n",
       "      <td>0.483202</td>\n",
       "    </tr>\n",
       "    <tr>\n",
       "      <th>43</th>\n",
       "      <td>Facebook</td>\n",
       "      <td>IMT-FB-iOS-EN-US-FANIS-AE-Playables</td>\n",
       "      <td>1956.0</td>\n",
       "      <td>547.0</td>\n",
       "      <td>3.575868</td>\n",
       "      <td>261.0</td>\n",
       "      <td>632.0</td>\n",
       "      <td>948.0</td>\n",
       "      <td>2017.0</td>\n",
       "      <td>0.133436</td>\n",
       "      <td>0.323108</td>\n",
       "      <td>0.484663</td>\n",
       "      <td>1.031186</td>\n",
       "    </tr>\n",
       "    <tr>\n",
       "      <th>44</th>\n",
       "      <td>Facebook</td>\n",
       "      <td>IMT-FB-Android-JP-AE-Playables-FANIS</td>\n",
       "      <td>1409.0</td>\n",
       "      <td>271.0</td>\n",
       "      <td>5.199262</td>\n",
       "      <td>258.0</td>\n",
       "      <td>380.0</td>\n",
       "      <td>551.0</td>\n",
       "      <td>821.0</td>\n",
       "      <td>0.183109</td>\n",
       "      <td>0.269695</td>\n",
       "      <td>0.391057</td>\n",
       "      <td>0.582683</td>\n",
       "    </tr>\n",
       "    <tr>\n",
       "      <th>45</th>\n",
       "      <td>Vungle</td>\n",
       "      <td>IMT-Vungle-Android-DE</td>\n",
       "      <td>1384.0</td>\n",
       "      <td>1881.0</td>\n",
       "      <td>0.735779</td>\n",
       "      <td>54.0</td>\n",
       "      <td>195.0</td>\n",
       "      <td>314.0</td>\n",
       "      <td>682.0</td>\n",
       "      <td>0.039017</td>\n",
       "      <td>0.140896</td>\n",
       "      <td>0.226879</td>\n",
       "      <td>0.492775</td>\n",
       "    </tr>\n",
       "    <tr>\n",
       "      <th>46</th>\n",
       "      <td>Facebook</td>\n",
       "      <td>IMT-FB-iOS-EN-US-FANIS-AE-Playables-LAL(Value)</td>\n",
       "      <td>1222.0</td>\n",
       "      <td>294.0</td>\n",
       "      <td>4.156463</td>\n",
       "      <td>115.0</td>\n",
       "      <td>393.0</td>\n",
       "      <td>529.0</td>\n",
       "      <td>1260.0</td>\n",
       "      <td>0.094108</td>\n",
       "      <td>0.321604</td>\n",
       "      <td>0.432897</td>\n",
       "      <td>1.031097</td>\n",
       "    </tr>\n",
       "    <tr>\n",
       "      <th>47</th>\n",
       "      <td>Facebook</td>\n",
       "      <td>IMT-FB-iOS-EN-T1-AE-Playables - Copy</td>\n",
       "      <td>1208.0</td>\n",
       "      <td>470.0</td>\n",
       "      <td>2.570213</td>\n",
       "      <td>146.0</td>\n",
       "      <td>328.0</td>\n",
       "      <td>527.0</td>\n",
       "      <td>1013.0</td>\n",
       "      <td>0.120861</td>\n",
       "      <td>0.271523</td>\n",
       "      <td>0.436258</td>\n",
       "      <td>0.838576</td>\n",
       "    </tr>\n",
       "    <tr>\n",
       "      <th>48</th>\n",
       "      <td>Facebook</td>\n",
       "      <td>IMT-FB-iOS-Poll-US-AI</td>\n",
       "      <td>1193.0</td>\n",
       "      <td>173.0</td>\n",
       "      <td>6.895954</td>\n",
       "      <td>5.0</td>\n",
       "      <td>10.0</td>\n",
       "      <td>18.0</td>\n",
       "      <td>42.0</td>\n",
       "      <td>0.004191</td>\n",
       "      <td>0.008382</td>\n",
       "      <td>0.015088</td>\n",
       "      <td>0.035205</td>\n",
       "    </tr>\n",
       "    <tr>\n",
       "      <th>49</th>\n",
       "      <td>Facebook</td>\n",
       "      <td>IMT-FB-Android-EN-CA-FANRW-AI-Playable-Creativ...</td>\n",
       "      <td>1183.0</td>\n",
       "      <td>1248.0</td>\n",
       "      <td>0.947917</td>\n",
       "      <td>28.0</td>\n",
       "      <td>85.0</td>\n",
       "      <td>129.0</td>\n",
       "      <td>262.0</td>\n",
       "      <td>0.023669</td>\n",
       "      <td>0.071851</td>\n",
       "      <td>0.109045</td>\n",
       "      <td>0.221471</td>\n",
       "    </tr>\n",
       "    <tr>\n",
       "      <th>50</th>\n",
       "      <td>Facebook</td>\n",
       "      <td>IMT-FB-Android-JP-AE-Playables-FANRW</td>\n",
       "      <td>1178.0</td>\n",
       "      <td>383.0</td>\n",
       "      <td>3.075718</td>\n",
       "      <td>92.0</td>\n",
       "      <td>298.0</td>\n",
       "      <td>520.0</td>\n",
       "      <td>1303.0</td>\n",
       "      <td>0.078098</td>\n",
       "      <td>0.252971</td>\n",
       "      <td>0.441426</td>\n",
       "      <td>1.106112</td>\n",
       "    </tr>\n",
       "    <tr>\n",
       "      <th>51</th>\n",
       "      <td>Facebook</td>\n",
       "      <td>IMT-FB-Android-RoW2-AE-Video-FANIS</td>\n",
       "      <td>1113.0</td>\n",
       "      <td>385.0</td>\n",
       "      <td>2.890909</td>\n",
       "      <td>68.0</td>\n",
       "      <td>128.0</td>\n",
       "      <td>182.0</td>\n",
       "      <td>426.0</td>\n",
       "      <td>0.061096</td>\n",
       "      <td>0.115004</td>\n",
       "      <td>0.163522</td>\n",
       "      <td>0.382749</td>\n",
       "    </tr>\n",
       "    <tr>\n",
       "      <th>52</th>\n",
       "      <td>Facebook</td>\n",
       "      <td>IMT-FB-Android-UK-AE-Video-Stories</td>\n",
       "      <td>1059.0</td>\n",
       "      <td>255.0</td>\n",
       "      <td>4.152941</td>\n",
       "      <td>47.0</td>\n",
       "      <td>80.0</td>\n",
       "      <td>128.0</td>\n",
       "      <td>180.0</td>\n",
       "      <td>0.044381</td>\n",
       "      <td>0.075543</td>\n",
       "      <td>0.120869</td>\n",
       "      <td>0.169972</td>\n",
       "    </tr>\n",
       "    <tr>\n",
       "      <th>53</th>\n",
       "      <td>Facebook</td>\n",
       "      <td>IMT-FB-Android-EN2-AE-Value-Video-Feed</td>\n",
       "      <td>1019.0</td>\n",
       "      <td>102.0</td>\n",
       "      <td>9.990196</td>\n",
       "      <td>105.0</td>\n",
       "      <td>169.0</td>\n",
       "      <td>281.0</td>\n",
       "      <td>576.0</td>\n",
       "      <td>0.103042</td>\n",
       "      <td>0.165849</td>\n",
       "      <td>0.275761</td>\n",
       "      <td>0.565260</td>\n",
       "    </tr>\n",
       "    <tr>\n",
       "      <th>54</th>\n",
       "      <td>Facebook</td>\n",
       "      <td>IMT-FB-iOS-EN-US-Feed-AE-Playables</td>\n",
       "      <td>999.0</td>\n",
       "      <td>62.0</td>\n",
       "      <td>16.112903</td>\n",
       "      <td>17.0</td>\n",
       "      <td>45.0</td>\n",
       "      <td>65.0</td>\n",
       "      <td>111.0</td>\n",
       "      <td>0.017017</td>\n",
       "      <td>0.045045</td>\n",
       "      <td>0.065065</td>\n",
       "      <td>0.111111</td>\n",
       "    </tr>\n",
       "    <tr>\n",
       "      <th>55</th>\n",
       "      <td>Facebook</td>\n",
       "      <td>IMT-FB-Android-EN2-AE-Value-Video-Feed-AllExce...</td>\n",
       "      <td>967.0</td>\n",
       "      <td>79.0</td>\n",
       "      <td>12.240506</td>\n",
       "      <td>64.0</td>\n",
       "      <td>186.0</td>\n",
       "      <td>317.0</td>\n",
       "      <td>547.0</td>\n",
       "      <td>0.066184</td>\n",
       "      <td>0.192347</td>\n",
       "      <td>0.327818</td>\n",
       "      <td>0.565667</td>\n",
       "    </tr>\n",
       "    <tr>\n",
       "      <th>56</th>\n",
       "      <td>Facebook</td>\n",
       "      <td>IMT-FB-iOS-EN-AE-Video-FANIS</td>\n",
       "      <td>785.0</td>\n",
       "      <td>162.0</td>\n",
       "      <td>4.845679</td>\n",
       "      <td>45.0</td>\n",
       "      <td>185.0</td>\n",
       "      <td>272.0</td>\n",
       "      <td>379.0</td>\n",
       "      <td>0.057325</td>\n",
       "      <td>0.235669</td>\n",
       "      <td>0.346497</td>\n",
       "      <td>0.482803</td>\n",
       "    </tr>\n",
       "    <tr>\n",
       "      <th>57</th>\n",
       "      <td>Facebook</td>\n",
       "      <td>IMT-FB-Android-EN-US-Feed-Value-Playables</td>\n",
       "      <td>720.0</td>\n",
       "      <td>69.0</td>\n",
       "      <td>10.434783</td>\n",
       "      <td>23.0</td>\n",
       "      <td>42.0</td>\n",
       "      <td>62.0</td>\n",
       "      <td>101.0</td>\n",
       "      <td>0.031944</td>\n",
       "      <td>0.058333</td>\n",
       "      <td>0.086111</td>\n",
       "      <td>0.140278</td>\n",
       "    </tr>\n",
       "    <tr>\n",
       "      <th>58</th>\n",
       "      <td>Facebook</td>\n",
       "      <td>IMT-FB-Android-RoW2-JP-JP-FANRW-VO-Video</td>\n",
       "      <td>631.0</td>\n",
       "      <td>39.0</td>\n",
       "      <td>16.179487</td>\n",
       "      <td>8.0</td>\n",
       "      <td>62.0</td>\n",
       "      <td>180.0</td>\n",
       "      <td>218.0</td>\n",
       "      <td>0.012678</td>\n",
       "      <td>0.098257</td>\n",
       "      <td>0.285261</td>\n",
       "      <td>0.345483</td>\n",
       "    </tr>\n",
       "    <tr>\n",
       "      <th>59</th>\n",
       "      <td>Facebook</td>\n",
       "      <td>IMT-FB-Android-RoW2-AE-Playables-Feed</td>\n",
       "      <td>630.0</td>\n",
       "      <td>600.0</td>\n",
       "      <td>1.050000</td>\n",
       "      <td>174.0</td>\n",
       "      <td>304.0</td>\n",
       "      <td>465.0</td>\n",
       "      <td>760.0</td>\n",
       "      <td>0.276190</td>\n",
       "      <td>0.482540</td>\n",
       "      <td>0.738095</td>\n",
       "      <td>1.206349</td>\n",
       "    </tr>\n",
       "    <tr>\n",
       "      <th>60</th>\n",
       "      <td>Facebook</td>\n",
       "      <td>IMT-FB-Android-EN2-AE-Value-Video-Feed-AllExce...</td>\n",
       "      <td>583.0</td>\n",
       "      <td>63.0</td>\n",
       "      <td>9.253968</td>\n",
       "      <td>7.0</td>\n",
       "      <td>43.0</td>\n",
       "      <td>79.0</td>\n",
       "      <td>227.0</td>\n",
       "      <td>0.012007</td>\n",
       "      <td>0.073756</td>\n",
       "      <td>0.135506</td>\n",
       "      <td>0.389365</td>\n",
       "    </tr>\n",
       "    <tr>\n",
       "      <th>61</th>\n",
       "      <td>Facebook</td>\n",
       "      <td>IMT-FB-iOS-RoW-AE-Video-Feed</td>\n",
       "      <td>539.0</td>\n",
       "      <td>283.0</td>\n",
       "      <td>1.904594</td>\n",
       "      <td>43.0</td>\n",
       "      <td>158.0</td>\n",
       "      <td>301.0</td>\n",
       "      <td>498.0</td>\n",
       "      <td>0.079777</td>\n",
       "      <td>0.293135</td>\n",
       "      <td>0.558442</td>\n",
       "      <td>0.923933</td>\n",
       "    </tr>\n",
       "    <tr>\n",
       "      <th>62</th>\n",
       "      <td>Facebook</td>\n",
       "      <td>IMT-FB-iOS-RoW-AE-Video-FANIS</td>\n",
       "      <td>534.0</td>\n",
       "      <td>299.0</td>\n",
       "      <td>1.785953</td>\n",
       "      <td>28.0</td>\n",
       "      <td>81.0</td>\n",
       "      <td>151.0</td>\n",
       "      <td>238.0</td>\n",
       "      <td>0.052434</td>\n",
       "      <td>0.151685</td>\n",
       "      <td>0.282772</td>\n",
       "      <td>0.445693</td>\n",
       "    </tr>\n",
       "    <tr>\n",
       "      <th>63</th>\n",
       "      <td>Facebook</td>\n",
       "      <td>IMT-FB-iOS-mROAS-Test0.1</td>\n",
       "      <td>504.0</td>\n",
       "      <td>74.0</td>\n",
       "      <td>6.810811</td>\n",
       "      <td>8.0</td>\n",
       "      <td>119.0</td>\n",
       "      <td>257.0</td>\n",
       "      <td>577.0</td>\n",
       "      <td>0.015873</td>\n",
       "      <td>0.236111</td>\n",
       "      <td>0.509921</td>\n",
       "      <td>1.144841</td>\n",
       "    </tr>\n",
       "    <tr>\n",
       "      <th>64</th>\n",
       "      <td>Facebook</td>\n",
       "      <td>IMT-FB-iOS-EN-US-ALL-AI-Video-CostCap-1DayConv...</td>\n",
       "      <td>427.0</td>\n",
       "      <td>383.0</td>\n",
       "      <td>1.114883</td>\n",
       "      <td>13.0</td>\n",
       "      <td>23.0</td>\n",
       "      <td>27.0</td>\n",
       "      <td>34.0</td>\n",
       "      <td>0.030445</td>\n",
       "      <td>0.053864</td>\n",
       "      <td>0.063232</td>\n",
       "      <td>0.079625</td>\n",
       "    </tr>\n",
       "    <tr>\n",
       "      <th>65</th>\n",
       "      <td>Facebook</td>\n",
       "      <td>IMT-FB-iOS-mROAS-Test0.2</td>\n",
       "      <td>426.0</td>\n",
       "      <td>50.0</td>\n",
       "      <td>8.520000</td>\n",
       "      <td>35.0</td>\n",
       "      <td>84.0</td>\n",
       "      <td>122.0</td>\n",
       "      <td>222.0</td>\n",
       "      <td>0.082160</td>\n",
       "      <td>0.197183</td>\n",
       "      <td>0.286385</td>\n",
       "      <td>0.521127</td>\n",
       "    </tr>\n",
       "    <tr>\n",
       "      <th>66</th>\n",
       "      <td>Facebook</td>\n",
       "      <td>IMT-FB-iOS-US-AE-DY</td>\n",
       "      <td>403.0</td>\n",
       "      <td>43.0</td>\n",
       "      <td>9.372093</td>\n",
       "      <td>7.0</td>\n",
       "      <td>28.0</td>\n",
       "      <td>49.0</td>\n",
       "      <td>70.0</td>\n",
       "      <td>0.017370</td>\n",
       "      <td>0.069479</td>\n",
       "      <td>0.121588</td>\n",
       "      <td>0.173697</td>\n",
       "    </tr>\n",
       "    <tr>\n",
       "      <th>67</th>\n",
       "      <td>Facebook</td>\n",
       "      <td>IMT-FB-iOS-EN-UK-ALL-AI-Video-TargetCost-1DayC...</td>\n",
       "      <td>384.0</td>\n",
       "      <td>267.0</td>\n",
       "      <td>1.438202</td>\n",
       "      <td>4.0</td>\n",
       "      <td>15.0</td>\n",
       "      <td>22.0</td>\n",
       "      <td>43.0</td>\n",
       "      <td>0.010417</td>\n",
       "      <td>0.039062</td>\n",
       "      <td>0.057292</td>\n",
       "      <td>0.111979</td>\n",
       "    </tr>\n",
       "    <tr>\n",
       "      <th>68</th>\n",
       "      <td>Facebook</td>\n",
       "      <td>IMT-FB-iOS-mROAS-Test0.3</td>\n",
       "      <td>383.0</td>\n",
       "      <td>58.0</td>\n",
       "      <td>6.603448</td>\n",
       "      <td>69.0</td>\n",
       "      <td>124.0</td>\n",
       "      <td>201.0</td>\n",
       "      <td>435.0</td>\n",
       "      <td>0.180157</td>\n",
       "      <td>0.323760</td>\n",
       "      <td>0.524804</td>\n",
       "      <td>1.135770</td>\n",
       "    </tr>\n",
       "    <tr>\n",
       "      <th>69</th>\n",
       "      <td>Facebook</td>\n",
       "      <td>IMT-FB-Android-UK-AE-Video-FANIS</td>\n",
       "      <td>379.0</td>\n",
       "      <td>62.0</td>\n",
       "      <td>6.112903</td>\n",
       "      <td>17.0</td>\n",
       "      <td>36.0</td>\n",
       "      <td>44.0</td>\n",
       "      <td>59.0</td>\n",
       "      <td>0.044855</td>\n",
       "      <td>0.094987</td>\n",
       "      <td>0.116095</td>\n",
       "      <td>0.155673</td>\n",
       "    </tr>\n",
       "    <tr>\n",
       "      <th>70</th>\n",
       "      <td>Facebook</td>\n",
       "      <td>IMT-FB-Android-EN2-AE-Value-Playables-Feed</td>\n",
       "      <td>305.0</td>\n",
       "      <td>43.0</td>\n",
       "      <td>7.093023</td>\n",
       "      <td>15.0</td>\n",
       "      <td>89.0</td>\n",
       "      <td>124.0</td>\n",
       "      <td>253.0</td>\n",
       "      <td>0.049180</td>\n",
       "      <td>0.291803</td>\n",
       "      <td>0.406557</td>\n",
       "      <td>0.829508</td>\n",
       "    </tr>\n",
       "    <tr>\n",
       "      <th>71</th>\n",
       "      <td>Facebook</td>\n",
       "      <td>IMT-FB-iOS-Poll-EN-WW-AE</td>\n",
       "      <td>277.0</td>\n",
       "      <td>41.0</td>\n",
       "      <td>6.756098</td>\n",
       "      <td>6.0</td>\n",
       "      <td>11.0</td>\n",
       "      <td>130.0</td>\n",
       "      <td>173.0</td>\n",
       "      <td>0.021661</td>\n",
       "      <td>0.039711</td>\n",
       "      <td>0.469314</td>\n",
       "      <td>0.624549</td>\n",
       "    </tr>\n",
       "    <tr>\n",
       "      <th>72</th>\n",
       "      <td>Facebook</td>\n",
       "      <td>IMT-FB-Android-RoW2-AE-Value-Playables-Feed</td>\n",
       "      <td>276.0</td>\n",
       "      <td>180.0</td>\n",
       "      <td>1.533333</td>\n",
       "      <td>16.0</td>\n",
       "      <td>62.0</td>\n",
       "      <td>86.0</td>\n",
       "      <td>121.0</td>\n",
       "      <td>0.057971</td>\n",
       "      <td>0.224638</td>\n",
       "      <td>0.311594</td>\n",
       "      <td>0.438406</td>\n",
       "    </tr>\n",
       "    <tr>\n",
       "      <th>73</th>\n",
       "      <td>Facebook</td>\n",
       "      <td>IMT-FB-Android-EN2-AE-Playables-Feed</td>\n",
       "      <td>230.0</td>\n",
       "      <td>26.0</td>\n",
       "      <td>8.846154</td>\n",
       "      <td>3.0</td>\n",
       "      <td>10.0</td>\n",
       "      <td>39.0</td>\n",
       "      <td>98.0</td>\n",
       "      <td>0.013043</td>\n",
       "      <td>0.043478</td>\n",
       "      <td>0.169565</td>\n",
       "      <td>0.426087</td>\n",
       "    </tr>\n",
       "    <tr>\n",
       "      <th>74</th>\n",
       "      <td>Facebook</td>\n",
       "      <td>IMT-FB-iOS-CBOCountryTest-Tier-AU/CA/FR</td>\n",
       "      <td>177.0</td>\n",
       "      <td>48.0</td>\n",
       "      <td>3.687500</td>\n",
       "      <td>5.0</td>\n",
       "      <td>26.0</td>\n",
       "      <td>28.0</td>\n",
       "      <td>57.0</td>\n",
       "      <td>0.028249</td>\n",
       "      <td>0.146893</td>\n",
       "      <td>0.158192</td>\n",
       "      <td>0.322034</td>\n",
       "    </tr>\n",
       "    <tr>\n",
       "      <th>75</th>\n",
       "      <td>Facebook</td>\n",
       "      <td>IMT-FB-iOS-Poll-US-AE</td>\n",
       "      <td>173.0</td>\n",
       "      <td>4.0</td>\n",
       "      <td>43.250000</td>\n",
       "      <td>0.0</td>\n",
       "      <td>0.0</td>\n",
       "      <td>0.0</td>\n",
       "      <td>0.0</td>\n",
       "      <td>0.000000</td>\n",
       "      <td>0.000000</td>\n",
       "      <td>0.000000</td>\n",
       "      <td>0.000000</td>\n",
       "    </tr>\n",
       "    <tr>\n",
       "      <th>76</th>\n",
       "      <td>Facebook</td>\n",
       "      <td>IMT-FB-Android-US-AI-Video</td>\n",
       "      <td>160.0</td>\n",
       "      <td>162.0</td>\n",
       "      <td>0.987654</td>\n",
       "      <td>4.0</td>\n",
       "      <td>7.0</td>\n",
       "      <td>8.0</td>\n",
       "      <td>11.0</td>\n",
       "      <td>0.025000</td>\n",
       "      <td>0.043750</td>\n",
       "      <td>0.050000</td>\n",
       "      <td>0.068750</td>\n",
       "    </tr>\n",
       "    <tr>\n",
       "      <th>77</th>\n",
       "      <td>Facebook</td>\n",
       "      <td>IMT-FB-iOS-EN-UK-ALL-AI-Video-TargetCost-1DayC...</td>\n",
       "      <td>122.0</td>\n",
       "      <td>137.0</td>\n",
       "      <td>0.890511</td>\n",
       "      <td>2.0</td>\n",
       "      <td>4.0</td>\n",
       "      <td>5.0</td>\n",
       "      <td>8.0</td>\n",
       "      <td>0.016393</td>\n",
       "      <td>0.032787</td>\n",
       "      <td>0.040984</td>\n",
       "      <td>0.065574</td>\n",
       "    </tr>\n",
       "    <tr>\n",
       "      <th>78</th>\n",
       "      <td>Facebook</td>\n",
       "      <td>IMT-FB-Android-DE-AI-Images</td>\n",
       "      <td>119.0</td>\n",
       "      <td>143.0</td>\n",
       "      <td>0.832168</td>\n",
       "      <td>10.0</td>\n",
       "      <td>15.0</td>\n",
       "      <td>18.0</td>\n",
       "      <td>26.0</td>\n",
       "      <td>0.084034</td>\n",
       "      <td>0.126050</td>\n",
       "      <td>0.151261</td>\n",
       "      <td>0.218487</td>\n",
       "    </tr>\n",
       "    <tr>\n",
       "      <th>79</th>\n",
       "      <td>Facebook</td>\n",
       "      <td>IMT-FB-Android-EN-CA-FANRW-AI-Playable-Creativ...</td>\n",
       "      <td>117.0</td>\n",
       "      <td>103.0</td>\n",
       "      <td>1.135922</td>\n",
       "      <td>2.0</td>\n",
       "      <td>4.0</td>\n",
       "      <td>8.0</td>\n",
       "      <td>42.0</td>\n",
       "      <td>0.017094</td>\n",
       "      <td>0.034188</td>\n",
       "      <td>0.068376</td>\n",
       "      <td>0.358974</td>\n",
       "    </tr>\n",
       "    <tr>\n",
       "      <th>80</th>\n",
       "      <td>Facebook</td>\n",
       "      <td>IMT-FB-iOS-CBOCountryTest-Single-UK</td>\n",
       "      <td>112.0</td>\n",
       "      <td>38.0</td>\n",
       "      <td>2.947368</td>\n",
       "      <td>10.0</td>\n",
       "      <td>17.0</td>\n",
       "      <td>71.0</td>\n",
       "      <td>86.0</td>\n",
       "      <td>0.089286</td>\n",
       "      <td>0.151786</td>\n",
       "      <td>0.633929</td>\n",
       "      <td>0.767857</td>\n",
       "    </tr>\n",
       "    <tr>\n",
       "      <th>81</th>\n",
       "      <td>Facebook</td>\n",
       "      <td>IMT-FB-iOS-CHT-TW-FAN-AE-Playables-FANIS</td>\n",
       "      <td>110.0</td>\n",
       "      <td>33.0</td>\n",
       "      <td>3.333333</td>\n",
       "      <td>3.0</td>\n",
       "      <td>10.0</td>\n",
       "      <td>17.0</td>\n",
       "      <td>30.0</td>\n",
       "      <td>0.027273</td>\n",
       "      <td>0.090909</td>\n",
       "      <td>0.154545</td>\n",
       "      <td>0.272727</td>\n",
       "    </tr>\n",
       "    <tr>\n",
       "      <th>82</th>\n",
       "      <td>Facebook</td>\n",
       "      <td>IMT-FB-iOS-CBOCountryTest-Tier-UK/DE</td>\n",
       "      <td>100.0</td>\n",
       "      <td>29.0</td>\n",
       "      <td>3.448276</td>\n",
       "      <td>1.0</td>\n",
       "      <td>7.0</td>\n",
       "      <td>8.0</td>\n",
       "      <td>11.0</td>\n",
       "      <td>0.010000</td>\n",
       "      <td>0.070000</td>\n",
       "      <td>0.080000</td>\n",
       "      <td>0.110000</td>\n",
       "    </tr>\n",
       "    <tr>\n",
       "      <th>83</th>\n",
       "      <td>Facebook</td>\n",
       "      <td>IMT-FB-iOS-CBOCountryTest-Single-CA</td>\n",
       "      <td>74.0</td>\n",
       "      <td>20.0</td>\n",
       "      <td>3.700000</td>\n",
       "      <td>1.0</td>\n",
       "      <td>7.0</td>\n",
       "      <td>12.0</td>\n",
       "      <td>15.0</td>\n",
       "      <td>0.013514</td>\n",
       "      <td>0.094595</td>\n",
       "      <td>0.162162</td>\n",
       "      <td>0.202703</td>\n",
       "    </tr>\n",
       "    <tr>\n",
       "      <th>84</th>\n",
       "      <td>Facebook</td>\n",
       "      <td>IMT-FB-Android-RoW2-AE-Video-Feed</td>\n",
       "      <td>67.0</td>\n",
       "      <td>12.0</td>\n",
       "      <td>5.583333</td>\n",
       "      <td>1.0</td>\n",
       "      <td>11.0</td>\n",
       "      <td>12.0</td>\n",
       "      <td>14.0</td>\n",
       "      <td>0.014925</td>\n",
       "      <td>0.164179</td>\n",
       "      <td>0.179104</td>\n",
       "      <td>0.208955</td>\n",
       "    </tr>\n",
       "    <tr>\n",
       "      <th>85</th>\n",
       "      <td>Facebook</td>\n",
       "      <td>IMT-FB-iOS-CBOCountryTest-Single-AU</td>\n",
       "      <td>44.0</td>\n",
       "      <td>19.0</td>\n",
       "      <td>2.315789</td>\n",
       "      <td>4.0</td>\n",
       "      <td>12.0</td>\n",
       "      <td>17.0</td>\n",
       "      <td>24.0</td>\n",
       "      <td>0.090909</td>\n",
       "      <td>0.272727</td>\n",
       "      <td>0.386364</td>\n",
       "      <td>0.545455</td>\n",
       "    </tr>\n",
       "    <tr>\n",
       "      <th>86</th>\n",
       "      <td>Facebook</td>\n",
       "      <td>IMT-FB-Android-RoW2-AE-Value-Video-FANIS</td>\n",
       "      <td>41.0</td>\n",
       "      <td>14.0</td>\n",
       "      <td>2.928571</td>\n",
       "      <td>7.0</td>\n",
       "      <td>32.0</td>\n",
       "      <td>54.0</td>\n",
       "      <td>57.0</td>\n",
       "      <td>0.170732</td>\n",
       "      <td>0.780488</td>\n",
       "      <td>1.317073</td>\n",
       "      <td>1.390244</td>\n",
       "    </tr>\n",
       "    <tr>\n",
       "      <th>87</th>\n",
       "      <td>Facebook</td>\n",
       "      <td>IMT-FB-iOS-CBOCountryTest-Single-FR</td>\n",
       "      <td>28.0</td>\n",
       "      <td>11.0</td>\n",
       "      <td>2.545455</td>\n",
       "      <td>7.0</td>\n",
       "      <td>10.0</td>\n",
       "      <td>10.0</td>\n",
       "      <td>11.0</td>\n",
       "      <td>0.250000</td>\n",
       "      <td>0.357143</td>\n",
       "      <td>0.357143</td>\n",
       "      <td>0.392857</td>\n",
       "    </tr>\n",
       "    <tr>\n",
       "      <th>88</th>\n",
       "      <td>Facebook</td>\n",
       "      <td>IMT-FB-Android-EN2-AE-Video-Feed</td>\n",
       "      <td>15.0</td>\n",
       "      <td>1.0</td>\n",
       "      <td>15.000000</td>\n",
       "      <td>0.0</td>\n",
       "      <td>0.0</td>\n",
       "      <td>0.0</td>\n",
       "      <td>4.0</td>\n",
       "      <td>0.000000</td>\n",
       "      <td>0.000000</td>\n",
       "      <td>0.000000</td>\n",
       "      <td>0.266667</td>\n",
       "    </tr>\n",
       "  </tbody>\n",
       "</table>\n",
       "</div>"
      ],
      "text/plain": [
       "   media source                                      campaign name     cost  \\\n",
       "0      Facebook                      IMT-FB-iOS-EN-US-AE-Playables  99061.0   \n",
       "1        Vungle                              IMT-Vungle-Android-US  38479.0   \n",
       "2        Vungle                                  IMT-Vungle-iOS-CN  38209.0   \n",
       "3      Facebook             IMT-FB-Android-RoW2-AE-Playables-FANRW  34746.0   \n",
       "4      Facebook       IMT-FB-Android-RoW2-AE-Value-Playables-FANIS  31662.0   \n",
       "5      Facebook        IMT-FB-Android-EN2-AE-Value-Playables-FANIS  22042.0   \n",
       "6      Facebook              IMT-FB-Android-EN2-AE-Playables-FANRW  20704.0   \n",
       "7      Facebook                      IMT-FB-iOS-EN-T1-AE-Playables  19275.0   \n",
       "8      Facebook                        IMT-FB-iOS-CHS-AE-Playables  15510.0   \n",
       "9        Vungle                                  IMT-Vungle-iOS-AU  14645.0   \n",
       "10       Vungle                                  IMT-Vungle-iOS-UK  13959.0   \n",
       "11       Vungle                                  IMT-Vungle-iOS-CA  13819.0   \n",
       "12       Vungle                              IMT-Vungle-Android-T2  13643.0   \n",
       "13     Facebook                  IMT-FB-iOS-EN-AE-Playables - Copy  12023.0   \n",
       "14       Vungle                              IMT-Vungle-Android-AU  11359.0   \n",
       "15     Facebook                    IMT-FB-Android-DE-AE-Playables2  11132.0   \n",
       "16     Facebook                         IMT-FB-iOS-DE-AE-Playables  10992.0   \n",
       "17       Vungle                              IMT-Vungle-Android-UK  10624.0   \n",
       "18     Facebook                      IMT-FB-Android-DE-Value-mROAS   8360.0   \n",
       "19       Vungle                                  IMT-Vungle-iOS-DE   8064.0   \n",
       "20     Facebook           IMT-FB-Android-RoW2-AE-Value-Video-FANRW   7903.0   \n",
       "21     Facebook             IMT-FB-Android-RoW2-AE-Playables-FANIS   7606.0   \n",
       "22       Vungle                              IMT-Vungle-Android-CA   7539.0   \n",
       "23       Vungle                                  IMT-Vungle-iOS-T2   6256.0   \n",
       "24     Facebook            IMT-FB-Android-RoW2-AE-Value-Video-Feed   5869.0   \n",
       "25     Facebook                         IMT-FB-iOS-JP-AE-Playables   5513.0   \n",
       "26     Facebook                               IMT-FB-Android-AI-WW   4630.0   \n",
       "27     Facebook                    IMT-FB-iOS-EN-US-AE-Value-mROAS   4226.0   \n",
       "28     Facebook                          IMT-FB-iOS-DE-Value-mROAS   4109.0   \n",
       "29     Facebook                   IMT-FB-Android-UK-AE-Video-FANRW   3965.0   \n",
       "30     Facebook            IMT-FB-Android-EN2-AE-Value-Video-FANIS   3422.0   \n",
       "31     Facebook                            IMT-FB-iOS-US-AI-Videos   3158.0   \n",
       "32     Facebook                 IMT-FB-Android-RoW2-AE-Video-FANRW   3101.0   \n",
       "33     Facebook                        IMT-FB-Android-DE-AI-Videos   3076.0   \n",
       "34     Facebook                         IMT-FB-iOS-RoW-Value-mROAS   2886.0   \n",
       "35     Facebook               IMT-FB-iOS-RoW-Value-Playables-FANRW   2651.0   \n",
       "36     Facebook                            IMT-FB-Android-DE-AE-DY   2572.0   \n",
       "37     Facebook            IMT-FB-Android-EN2-AE-Value-Video-FANRW   2419.0   \n",
       "38     Facebook                  IMT-FB-iOS-RoW-AE-Playables-FANIS   2383.0   \n",
       "39     Facebook                            IMT-FB-iOS-US-AE-DY-LAL   2344.0   \n",
       "40     Facebook           IMT-FB-iOS-CHT-TW-FAN-AE-Playables-FANRW   2324.0   \n",
       "41     Facebook                         IMT-FB-Android-EN-AI-Video   2158.0   \n",
       "42     Facebook                        IMT-FB-iOS-RoW-AE-Playables   2024.0   \n",
       "43     Facebook                IMT-FB-iOS-EN-US-FANIS-AE-Playables   1956.0   \n",
       "44     Facebook               IMT-FB-Android-JP-AE-Playables-FANIS   1409.0   \n",
       "45       Vungle                              IMT-Vungle-Android-DE   1384.0   \n",
       "46     Facebook     IMT-FB-iOS-EN-US-FANIS-AE-Playables-LAL(Value)   1222.0   \n",
       "47     Facebook               IMT-FB-iOS-EN-T1-AE-Playables - Copy   1208.0   \n",
       "48     Facebook                              IMT-FB-iOS-Poll-US-AI   1193.0   \n",
       "49     Facebook  IMT-FB-Android-EN-CA-FANRW-AI-Playable-Creativ...   1183.0   \n",
       "50     Facebook               IMT-FB-Android-JP-AE-Playables-FANRW   1178.0   \n",
       "51     Facebook                 IMT-FB-Android-RoW2-AE-Video-FANIS   1113.0   \n",
       "52     Facebook                 IMT-FB-Android-UK-AE-Video-Stories   1059.0   \n",
       "53     Facebook             IMT-FB-Android-EN2-AE-Value-Video-Feed   1019.0   \n",
       "54     Facebook                 IMT-FB-iOS-EN-US-Feed-AE-Playables    999.0   \n",
       "55     Facebook  IMT-FB-Android-EN2-AE-Value-Video-Feed-AllExce...    967.0   \n",
       "56     Facebook                       IMT-FB-iOS-EN-AE-Video-FANIS    785.0   \n",
       "57     Facebook          IMT-FB-Android-EN-US-Feed-Value-Playables    720.0   \n",
       "58     Facebook           IMT-FB-Android-RoW2-JP-JP-FANRW-VO-Video    631.0   \n",
       "59     Facebook              IMT-FB-Android-RoW2-AE-Playables-Feed    630.0   \n",
       "60     Facebook  IMT-FB-Android-EN2-AE-Value-Video-Feed-AllExce...    583.0   \n",
       "61     Facebook                       IMT-FB-iOS-RoW-AE-Video-Feed    539.0   \n",
       "62     Facebook                      IMT-FB-iOS-RoW-AE-Video-FANIS    534.0   \n",
       "63     Facebook                           IMT-FB-iOS-mROAS-Test0.1    504.0   \n",
       "64     Facebook  IMT-FB-iOS-EN-US-ALL-AI-Video-CostCap-1DayConv...    427.0   \n",
       "65     Facebook                           IMT-FB-iOS-mROAS-Test0.2    426.0   \n",
       "66     Facebook                                IMT-FB-iOS-US-AE-DY    403.0   \n",
       "67     Facebook  IMT-FB-iOS-EN-UK-ALL-AI-Video-TargetCost-1DayC...    384.0   \n",
       "68     Facebook                           IMT-FB-iOS-mROAS-Test0.3    383.0   \n",
       "69     Facebook                   IMT-FB-Android-UK-AE-Video-FANIS    379.0   \n",
       "70     Facebook         IMT-FB-Android-EN2-AE-Value-Playables-Feed    305.0   \n",
       "71     Facebook                           IMT-FB-iOS-Poll-EN-WW-AE    277.0   \n",
       "72     Facebook        IMT-FB-Android-RoW2-AE-Value-Playables-Feed    276.0   \n",
       "73     Facebook               IMT-FB-Android-EN2-AE-Playables-Feed    230.0   \n",
       "74     Facebook            IMT-FB-iOS-CBOCountryTest-Tier-AU/CA/FR    177.0   \n",
       "75     Facebook                              IMT-FB-iOS-Poll-US-AE    173.0   \n",
       "76     Facebook                         IMT-FB-Android-US-AI-Video    160.0   \n",
       "77     Facebook  IMT-FB-iOS-EN-UK-ALL-AI-Video-TargetCost-1DayC...    122.0   \n",
       "78     Facebook                        IMT-FB-Android-DE-AI-Images    119.0   \n",
       "79     Facebook  IMT-FB-Android-EN-CA-FANRW-AI-Playable-Creativ...    117.0   \n",
       "80     Facebook                IMT-FB-iOS-CBOCountryTest-Single-UK    112.0   \n",
       "81     Facebook           IMT-FB-iOS-CHT-TW-FAN-AE-Playables-FANIS    110.0   \n",
       "82     Facebook               IMT-FB-iOS-CBOCountryTest-Tier-UK/DE    100.0   \n",
       "83     Facebook                IMT-FB-iOS-CBOCountryTest-Single-CA     74.0   \n",
       "84     Facebook                  IMT-FB-Android-RoW2-AE-Video-Feed     67.0   \n",
       "85     Facebook                IMT-FB-iOS-CBOCountryTest-Single-AU     44.0   \n",
       "86     Facebook           IMT-FB-Android-RoW2-AE-Value-Video-FANIS     41.0   \n",
       "87     Facebook                IMT-FB-iOS-CBOCountryTest-Single-FR     28.0   \n",
       "88     Facebook                   IMT-FB-Android-EN2-AE-Video-Feed     15.0   \n",
       "\n",
       "    installs        cpi  d01 total revenue  d03 total revenue  \\\n",
       "0    21382.0   4.632916            10404.0            25694.0   \n",
       "1    50858.0   0.756597             3632.0             9679.0   \n",
       "2    41000.0   0.931927             8537.0            20598.0   \n",
       "3    55891.0   0.621674             4360.0            10565.0   \n",
       "4    19196.0   1.649406             3952.0             9824.0   \n",
       "5     3265.0   6.750995             2436.0             7449.0   \n",
       "6     4917.0   4.210698             1812.0             4994.0   \n",
       "7     6769.0   2.847540             1876.0             4772.0   \n",
       "8     3886.0   3.991251             2281.0             5370.0   \n",
       "9    16358.0   0.895281             1351.0             3603.0   \n",
       "10   17876.0   0.780879             1218.0             3168.0   \n",
       "11   18784.0   0.735679             1389.0             3624.0   \n",
       "12   38131.0   0.357793              978.0             2844.0   \n",
       "13    4247.0   2.830939             1201.0             3047.0   \n",
       "14   10126.0   1.121766              782.0             2202.0   \n",
       "15    4227.0   2.633546             1827.0             4601.0   \n",
       "16    2931.0   3.750256             1013.0             2446.0   \n",
       "17   14668.0   0.724298              866.0             2197.0   \n",
       "18    1778.0   4.701912              984.0             1956.0   \n",
       "19   10855.0   0.742883             1000.0             2464.0   \n",
       "20    1358.0   5.819588              569.0             1653.0   \n",
       "21    8894.0   0.855183              856.0             1948.0   \n",
       "22    9215.0   0.818123              756.0             1647.0   \n",
       "23   12360.0   0.506149              701.0             2104.0   \n",
       "24     960.0   6.113542              484.0             1478.0   \n",
       "25     865.0   6.373410              969.0             1636.0   \n",
       "26   29949.0   0.154596              197.0              380.0   \n",
       "27     613.0   6.893964              455.0             1157.0   \n",
       "28     657.0   6.254186              286.0              547.0   \n",
       "29     818.0   4.847188              298.0              631.0   \n",
       "30     203.0  16.857143               77.0              194.0   \n",
       "31    2636.0   1.198027               91.0              169.0   \n",
       "32    1196.0   2.592809              309.0              697.0   \n",
       "33    4098.0   0.750610               79.0              180.0   \n",
       "34    1836.0   1.571895              357.0              979.0   \n",
       "35     537.0   4.936685              311.0              651.0   \n",
       "36     580.0   4.434483              254.0              714.0   \n",
       "37     213.0  11.356808              138.0              397.0   \n",
       "38    1772.0   1.344808              198.0              566.0   \n",
       "39     346.0   6.774566              199.0              396.0   \n",
       "40     682.0   3.407625              154.0              410.0   \n",
       "41    2524.0   0.854992               67.0              131.0   \n",
       "42     346.0   5.849711              216.0              466.0   \n",
       "43     547.0   3.575868              261.0              632.0   \n",
       "44     271.0   5.199262              258.0              380.0   \n",
       "45    1881.0   0.735779               54.0              195.0   \n",
       "46     294.0   4.156463              115.0              393.0   \n",
       "47     470.0   2.570213              146.0              328.0   \n",
       "48     173.0   6.895954                5.0               10.0   \n",
       "49    1248.0   0.947917               28.0               85.0   \n",
       "50     383.0   3.075718               92.0              298.0   \n",
       "51     385.0   2.890909               68.0              128.0   \n",
       "52     255.0   4.152941               47.0               80.0   \n",
       "53     102.0   9.990196              105.0              169.0   \n",
       "54      62.0  16.112903               17.0               45.0   \n",
       "55      79.0  12.240506               64.0              186.0   \n",
       "56     162.0   4.845679               45.0              185.0   \n",
       "57      69.0  10.434783               23.0               42.0   \n",
       "58      39.0  16.179487                8.0               62.0   \n",
       "59     600.0   1.050000              174.0              304.0   \n",
       "60      63.0   9.253968                7.0               43.0   \n",
       "61     283.0   1.904594               43.0              158.0   \n",
       "62     299.0   1.785953               28.0               81.0   \n",
       "63      74.0   6.810811                8.0              119.0   \n",
       "64     383.0   1.114883               13.0               23.0   \n",
       "65      50.0   8.520000               35.0               84.0   \n",
       "66      43.0   9.372093                7.0               28.0   \n",
       "67     267.0   1.438202                4.0               15.0   \n",
       "68      58.0   6.603448               69.0              124.0   \n",
       "69      62.0   6.112903               17.0               36.0   \n",
       "70      43.0   7.093023               15.0               89.0   \n",
       "71      41.0   6.756098                6.0               11.0   \n",
       "72     180.0   1.533333               16.0               62.0   \n",
       "73      26.0   8.846154                3.0               10.0   \n",
       "74      48.0   3.687500                5.0               26.0   \n",
       "75       4.0  43.250000                0.0                0.0   \n",
       "76     162.0   0.987654                4.0                7.0   \n",
       "77     137.0   0.890511                2.0                4.0   \n",
       "78     143.0   0.832168               10.0               15.0   \n",
       "79     103.0   1.135922                2.0                4.0   \n",
       "80      38.0   2.947368               10.0               17.0   \n",
       "81      33.0   3.333333                3.0               10.0   \n",
       "82      29.0   3.448276                1.0                7.0   \n",
       "83      20.0   3.700000                1.0                7.0   \n",
       "84      12.0   5.583333                1.0               11.0   \n",
       "85      19.0   2.315789                4.0               12.0   \n",
       "86      14.0   2.928571                7.0               32.0   \n",
       "87      11.0   2.545455                7.0               10.0   \n",
       "88       1.0  15.000000                0.0                0.0   \n",
       "\n",
       "    d07 total revenue  d30 total revenue  d01_roas  d03_roas  d07_roas  \\\n",
       "0             39231.0            74185.0  0.105026  0.259376  0.396029   \n",
       "1             15095.0            26216.0  0.094389  0.251540  0.392292   \n",
       "2             31850.0            55175.0  0.223429  0.539088  0.833573   \n",
       "3             16080.0            29437.0  0.125482  0.304064  0.462787   \n",
       "4             14728.0            26026.0  0.124818  0.310277  0.465163   \n",
       "5             11112.0            19517.0  0.110516  0.337946  0.504128   \n",
       "6              8081.0            15087.0  0.087519  0.241209  0.390311   \n",
       "7              7812.0            14826.0  0.097328  0.247575  0.405292   \n",
       "8              7943.0            11948.0  0.147066  0.346228  0.512121   \n",
       "9              5761.0            11386.0  0.092250  0.246023  0.393377   \n",
       "10             5814.0            13614.0  0.087256  0.226950  0.416505   \n",
       "11             5626.0            11344.0  0.100514  0.262248  0.407121   \n",
       "12             4809.0            10820.0  0.071685  0.208459  0.352488   \n",
       "13             4796.0             8761.0  0.099892  0.253431  0.398902   \n",
       "14             3609.0             7488.0  0.068844  0.193855  0.317722   \n",
       "15             6828.0            13526.0  0.164121  0.413313  0.613367   \n",
       "16             3910.0             8089.0  0.092158  0.222525  0.355713   \n",
       "17             3655.0             7524.0  0.081514  0.206796  0.344032   \n",
       "18             2749.0             5089.0  0.117703  0.233971  0.328828   \n",
       "19             4042.0             8310.0  0.124008  0.305556  0.501240   \n",
       "20             2567.0             5004.0  0.071998  0.209161  0.324813   \n",
       "21             3008.0             4909.0  0.112543  0.256114  0.395477   \n",
       "22             2839.0             6466.0  0.100279  0.218464  0.376575   \n",
       "23             3168.0             6278.0  0.112052  0.336317  0.506394   \n",
       "24             2056.0             3180.0  0.082467  0.251832  0.350315   \n",
       "25             2388.0             3750.0  0.175766  0.296753  0.433158   \n",
       "26              564.0              922.0  0.042549  0.082073  0.121814   \n",
       "27             1785.0             3738.0  0.107667  0.273781  0.422385   \n",
       "28              883.0             1917.0  0.069603  0.133122  0.214894   \n",
       "29             1084.0             1999.0  0.075158  0.159142  0.273392   \n",
       "30              352.0              537.0  0.022501  0.056692  0.102864   \n",
       "31              211.0              398.0  0.028816  0.053515  0.066814   \n",
       "32             1058.0             1786.0  0.099645  0.224766  0.341180   \n",
       "33              269.0              673.0  0.025683  0.058518  0.087451   \n",
       "34             1501.0             2230.0  0.123701  0.339224  0.520097   \n",
       "35              845.0             1801.0  0.117314  0.245568  0.318748   \n",
       "36              978.0             1732.0  0.098756  0.277605  0.380249   \n",
       "37              921.0             1821.0  0.057048  0.164117  0.380736   \n",
       "38             1455.0             2035.0  0.083089  0.237516  0.610575   \n",
       "39              661.0             1214.0  0.084898  0.168942  0.281997   \n",
       "40              665.0             1191.0  0.066265  0.176420  0.286145   \n",
       "41              175.0              297.0  0.031047  0.060704  0.081094   \n",
       "42              678.0              978.0  0.106719  0.230237  0.334980   \n",
       "43              948.0             2017.0  0.133436  0.323108  0.484663   \n",
       "44              551.0              821.0  0.183109  0.269695  0.391057   \n",
       "45              314.0              682.0  0.039017  0.140896  0.226879   \n",
       "46              529.0             1260.0  0.094108  0.321604  0.432897   \n",
       "47              527.0             1013.0  0.120861  0.271523  0.436258   \n",
       "48               18.0               42.0  0.004191  0.008382  0.015088   \n",
       "49              129.0              262.0  0.023669  0.071851  0.109045   \n",
       "50              520.0             1303.0  0.078098  0.252971  0.441426   \n",
       "51              182.0              426.0  0.061096  0.115004  0.163522   \n",
       "52              128.0              180.0  0.044381  0.075543  0.120869   \n",
       "53              281.0              576.0  0.103042  0.165849  0.275761   \n",
       "54               65.0              111.0  0.017017  0.045045  0.065065   \n",
       "55              317.0              547.0  0.066184  0.192347  0.327818   \n",
       "56              272.0              379.0  0.057325  0.235669  0.346497   \n",
       "57               62.0              101.0  0.031944  0.058333  0.086111   \n",
       "58              180.0              218.0  0.012678  0.098257  0.285261   \n",
       "59              465.0              760.0  0.276190  0.482540  0.738095   \n",
       "60               79.0              227.0  0.012007  0.073756  0.135506   \n",
       "61              301.0              498.0  0.079777  0.293135  0.558442   \n",
       "62              151.0              238.0  0.052434  0.151685  0.282772   \n",
       "63              257.0              577.0  0.015873  0.236111  0.509921   \n",
       "64               27.0               34.0  0.030445  0.053864  0.063232   \n",
       "65              122.0              222.0  0.082160  0.197183  0.286385   \n",
       "66               49.0               70.0  0.017370  0.069479  0.121588   \n",
       "67               22.0               43.0  0.010417  0.039062  0.057292   \n",
       "68              201.0              435.0  0.180157  0.323760  0.524804   \n",
       "69               44.0               59.0  0.044855  0.094987  0.116095   \n",
       "70              124.0              253.0  0.049180  0.291803  0.406557   \n",
       "71              130.0              173.0  0.021661  0.039711  0.469314   \n",
       "72               86.0              121.0  0.057971  0.224638  0.311594   \n",
       "73               39.0               98.0  0.013043  0.043478  0.169565   \n",
       "74               28.0               57.0  0.028249  0.146893  0.158192   \n",
       "75                0.0                0.0  0.000000  0.000000  0.000000   \n",
       "76                8.0               11.0  0.025000  0.043750  0.050000   \n",
       "77                5.0                8.0  0.016393  0.032787  0.040984   \n",
       "78               18.0               26.0  0.084034  0.126050  0.151261   \n",
       "79                8.0               42.0  0.017094  0.034188  0.068376   \n",
       "80               71.0               86.0  0.089286  0.151786  0.633929   \n",
       "81               17.0               30.0  0.027273  0.090909  0.154545   \n",
       "82                8.0               11.0  0.010000  0.070000  0.080000   \n",
       "83               12.0               15.0  0.013514  0.094595  0.162162   \n",
       "84               12.0               14.0  0.014925  0.164179  0.179104   \n",
       "85               17.0               24.0  0.090909  0.272727  0.386364   \n",
       "86               54.0               57.0  0.170732  0.780488  1.317073   \n",
       "87               10.0               11.0  0.250000  0.357143  0.357143   \n",
       "88                0.0                4.0  0.000000  0.000000  0.000000   \n",
       "\n",
       "    d30_roas  \n",
       "0   0.748882  \n",
       "1   0.681307  \n",
       "2   1.444032  \n",
       "3   0.847205  \n",
       "4   0.821995  \n",
       "5   0.885446  \n",
       "6   0.728700  \n",
       "7   0.769183  \n",
       "8   0.770342  \n",
       "9   0.777467  \n",
       "10  0.975285  \n",
       "11  0.820899  \n",
       "12  0.793081  \n",
       "13  0.728687  \n",
       "14  0.659213  \n",
       "15  1.215056  \n",
       "16  0.735899  \n",
       "17  0.708208  \n",
       "18  0.608732  \n",
       "19  1.030506  \n",
       "20  0.633177  \n",
       "21  0.645412  \n",
       "22  0.857673  \n",
       "23  1.003517  \n",
       "24  0.541830  \n",
       "25  0.680210  \n",
       "26  0.199136  \n",
       "27  0.884524  \n",
       "28  0.466537  \n",
       "29  0.504161  \n",
       "30  0.156926  \n",
       "31  0.126029  \n",
       "32  0.575943  \n",
       "33  0.218791  \n",
       "34  0.772696  \n",
       "35  0.679366  \n",
       "36  0.673406  \n",
       "37  0.752790  \n",
       "38  0.853966  \n",
       "39  0.517918  \n",
       "40  0.512478  \n",
       "41  0.137627  \n",
       "42  0.483202  \n",
       "43  1.031186  \n",
       "44  0.582683  \n",
       "45  0.492775  \n",
       "46  1.031097  \n",
       "47  0.838576  \n",
       "48  0.035205  \n",
       "49  0.221471  \n",
       "50  1.106112  \n",
       "51  0.382749  \n",
       "52  0.169972  \n",
       "53  0.565260  \n",
       "54  0.111111  \n",
       "55  0.565667  \n",
       "56  0.482803  \n",
       "57  0.140278  \n",
       "58  0.345483  \n",
       "59  1.206349  \n",
       "60  0.389365  \n",
       "61  0.923933  \n",
       "62  0.445693  \n",
       "63  1.144841  \n",
       "64  0.079625  \n",
       "65  0.521127  \n",
       "66  0.173697  \n",
       "67  0.111979  \n",
       "68  1.135770  \n",
       "69  0.155673  \n",
       "70  0.829508  \n",
       "71  0.624549  \n",
       "72  0.438406  \n",
       "73  0.426087  \n",
       "74  0.322034  \n",
       "75  0.000000  \n",
       "76  0.068750  \n",
       "77  0.065574  \n",
       "78  0.218487  \n",
       "79  0.358974  \n",
       "80  0.767857  \n",
       "81  0.272727  \n",
       "82  0.110000  \n",
       "83  0.202703  \n",
       "84  0.208955  \n",
       "85  0.545455  \n",
       "86  1.390244  \n",
       "87  0.392857  \n",
       "88  0.266667  "
      ]
     },
     "execution_count": 62,
     "metadata": {},
     "output_type": "execute_result"
    }
   ],
   "source": [
    "# Ordering columns to display\n",
    "df = df[[\"media source\",\"campaign name\",\"cost\",\"installs\",\"cpi\",\n",
    "         \"d01 total revenue\",\"d03 total revenue\",\"d07 total revenue\",\n",
    "         \"d30 total revenue\",\"d01_roas\",\"d03_roas\",\"d07_roas\",\"d30_roas\"]].copy()\n",
    "\n",
    "pd.set_option('display.max_rows', 120) # Display all rows\n",
    "\n",
    "df # display the entire dataset"
   ]
  },
  {
   "cell_type": "markdown",
   "metadata": {},
   "source": [
    "---"
   ]
  },
  {
   "cell_type": "markdown",
   "metadata": {},
   "source": [
    "Report concluded."
   ]
  }
 ],
 "metadata": {
  "colab": {
   "collapsed_sections": [],
   "name": "Marketing Data Analyst - Pre Task.ipynb",
   "provenance": []
  },
  "kernelspec": {
   "display_name": "Python 3",
   "language": "python",
   "name": "python3"
  },
  "language_info": {
   "codemirror_mode": {
    "name": "ipython",
    "version": 3
   },
   "file_extension": ".py",
   "mimetype": "text/x-python",
   "name": "python",
   "nbconvert_exporter": "python",
   "pygments_lexer": "ipython3",
   "version": "3.7.6"
  }
 },
 "nbformat": 4,
 "nbformat_minor": 4
}
